{
 "cells": [
  {
   "attachments": {},
   "cell_type": "markdown",
   "metadata": {},
   "source": [
    "# Effect of Absolute and Relative Time References"
   ]
  },
  {
   "cell_type": "code",
   "execution_count": 2,
   "metadata": {},
   "outputs": [],
   "source": [
    "import re\n",
    "import pandas as pd\n",
    "\n",
    "\n",
    "\n",
    "# question_type = 'time'\n",
    "# data = pd.read_csv('/home/wallat/temporal-llms/data/ArchivalQA/splits/ArchivalQATime/ArchivalQATime_train.csv')\n",
    "# questions = data[\"Question\"].to_list()\n",
    "\n",
    "# found = []\n",
    "# years = []\n",
    "\n",
    "# num_found = 0\n",
    "# for question in questions:\n",
    "#     try:\n",
    "#         years.append(int(re.search(r\"in (\\d{4})\\?\", question).group(1)))\n",
    "#         num_found += 1\n",
    "#         found.append(question)\n",
    "#     except:\n",
    "#         # print(question)\n",
    "#         ...\n",
    "\n",
    "# print(f\"Found {num_found} questions containing year numbers in the list of {len(questions)} questions\")\n",
    "# print(\"Minimum: \", min(years))\n",
    "# print(\"Maximum: \", max(years))"
   ]
  },
  {
   "cell_type": "code",
   "execution_count": 3,
   "metadata": {},
   "outputs": [],
   "source": [
    "# Examples:\n",
    "\n",
    "# for q, y in zip(found, years):\n",
    "#     print(\"Question before: \", q)\n",
    "\n",
    "#     q_relative = q.replace(f\"in {y}\", f\"{reference_year-y} years ago\")\n",
    "#     print(\"Question after: \", q_relative)"
   ]
  },
  {
   "cell_type": "code",
   "execution_count": 4,
   "metadata": {},
   "outputs": [
    {
     "name": "stdout",
     "output_type": "stream",
     "text": [
      "Found 27130 questions in the given format\n"
     ]
    }
   ],
   "source": [
    "# Create dataset of QA pairs that have the ovious year number format (e.g., \"What happened <in 1995>?\")\n",
    "# next, also create a dataset with these QA pairs reformulated to relative time references\n",
    "\n",
    "# reference_year = 2023\n",
    "# reference_year = \"random\"\n",
    "# reference_year = \"off-by-20\"\n",
    "data = pd.read_csv('/home/wallat/temporal-llms/data/ArchivalQA/splits/ArchivalQATime/ArchivalQATime_train.csv')\n",
    "questions = data[\"Question\"].to_list()\n",
    "\n",
    "\n",
    "question_indices = []\n",
    "years = []\n",
    "\n",
    "num_found = 0\n",
    "for index, question in enumerate(questions):\n",
    "    try:\n",
    "        years.append(int(re.search(r\"in (\\d{4})\\?\", question).group(1)))\n",
    "        num_found += 1\n",
    "        question_indices.append(index)\n",
    "    except:\n",
    "        # print(question)\n",
    "        ...\n",
    "\n",
    "print(f\"Found {len(question_indices)} questions in the given format\")"
   ]
  },
  {
   "cell_type": "code",
   "execution_count": 5,
   "metadata": {},
   "outputs": [
    {
     "data": {
      "text/html": [
       "<div>\n",
       "<style scoped>\n",
       "    .dataframe tbody tr th:only-of-type {\n",
       "        vertical-align: middle;\n",
       "    }\n",
       "\n",
       "    .dataframe tbody tr th {\n",
       "        vertical-align: top;\n",
       "    }\n",
       "\n",
       "    .dataframe thead th {\n",
       "        text-align: right;\n",
       "    }\n",
       "</style>\n",
       "<table border=\"1\" class=\"dataframe\">\n",
       "  <thead>\n",
       "    <tr style=\"text-align: right;\">\n",
       "      <th></th>\n",
       "      <th>id</th>\n",
       "      <th>Question</th>\n",
       "      <th>Answer</th>\n",
       "      <th>org_answer</th>\n",
       "      <th>answer_start</th>\n",
       "      <th>para_id</th>\n",
       "      <th>trans_que</th>\n",
       "      <th>trans_ans</th>\n",
       "      <th>source</th>\n",
       "    </tr>\n",
       "  </thead>\n",
       "  <tbody>\n",
       "    <tr>\n",
       "      <th>0</th>\n",
       "      <td>train_301934</td>\n",
       "      <td>Who did not ordain women until 1994?</td>\n",
       "      <td>The Church of England</td>\n",
       "      <td>The Church of England</td>\n",
       "      <td>130</td>\n",
       "      <td>1200583_3</td>\n",
       "      <td>0</td>\n",
       "      <td>0</td>\n",
       "      <td>wiki</td>\n",
       "    </tr>\n",
       "    <tr>\n",
       "      <th>1</th>\n",
       "      <td>train_204162</td>\n",
       "      <td>What team drafted Kramer in the 1980-81 season?</td>\n",
       "      <td>Mavericks</td>\n",
       "      <td>Mavericks</td>\n",
       "      <td>271</td>\n",
       "      <td>156306_8</td>\n",
       "      <td>0</td>\n",
       "      <td>0</td>\n",
       "      <td>rand</td>\n",
       "    </tr>\n",
       "    <tr>\n",
       "      <th>2</th>\n",
       "      <td>train_209581</td>\n",
       "      <td>Who expects Interface to earn $1.15 a share in...</td>\n",
       "      <td>Buckley</td>\n",
       "      <td>Buckley</td>\n",
       "      <td>4</td>\n",
       "      <td>208350_12</td>\n",
       "      <td>0</td>\n",
       "      <td>0</td>\n",
       "      <td>rand</td>\n",
       "    </tr>\n",
       "    <tr>\n",
       "      <th>3</th>\n",
       "      <td>train_103941</td>\n",
       "      <td>Who said Carnival would increase its capacity ...</td>\n",
       "      <td>Chadwick</td>\n",
       "      <td>Chadwick</td>\n",
       "      <td>49</td>\n",
       "      <td>1088556_18</td>\n",
       "      <td>0</td>\n",
       "      <td>0</td>\n",
       "      <td>rand</td>\n",
       "    </tr>\n",
       "    <tr>\n",
       "      <th>4</th>\n",
       "      <td>train_183574</td>\n",
       "      <td>Who imposed martial law on the native Taiwanes...</td>\n",
       "      <td>Nationalists</td>\n",
       "      <td>Nationalists</td>\n",
       "      <td>282</td>\n",
       "      <td>1185858_1</td>\n",
       "      <td>0</td>\n",
       "      <td>0</td>\n",
       "      <td>wiki</td>\n",
       "    </tr>\n",
       "  </tbody>\n",
       "</table>\n",
       "</div>"
      ],
      "text/plain": [
       "             id                                           Question   \n",
       "0  train_301934               Who did not ordain women until 1994?  \\\n",
       "1  train_204162    What team drafted Kramer in the 1980-81 season?   \n",
       "2  train_209581  Who expects Interface to earn $1.15 a share in...   \n",
       "3  train_103941  Who said Carnival would increase its capacity ...   \n",
       "4  train_183574  Who imposed martial law on the native Taiwanes...   \n",
       "\n",
       "                  Answer             org_answer  answer_start     para_id   \n",
       "0  The Church of England  The Church of England           130   1200583_3  \\\n",
       "1              Mavericks              Mavericks           271    156306_8   \n",
       "2                Buckley                Buckley             4   208350_12   \n",
       "3               Chadwick               Chadwick            49  1088556_18   \n",
       "4           Nationalists           Nationalists           282   1185858_1   \n",
       "\n",
       "   trans_que  trans_ans source  \n",
       "0          0          0   wiki  \n",
       "1          0          0   rand  \n",
       "2          0          0   rand  \n",
       "3          0          0   rand  \n",
       "4          0          0   wiki  "
      ]
     },
     "execution_count": 5,
     "metadata": {},
     "output_type": "execute_result"
    }
   ],
   "source": [
    "data.head()"
   ]
  },
  {
   "cell_type": "code",
   "execution_count": 6,
   "metadata": {},
   "outputs": [
    {
     "data": {
      "text/html": [
       "<div>\n",
       "<style scoped>\n",
       "    .dataframe tbody tr th:only-of-type {\n",
       "        vertical-align: middle;\n",
       "    }\n",
       "\n",
       "    .dataframe tbody tr th {\n",
       "        vertical-align: top;\n",
       "    }\n",
       "\n",
       "    .dataframe thead th {\n",
       "        text-align: right;\n",
       "    }\n",
       "</style>\n",
       "<table border=\"1\" class=\"dataframe\">\n",
       "  <thead>\n",
       "    <tr style=\"text-align: right;\">\n",
       "      <th></th>\n",
       "      <th>id</th>\n",
       "      <th>Question</th>\n",
       "      <th>Answer</th>\n",
       "      <th>org_answer</th>\n",
       "      <th>answer_start</th>\n",
       "      <th>para_id</th>\n",
       "      <th>trans_que</th>\n",
       "      <th>trans_ans</th>\n",
       "      <th>source</th>\n",
       "    </tr>\n",
       "  </thead>\n",
       "  <tbody>\n",
       "    <tr>\n",
       "      <th>2</th>\n",
       "      <td>train_209581</td>\n",
       "      <td>Who expects Interface to earn $1.15 a share in...</td>\n",
       "      <td>Buckley</td>\n",
       "      <td>Buckley</td>\n",
       "      <td>4</td>\n",
       "      <td>208350_12</td>\n",
       "      <td>0</td>\n",
       "      <td>0</td>\n",
       "      <td>rand</td>\n",
       "    </tr>\n",
       "    <tr>\n",
       "      <th>5</th>\n",
       "      <td>train_213970</td>\n",
       "      <td>What country did Zia fight in 1971?</td>\n",
       "      <td>India</td>\n",
       "      <td>India</td>\n",
       "      <td>236</td>\n",
       "      <td>172048_16</td>\n",
       "      <td>0</td>\n",
       "      <td>0</td>\n",
       "      <td>wiki</td>\n",
       "    </tr>\n",
       "    <tr>\n",
       "      <th>10</th>\n",
       "      <td>train_423767</td>\n",
       "      <td>Who issued a report on the dangers of Californ...</td>\n",
       "      <td>the Bank of America</td>\n",
       "      <td>the Bank of America</td>\n",
       "      <td>183</td>\n",
       "      <td>898439_44</td>\n",
       "      <td>0</td>\n",
       "      <td>0</td>\n",
       "      <td>rand</td>\n",
       "    </tr>\n",
       "    <tr>\n",
       "      <th>11</th>\n",
       "      <td>train_23251</td>\n",
       "      <td>What is the secularist, nationalist movement t...</td>\n",
       "      <td>the National Liberation Front</td>\n",
       "      <td>the National Liberation Front</td>\n",
       "      <td>74</td>\n",
       "      <td>506279_9</td>\n",
       "      <td>0</td>\n",
       "      <td>0</td>\n",
       "      <td>wiki</td>\n",
       "    </tr>\n",
       "    <tr>\n",
       "      <th>13</th>\n",
       "      <td>train_153174</td>\n",
       "      <td>How much would the state spend on STAR in 2008?</td>\n",
       "      <td>nearly $5 billion</td>\n",
       "      <td>nearly $5 billion</td>\n",
       "      <td>271</td>\n",
       "      <td>1836908_1</td>\n",
       "      <td>1</td>\n",
       "      <td>0</td>\n",
       "      <td>rand</td>\n",
       "    </tr>\n",
       "  </tbody>\n",
       "</table>\n",
       "</div>"
      ],
      "text/plain": [
       "              id                                           Question   \n",
       "2   train_209581  Who expects Interface to earn $1.15 a share in...  \\\n",
       "5   train_213970                What country did Zia fight in 1971?   \n",
       "10  train_423767  Who issued a report on the dangers of Californ...   \n",
       "11   train_23251  What is the secularist, nationalist movement t...   \n",
       "13  train_153174    How much would the state spend on STAR in 2008?   \n",
       "\n",
       "                           Answer                     org_answer   \n",
       "2                         Buckley                        Buckley  \\\n",
       "5                           India                          India   \n",
       "10            the Bank of America            the Bank of America   \n",
       "11  the National Liberation Front  the National Liberation Front   \n",
       "13              nearly $5 billion              nearly $5 billion   \n",
       "\n",
       "    answer_start    para_id  trans_que  trans_ans source  \n",
       "2              4  208350_12          0          0   rand  \n",
       "5            236  172048_16          0          0   wiki  \n",
       "10           183  898439_44          0          0   rand  \n",
       "11            74   506279_9          0          0   wiki  \n",
       "13           271  1836908_1          1          0   rand  "
      ]
     },
     "execution_count": 6,
     "metadata": {},
     "output_type": "execute_result"
    }
   ],
   "source": [
    "filtered = data.iloc[question_indices]\n",
    "# filtered.to_csv(\"data/ArchivalQA/splits/ArchivalQATime/reference_types/absolute_time_reference.csv\", index=False, sep=\"\\t\")\n",
    "filtered.head()"
   ]
  },
  {
   "cell_type": "code",
   "execution_count": 7,
   "metadata": {},
   "outputs": [
    {
     "data": {
      "text/plain": [
       "'train_209581\\tWho expects Interface to earn $1.15 a share in 1988?\\tBuckley\\tBuckley\\t4\\t208350_12\\t0\\t0\\trand\\n'"
      ]
     },
     "execution_count": 7,
     "metadata": {},
     "output_type": "execute_result"
    }
   ],
   "source": [
    "# Load csv file and iterate through lines, replacing years\n",
    "\n",
    "with open('/home/wallat/temporal-llms/data/ArchivalQA/splits/ArchivalQATime/reference_types/absolute_time_reference.csv') as fp:\n",
    "    lines = fp.readlines()\n",
    "\n",
    "lines[1]"
   ]
  },
  {
   "cell_type": "code",
   "execution_count": 8,
   "metadata": {},
   "outputs": [
    {
     "data": {
      "text/plain": [
       "1971"
      ]
     },
     "execution_count": 8,
     "metadata": {},
     "output_type": "execute_result"
    }
   ],
   "source": [
    "years[1]"
   ]
  },
  {
   "cell_type": "code",
   "execution_count": 9,
   "metadata": {},
   "outputs": [],
   "source": [
    "# # Relative\n",
    "\n",
    "# import random\n",
    "# from random import randrange\n",
    "# random.seed(42)\n",
    "\n",
    "# for i, line in enumerate(lines):\n",
    "#     if i == 0:\n",
    "#         continue\n",
    "    \n",
    "#     if reference_year == \"random\":\n",
    "#         # replaces the actual year reference with a random number between 2020 and 1900\n",
    "#         replace_year = randrange(120)+1\n",
    "#         # replace_year = 1900 + randrange(110)+1\n",
    "#         # print(\"yes\")\n",
    "#         # break\n",
    "#     elif reference_year == \"off-by-20\":\n",
    "#         replace_year = 2041-years[i-1]\n",
    "#     else:\n",
    "#         replace_year = reference_year-years[i-1]\n",
    "    \n",
    "\n",
    "#     lines[i] =  lines[i].replace(f\"in {years[i-1]}\", f\"{replace_year} years ago\")  \n",
    "#     # lines[i] =  lines[i].replace(f\"in {years[i-1]}\", f\"in {replace_year}\") \n",
    "\n",
    "# with open(f\"data/ArchivalQA/splits/ArchivalQATime/reference_types/relative_time_reference_{reference_year}.csv\",'w') as file:\n",
    "#     file.writelines(lines)"
   ]
  },
  {
   "cell_type": "code",
   "execution_count": 10,
   "metadata": {},
   "outputs": [],
   "source": [
    "# # Absolute\n",
    "\n",
    "# import random\n",
    "# from random import randrange\n",
    "# random.seed(42)\n",
    "\n",
    "# for reference_year in [\"off-by-2\",\"off-by-3\",\"off-by-5\",\"off-by-7\",\"off-by-10\",\"off-by-15\",\"off-by-20\"]:\n",
    "\n",
    "#     with open('data/ArchivalQA/splits/ArchivalQATime/reference_types/absolute_time_reference.csv') as fp:\n",
    "#         lines = fp.readlines()\n",
    "\n",
    "#     for i, line in enumerate(lines):\n",
    "\n",
    "#         if i == 0:\n",
    "#             continue\n",
    "        \n",
    "#         if reference_year == \"random\":\n",
    "#             # replaces the actual year reference with a random number between 2020 and 1900\n",
    "#             replace_year = randrange(120)+1\n",
    "#             # replace_year = 1900 + randrange(110)+1\n",
    "#             # print(\"yes\")\n",
    "#             # break\n",
    "#         elif reference_year == \"off-by-2\":\n",
    "#             replace_year = years[i-1] + 2\n",
    "#         elif reference_year == \"off-by-3\":\n",
    "#             # print('Yes')\n",
    "#             replace_year = years[i-1] + 3\n",
    "#             # print(\"Orig year: \", years[i-1])\n",
    "#             # print(\"Replace year: \", replace_year)\n",
    "#         elif reference_year == \"off-by-5\":\n",
    "#             replace_year = years[i-1] + 5\n",
    "#         elif reference_year == \"off-by-7\":\n",
    "#             replace_year = years[i-1] + 7\n",
    "#         elif reference_year == \"off-by-10\":\n",
    "#             replace_year = years[i-1] + 10\n",
    "#         elif reference_year == \"off-by-15\":\n",
    "#             replace_year = years[i-1] + 15\n",
    "#         elif reference_year == \"off-by-20\":\n",
    "#             replace_year = years[i-1] + 20\n",
    "#         # else:\n",
    "#         #     replace_year = reference_year-years[i-1]\n",
    "        \n",
    "#         lines[i] =  lines[i].replace(f\"in {years[i-1]}\", f\"in {replace_year}\") \n",
    "\n",
    "#     with open(f\"data/ArchivalQA/splits/ArchivalQATime/reference_types/absolute_time_reference_{reference_year}.csv\",'w') as file:\n",
    "#         file.writelines(lines)"
   ]
  },
  {
   "cell_type": "code",
   "execution_count": 11,
   "metadata": {},
   "outputs": [
    {
     "data": {
      "text/plain": [
       "27131"
      ]
     },
     "execution_count": 11,
     "metadata": {},
     "output_type": "execute_result"
    }
   ],
   "source": [
    "len(lines)"
   ]
  },
  {
   "cell_type": "code",
   "execution_count": 12,
   "metadata": {},
   "outputs": [],
   "source": [
    "# Smaller 3k dataset for testing absolute vs. relative and randomized versions\n",
    "import random\n",
    "random.seed(42)\n",
    "\n",
    "# sample years and questions\n",
    "sample_indices = list(range(1,len(lines)-1))\n",
    "random.shuffle(sample_indices)\n",
    "sample_indices = sample_indices[:3000]"
   ]
  },
  {
   "cell_type": "code",
   "execution_count": 13,
   "metadata": {},
   "outputs": [],
   "source": [
    "reference_year = 2021\n",
    "# sample = random.sample(lines[1:], 3000)\n",
    "# sample.insert(0, lines[0])\n",
    "\n",
    "absolutes = [lines[0]]\n",
    "relatives = [lines[0]]\n",
    "relatives_rand = [lines[0]]\n",
    "absolutes_rand = [lines[0]]\n",
    "\n",
    "for i, sample_index in enumerate(sample_indices):\n",
    "\n",
    "    if i == 0:\n",
    "        i += 1\n",
    "\n",
    "    year = years[sample_index-1]\n",
    "    line = lines[sample_index]\n",
    "\n",
    "    rnd = random.randrange(120)+1\n",
    "    absolute_random_year = 1900 + rnd\n",
    "    relative_random_year = reference_year - absolute_random_year\n",
    "\n",
    "    # Absolute\n",
    "    absolutes.append(line)\n",
    "\n",
    "    # Relative\n",
    "    replace_year = reference_year-year\n",
    "    relatives.append(line.replace(f\"in {year}\", f\"{replace_year} years ago\"))\n",
    "    # print(line)\n",
    "    # print(year)\n",
    "    # break\n",
    "\n",
    "\n",
    "    # Relative random\n",
    "    relatives_rand.append(line.replace(f\"in {year}\", f\"{relative_random_year} years ago\"))\n",
    "\n",
    "    # Absolute random\n",
    "    absolutes_rand.append(line.replace(f\"in {year}\", f\"in {absolute_random_year}\"))\n",
    "\n",
    "with open(f\"/home/wallat/temporal-llms/data/ArchivalQA/splits/ArchivalQATime/reference_types/sample/absolute_time_reference.csv\",'w') as file:\n",
    "    file.writelines(absolutes)\n",
    "\n",
    "with open(f\"/home/wallat/temporal-llms/data/ArchivalQA/splits/ArchivalQATime/reference_types/sample/absolute_random_time_reference.csv\",'w') as file:\n",
    "    file.writelines(absolutes_rand)\n",
    "\n",
    "with open(f\"/home/wallat/temporal-llms/data/ArchivalQA/splits/ArchivalQATime/reference_types/sample/relative_time_reference_{reference_year}.csv\",'w') as file:\n",
    "    file.writelines(relatives)\n",
    "\n",
    "with open(f\"/home/wallat/temporal-llms/data/ArchivalQA/splits/ArchivalQATime/reference_types/sample/relative__random_time_reference_{reference_year}.csv\",'w') as file:\n",
    "    file.writelines(relatives_rand)"
   ]
  },
  {
   "cell_type": "code",
   "execution_count": 14,
   "metadata": {},
   "outputs": [
    {
     "data": {
      "text/plain": [
       "3001"
      ]
     },
     "execution_count": 14,
     "metadata": {},
     "output_type": "execute_result"
    }
   ],
   "source": [
    "len(relatives)"
   ]
  },
  {
   "cell_type": "code",
   "execution_count": 15,
   "metadata": {},
   "outputs": [
    {
     "name": "stdout",
     "output_type": "stream",
     "text": [
      "train_386299\tWhat hurricane hit Cape May in 1993?\tHurricane Emily\tHurricane Emily\t252\t1024450_7\t0\t0\trand\n",
      "\n",
      "train_386299\tWhat hurricane hit Cape May 28 years ago?\tHurricane Emily\tHurricane Emily\t252\t1024450_7\t0\t0\trand\n",
      "\n",
      "train_386299\tWhat hurricane hit Cape May 90 years ago?\tHurricane Emily\tHurricane Emily\t252\t1024450_7\t0\t0\trand\n",
      "\n",
      "train_386299\tWhat hurricane hit Cape May in 1931?\tHurricane Emily\tHurricane Emily\t252\t1024450_7\t0\t0\trand\n",
      "\n"
     ]
    }
   ],
   "source": [
    "i = 1\n",
    "\n",
    "print(absolutes[i])\n",
    "print(relatives[i])\n",
    "print(relatives_rand[i])\n",
    "print(absolutes_rand[i])"
   ]
  }
 ],
 "metadata": {
  "kernelspec": {
   "display_name": "temp",
   "language": "python",
   "name": "python3"
  },
  "language_info": {
   "codemirror_mode": {
    "name": "ipython",
    "version": 3
   },
   "file_extension": ".py",
   "mimetype": "text/x-python",
   "name": "python",
   "nbconvert_exporter": "python",
   "pygments_lexer": "ipython3",
   "version": "3.9.16"
  },
  "orig_nbformat": 4
 },
 "nbformat": 4,
 "nbformat_minor": 2
}
