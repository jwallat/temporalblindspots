{
 "cells": [
  {
   "cell_type": "code",
   "execution_count": 4,
   "metadata": {},
   "outputs": [
    {
     "data": {
      "text/html": [
       "<div>\n",
       "<style scoped>\n",
       "    .dataframe tbody tr th:only-of-type {\n",
       "        vertical-align: middle;\n",
       "    }\n",
       "\n",
       "    .dataframe tbody tr th {\n",
       "        vertical-align: top;\n",
       "    }\n",
       "\n",
       "    .dataframe thead th {\n",
       "        text-align: right;\n",
       "    }\n",
       "</style>\n",
       "<table border=\"1\" class=\"dataframe\">\n",
       "  <thead>\n",
       "    <tr style=\"text-align: right;\">\n",
       "      <th></th>\n",
       "      <th>id</th>\n",
       "      <th>Question</th>\n",
       "      <th>Answer</th>\n",
       "      <th>org_answer</th>\n",
       "      <th>answer_start</th>\n",
       "      <th>para_id</th>\n",
       "      <th>trans_que</th>\n",
       "      <th>trans_ans</th>\n",
       "      <th>source</th>\n",
       "    </tr>\n",
       "  </thead>\n",
       "  <tbody>\n",
       "    <tr>\n",
       "      <th>0</th>\n",
       "      <td>train_386299</td>\n",
       "      <td>What hurricane hit Cape May in 1993?</td>\n",
       "      <td>Hurricane Emily</td>\n",
       "      <td>Hurricane Emily</td>\n",
       "      <td>252</td>\n",
       "      <td>1024450_7</td>\n",
       "      <td>0</td>\n",
       "      <td>0</td>\n",
       "      <td>rand</td>\n",
       "    </tr>\n",
       "    <tr>\n",
       "      <th>1</th>\n",
       "      <td>train_316690</td>\n",
       "      <td>What manned landing on the Moon ended in 1972?</td>\n",
       "      <td>Apollo</td>\n",
       "      <td>Apollo</td>\n",
       "      <td>149</td>\n",
       "      <td>229402_13</td>\n",
       "      <td>0</td>\n",
       "      <td>0</td>\n",
       "      <td>wiki</td>\n",
       "    </tr>\n",
       "    <tr>\n",
       "      <th>2</th>\n",
       "      <td>train_227492</td>\n",
       "      <td>How many drivers died in the crash in 1973?</td>\n",
       "      <td>two</td>\n",
       "      <td>two</td>\n",
       "      <td>130</td>\n",
       "      <td>1077994_6</td>\n",
       "      <td>0</td>\n",
       "      <td>0</td>\n",
       "      <td>wiki</td>\n",
       "    </tr>\n",
       "    <tr>\n",
       "      <th>3</th>\n",
       "      <td>train_218845</td>\n",
       "      <td>How many vehicles did Toyota sell in 1993?</td>\n",
       "      <td>1,033,211</td>\n",
       "      <td>1,033,211</td>\n",
       "      <td>206</td>\n",
       "      <td>660140_6</td>\n",
       "      <td>0</td>\n",
       "      <td>0</td>\n",
       "      <td>rand</td>\n",
       "    </tr>\n",
       "    <tr>\n",
       "      <th>4</th>\n",
       "      <td>train_222155</td>\n",
       "      <td>What airline filed for Chapter 11 bankruptcy i...</td>\n",
       "      <td>Braniff Airways Inc.</td>\n",
       "      <td>Braniff Airways Inc.</td>\n",
       "      <td>9</td>\n",
       "      <td>211708_1</td>\n",
       "      <td>0</td>\n",
       "      <td>0</td>\n",
       "      <td>wiki</td>\n",
       "    </tr>\n",
       "  </tbody>\n",
       "</table>\n",
       "</div>"
      ],
      "text/plain": [
       "             id                                           Question   \n",
       "0  train_386299               What hurricane hit Cape May in 1993?  \\\n",
       "1  train_316690     What manned landing on the Moon ended in 1972?   \n",
       "2  train_227492        How many drivers died in the crash in 1973?   \n",
       "3  train_218845         How many vehicles did Toyota sell in 1993?   \n",
       "4  train_222155  What airline filed for Chapter 11 bankruptcy i...   \n",
       "\n",
       "                 Answer            org_answer  answer_start    para_id   \n",
       "0       Hurricane Emily       Hurricane Emily           252  1024450_7  \\\n",
       "1                Apollo                Apollo           149  229402_13   \n",
       "2                   two                   two           130  1077994_6   \n",
       "3             1,033,211             1,033,211           206   660140_6   \n",
       "4  Braniff Airways Inc.  Braniff Airways Inc.             9   211708_1   \n",
       "\n",
       "   trans_que  trans_ans source  \n",
       "0          0          0   rand  \n",
       "1          0          0   wiki  \n",
       "2          0          0   wiki  \n",
       "3          0          0   rand  \n",
       "4          0          0   wiki  "
      ]
     },
     "execution_count": 4,
     "metadata": {},
     "output_type": "execute_result"
    }
   ],
   "source": [
    "import sys  \n",
    "sys.path.insert(0, '../')\n",
    "\n",
    "from src.evaluation import *\n",
    "import src.utils as utils\n",
    "# import pandas as pd\n",
    "\n",
    "\n",
    "normal_data = utils.load_dataset(\"/home/wallat/temporal-llms/data/ArchivalQA/splits/ArchivalQATime/reference_types/sample/absolute_time_reference.csv\")\n",
    "normal_predictions = utils.load_dataset(\"/home/wallat/temporal-llms/data/predictions/referencing_samples/alpaca-7b_ArchivalQA_abolute-time_sample_gpt_style_predictions.csv\")\n",
    "\n",
    "no_time_data = utils.load_dataset(\"/home/wallat/temporal-llms/data/ArchivalQA/splits/ArchivalQATime/reference_types/sample/no_time_reference.csv\")\n",
    "no_time_predictions = utils.load_dataset(\"/home/wallat/temporal-llms/alpaca-7b_ArchivalQA_no_time_sample_gpt_style_predictions.csv\")\n",
    "\n",
    "normal_data.head()\n",
    "\n"
   ]
  },
  {
   "cell_type": "code",
   "execution_count": 5,
   "metadata": {},
   "outputs": [
    {
     "data": {
      "text/plain": [
       "17.466666666666665"
      ]
     },
     "execution_count": 5,
     "metadata": {},
     "output_type": "execute_result"
    }
   ],
   "source": [
    "# Evaluate\n",
    "\n",
    "\n",
    "def evaluate_and_get_scores(data, model_predictions):\n",
    "    dataset = split_answers_with_multiple_options(data, \"\")\n",
    "\n",
    "    references = convert_to_references(dataset)\n",
    "    predictions = convert_to_predictions(model_predictions)\n",
    "    questions = extract_questions(dataset)\n",
    "\n",
    "    contains, scores = compute_contains_metric(references, predictions)\n",
    "\n",
    "    return contains, scores\n",
    "\n",
    "\n",
    "normal_contains, normal_scores = evaluate_and_get_scores(normal_data, normal_predictions)\n",
    "normal_contains"
   ]
  },
  {
   "cell_type": "code",
   "execution_count": 8,
   "metadata": {},
   "outputs": [
    {
     "data": {
      "text/plain": [
       "[0, 1, 0, 0, 0, 0, 0, 0, 0, 0]"
      ]
     },
     "execution_count": 8,
     "metadata": {},
     "output_type": "execute_result"
    }
   ],
   "source": [
    "normal_scores[:10]"
   ]
  },
  {
   "cell_type": "code",
   "execution_count": 9,
   "metadata": {},
   "outputs": [
    {
     "data": {
      "text/plain": [
       "14.266666666666666"
      ]
     },
     "execution_count": 9,
     "metadata": {},
     "output_type": "execute_result"
    }
   ],
   "source": [
    "no_time_contains, no_time_scores = evaluate_and_get_scores(no_time_data, no_time_predictions)\n",
    "no_time_contains"
   ]
  },
  {
   "cell_type": "code",
   "execution_count": 11,
   "metadata": {},
   "outputs": [
    {
     "data": {
      "text/plain": [
       "array([[2402,   74],\n",
       "       [ 170,  354]])"
      ]
     },
     "execution_count": 11,
     "metadata": {},
     "output_type": "execute_result"
    }
   ],
   "source": [
    "# Confusion matrix \n",
    "from sklearn.metrics import confusion_matrix\n",
    "confusion_matrix(normal_scores, no_time_scores)"
   ]
  },
  {
   "cell_type": "code",
   "execution_count": 12,
   "metadata": {},
   "outputs": [
    {
     "name": "stdout",
     "output_type": "stream",
     "text": [
      "tp:  354\n",
      "fp:  74\n",
      "tn:  2402\n",
      "fn:  170\n"
     ]
    }
   ],
   "source": [
    "tp = 0\n",
    "fp = 0\n",
    "tn = 0\n",
    "fn = 0\n",
    "\n",
    "for time_pred, no_time_pred in zip(normal_scores, no_time_scores):\n",
    "    if time_pred == 1 and no_time_pred == 1:\n",
    "        tp += 1\n",
    "    elif time_pred == 1 and no_time_pred == 0:\n",
    "        fn += 1\n",
    "    elif time_pred == 0 and no_time_pred == 1:\n",
    "        fp += 1\n",
    "    elif time_pred == 0 and no_time_pred == 0:\n",
    "        tn += 1\n",
    "\n",
    "print(\"tp: \", tp)\n",
    "print(\"fp: \", fp)\n",
    "print(\"tn: \", tn)\n",
    "print(\"fn: \", fn)\n"
   ]
  },
  {
   "cell_type": "code",
   "execution_count": 13,
   "metadata": {},
   "outputs": [
    {
     "name": "stdout",
     "output_type": "stream",
     "text": [
      "3000\n"
     ]
    }
   ],
   "source": [
    "print(len(normal_scores))"
   ]
  }
 ],
 "metadata": {
  "kernelspec": {
   "display_name": "temp",
   "language": "python",
   "name": "python3"
  },
  "language_info": {
   "codemirror_mode": {
    "name": "ipython",
    "version": 3
   },
   "file_extension": ".py",
   "mimetype": "text/x-python",
   "name": "python",
   "nbconvert_exporter": "python",
   "pygments_lexer": "ipython3",
   "version": "3.9.16"
  },
  "orig_nbformat": 4
 },
 "nbformat": 4,
 "nbformat_minor": 2
}
