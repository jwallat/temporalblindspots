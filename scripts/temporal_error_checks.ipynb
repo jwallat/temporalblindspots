{
 "cells": [
  {
   "cell_type": "code",
   "execution_count": 7,
   "metadata": {},
   "outputs": [],
   "source": [
    "import sys  \n",
    "sys.path.insert(0, '../')\n",
    "\n",
    "from src.evaluation import *\n",
    "import src.utils as utils\n",
    "# import pandas as pd\n",
    "\n",
    "\n",
    "# normal_data = utils.load_dataset(\"/home/wallat/temporal-llms/data/ArchivalQA/splits/ArchivalQATime/reference_types/sample/absolute_time_reference.csv\")\n",
    "# normal_predictions = utils.load_dataset(\"/home/wallat/temporal-llms/data/predictions/referencing_samples/alpaca-7b_ArchivalQA_abolute-time_sample_gpt_style_predictions.csv\")\n",
    "\n",
    "# no_time_data = utils.load_dataset(\"/home/wallat/temporal-llms/data/ArchivalQA/splits/ArchivalQATime/reference_types/sample/no_time_reference.csv\")\n",
    "# no_time_predictions = utils.load_dataset(\"/home/wallat/temporal-llms/alpaca-7b_ArchivalQA_no_time_sample_gpt_style_predictions.csv\")\n",
    "\n",
    "# normal_data.head()\n"
   ]
  },
  {
   "cell_type": "markdown",
   "metadata": {},
   "source": [
    "## Temporal Shift"
   ]
  },
  {
   "cell_type": "markdown",
   "metadata": {},
   "source": [
    "A temporally-scoped question that will be answered (by a model) with pre/succeeding entity\n",
    "\n",
    "Test: \n",
    "Use the TempLAMA dataset and check for each year whether the model confuses the answer with the ground truth at year-1 & year+1"
   ]
  },
  {
   "cell_type": "code",
   "execution_count": 8,
   "metadata": {},
   "outputs": [],
   "source": [
    "# Load the tempLAMA dataset and predictions\n",
    "templama = utils.load_dataset(\"/home/wallat/temporal-llms/data/templama/preprocessed/templamaQA.csv\")\n",
    "# alpaca_predictions = utils.load_dataset(\"/home/wallat/temporal-llms/data/predictions/alpaca-7b_TempLAMA_all_gpt_style_predictions.csv\")\n",
    "alpaca_predictions = utils.load_dataset(\n",
    "    \"/home/wallat/temporal-llms/data/predictions/red-pajama/7b/datasets/redpajama-incite-7b_TempLAMA_all_tuned_examples_predictions.csv\"\n",
    ")"
   ]
  },
  {
   "cell_type": "code",
   "execution_count": 9,
   "metadata": {},
   "outputs": [
    {
     "data": {
      "text/html": [
       "<div>\n",
       "<style scoped>\n",
       "    .dataframe tbody tr th:only-of-type {\n",
       "        vertical-align: middle;\n",
       "    }\n",
       "\n",
       "    .dataframe tbody tr th {\n",
       "        vertical-align: top;\n",
       "    }\n",
       "\n",
       "    .dataframe thead th {\n",
       "        text-align: right;\n",
       "    }\n",
       "</style>\n",
       "<table border=\"1\" class=\"dataframe\">\n",
       "  <thead>\n",
       "    <tr style=\"text-align: right;\">\n",
       "      <th></th>\n",
       "      <th>q_id</th>\n",
       "      <th>question</th>\n",
       "      <th>answer</th>\n",
       "    </tr>\n",
       "  </thead>\n",
       "  <tbody>\n",
       "    <tr>\n",
       "      <th>0</th>\n",
       "      <td>0</td>\n",
       "      <td>Tom Brady played for which team in 2010?</td>\n",
       "      <td>New England Patriots</td>\n",
       "    </tr>\n",
       "    <tr>\n",
       "      <th>1</th>\n",
       "      <td>1</td>\n",
       "      <td>Tom Brady played for which team in 2011?</td>\n",
       "      <td>New England Patriots</td>\n",
       "    </tr>\n",
       "    <tr>\n",
       "      <th>2</th>\n",
       "      <td>2</td>\n",
       "      <td>Tom Brady played for which team in 2012?</td>\n",
       "      <td>New England Patriots</td>\n",
       "    </tr>\n",
       "    <tr>\n",
       "      <th>3</th>\n",
       "      <td>3</td>\n",
       "      <td>Tom Brady played for which team in 2013?</td>\n",
       "      <td>New England Patriots</td>\n",
       "    </tr>\n",
       "    <tr>\n",
       "      <th>4</th>\n",
       "      <td>4</td>\n",
       "      <td>Tom Brady played for which team in 2014?</td>\n",
       "      <td>New England Patriots</td>\n",
       "    </tr>\n",
       "  </tbody>\n",
       "</table>\n",
       "</div>"
      ],
      "text/plain": [
       "   q_id                                  question                answer\n",
       "0     0  Tom Brady played for which team in 2010?  New England Patriots\n",
       "1     1  Tom Brady played for which team in 2011?  New England Patriots\n",
       "2     2  Tom Brady played for which team in 2012?  New England Patriots\n",
       "3     3  Tom Brady played for which team in 2013?  New England Patriots\n",
       "4     4  Tom Brady played for which team in 2014?  New England Patriots"
      ]
     },
     "execution_count": 9,
     "metadata": {},
     "output_type": "execute_result"
    }
   ],
   "source": [
    "alpaca_predictions.head()"
   ]
  },
  {
   "cell_type": "code",
   "execution_count": 10,
   "metadata": {},
   "outputs": [
    {
     "data": {
      "text/plain": [
       "50310"
      ]
     },
     "execution_count": 10,
     "metadata": {},
     "output_type": "execute_result"
    }
   ],
   "source": [
    "len(alpaca_predictions)"
   ]
  },
  {
   "cell_type": "code",
   "execution_count": 11,
   "metadata": {},
   "outputs": [
    {
     "name": "stdout",
     "output_type": "stream",
     "text": [
      "Tom Brady played for which team in 2010?\n",
      "GT answer:  New England Patriots\n"
     ]
    }
   ],
   "source": [
    "# for all questions where we have a +1/-1 year answer, check if the prediction is shifted\n",
    "\n",
    "# do we only want to consider examples where the ground truth is different for the two years?\n",
    "\n",
    "current_entity = \"\"\n",
    "\n",
    "for _, row in alpaca_predictions.iterrows():\n",
    "    id, question, answer = row\n",
    "    print(question)\n",
    "    print(\"GT answer: \", templama.iloc[id][\"Answer\"])\n",
    "    break"
   ]
  },
  {
   "cell_type": "code",
   "execution_count": 12,
   "metadata": {},
   "outputs": [],
   "source": [
    "from src.utils import load_json\n",
    "\n",
    "template_map = load_json(\"/home/wallat/temporal-llms/data/templama/relation_template_map.json\")\n"
   ]
  },
  {
   "cell_type": "code",
   "execution_count": 13,
   "metadata": {},
   "outputs": [],
   "source": [
    "def find_matching_template(question, template_map):\n",
    "    for template in template_map.values():\n",
    "        template = template.replace(\"<subject>\", \"\")\n",
    "        template = template.replace(\"<object>\", \"\")\n",
    "        template = template.replace(\"<year>?\", \"\")\n",
    "        if template in question:\n",
    "            return template\n",
    "\n",
    "    return None"
   ]
  },
  {
   "cell_type": "code",
   "execution_count": 14,
   "metadata": {},
   "outputs": [
    {
     "data": {
      "text/plain": [
       "' played for which team in '"
      ]
     },
     "execution_count": 14,
     "metadata": {},
     "output_type": "execute_result"
    }
   ],
   "source": [
    "plt = find_matching_template(question, template_map)\n",
    "plt"
   ]
  },
  {
   "cell_type": "code",
   "execution_count": 15,
   "metadata": {},
   "outputs": [],
   "source": [
    "def get_entity(question, template_map):\n",
    "    template = find_matching_template(question, template_map)\n",
    "    if template is None:\n",
    "        return None\n",
    "    \n",
    "    entity = question.split(template)[0]\n",
    "    return entity"
   ]
  },
  {
   "cell_type": "code",
   "execution_count": 16,
   "metadata": {},
   "outputs": [
    {
     "data": {
      "text/plain": [
       "'Tom Brady'"
      ]
     },
     "execution_count": 16,
     "metadata": {},
     "output_type": "execute_result"
    }
   ],
   "source": [
    "entity = get_entity(question, template_map)\n",
    "entity"
   ]
  },
  {
   "cell_type": "code",
   "execution_count": 17,
   "metadata": {},
   "outputs": [
    {
     "data": {
      "text/html": [
       "<div>\n",
       "<style scoped>\n",
       "    .dataframe tbody tr th:only-of-type {\n",
       "        vertical-align: middle;\n",
       "    }\n",
       "\n",
       "    .dataframe tbody tr th {\n",
       "        vertical-align: top;\n",
       "    }\n",
       "\n",
       "    .dataframe thead th {\n",
       "        text-align: right;\n",
       "    }\n",
       "</style>\n",
       "<table border=\"1\" class=\"dataframe\">\n",
       "  <thead>\n",
       "    <tr style=\"text-align: right;\">\n",
       "      <th></th>\n",
       "      <th>Question</th>\n",
       "      <th>Answer</th>\n",
       "    </tr>\n",
       "  </thead>\n",
       "  <tbody>\n",
       "    <tr>\n",
       "      <th>0</th>\n",
       "      <td>Tom Brady played for which team in 2010?</td>\n",
       "      <td>New England Patriots</td>\n",
       "    </tr>\n",
       "    <tr>\n",
       "      <th>1</th>\n",
       "      <td>Tom Brady played for which team in 2011?</td>\n",
       "      <td>New England Patriots</td>\n",
       "    </tr>\n",
       "    <tr>\n",
       "      <th>2</th>\n",
       "      <td>Tom Brady played for which team in 2012?</td>\n",
       "      <td>New England Patriots</td>\n",
       "    </tr>\n",
       "    <tr>\n",
       "      <th>3</th>\n",
       "      <td>Tom Brady played for which team in 2013?</td>\n",
       "      <td>New England Patriots</td>\n",
       "    </tr>\n",
       "    <tr>\n",
       "      <th>4</th>\n",
       "      <td>Tom Brady played for which team in 2014?</td>\n",
       "      <td>New England Patriots</td>\n",
       "    </tr>\n",
       "    <tr>\n",
       "      <th>5</th>\n",
       "      <td>Tom Brady played for which team in 2015?</td>\n",
       "      <td>New England Patriots</td>\n",
       "    </tr>\n",
       "    <tr>\n",
       "      <th>6</th>\n",
       "      <td>Tom Brady played for which team in 2016?</td>\n",
       "      <td>New England Patriots</td>\n",
       "    </tr>\n",
       "    <tr>\n",
       "      <th>7</th>\n",
       "      <td>Tom Brady played for which team in 2017?</td>\n",
       "      <td>New England Patriots</td>\n",
       "    </tr>\n",
       "    <tr>\n",
       "      <th>8</th>\n",
       "      <td>Tom Brady played for which team in 2018?</td>\n",
       "      <td>New England Patriots</td>\n",
       "    </tr>\n",
       "    <tr>\n",
       "      <th>9</th>\n",
       "      <td>Tom Brady played for which team in 2019?</td>\n",
       "      <td>New England Patriots</td>\n",
       "    </tr>\n",
       "    <tr>\n",
       "      <th>10</th>\n",
       "      <td>Tom Brady played for which team in 2020?</td>\n",
       "      <td>Tampa Bay Buccaneers</td>\n",
       "    </tr>\n",
       "  </tbody>\n",
       "</table>\n",
       "</div>"
      ],
      "text/plain": [
       "                                    Question                Answer\n",
       "0   Tom Brady played for which team in 2010?  New England Patriots\n",
       "1   Tom Brady played for which team in 2011?  New England Patriots\n",
       "2   Tom Brady played for which team in 2012?  New England Patriots\n",
       "3   Tom Brady played for which team in 2013?  New England Patriots\n",
       "4   Tom Brady played for which team in 2014?  New England Patriots\n",
       "5   Tom Brady played for which team in 2015?  New England Patriots\n",
       "6   Tom Brady played for which team in 2016?  New England Patriots\n",
       "7   Tom Brady played for which team in 2017?  New England Patriots\n",
       "8   Tom Brady played for which team in 2018?  New England Patriots\n",
       "9   Tom Brady played for which team in 2019?  New England Patriots\n",
       "10  Tom Brady played for which team in 2020?  Tampa Bay Buccaneers"
      ]
     },
     "execution_count": 17,
     "metadata": {},
     "output_type": "execute_result"
    }
   ],
   "source": [
    "def get_all_entity_rows(entity, data):\n",
    "    return data[data[\"Question\"].str.contains(entity)]\n",
    "\n",
    "entity_rows = get_all_entity_rows(\"Tom Brady\", templama)\n",
    "entity_rows"
   ]
  },
  {
   "cell_type": "code",
   "execution_count": 18,
   "metadata": {},
   "outputs": [
    {
     "name": "stderr",
     "output_type": "stream",
     "text": [
      "2023-08-10 13:08:50.159993: W tensorflow/tsl/platform/cloud/google_auth_provider.cc:184] All attempts to get a Google authentication bearer token failed, returning an empty token. Retrieving token from files failed with \"NOT_FOUND: Could not locate the credentials file.\". Retrieving token from GCE failed with \"FAILED_PRECONDITION: Error executing an HTTP request: libcurl code 6 meaning 'Couldn't resolve host name', error details: Could not resolve host: metadata.google.internal\".\n"
     ]
    },
    {
     "data": {
      "text/plain": [
       "True"
      ]
     },
     "execution_count": 18,
     "metadata": {},
     "output_type": "execute_result"
    }
   ],
   "source": [
    "from src.bem import predict as bem_predict\n",
    "from src.evaluation import contains\n",
    "\n",
    "\n",
    "bem, tokenizer, cls_id, sep_id = init_bem_model()\n",
    "\n",
    "def is_equivalent_bem(question, answer, prediction):\n",
    "    if \"__or__\" in answer:\n",
    "        answers = answer.split(\"__or__\")\n",
    "        return is_equivalent_bem(question, answers[0], prediction) or is_equivalent_bem(question, answers[1], prediction)\n",
    "\n",
    "    return bem_predict(bem, question, answer, prediction, tokenizer, cls_id, sep_id) > 0.5\n",
    "\n",
    "def is_equivalent_contains(question, answer, prediction):\n",
    "\n",
    "    if \"__or__\" in answer:\n",
    "        answers = answer.split(\"__or__\")\n",
    "        return is_equivalent_contains(question, answers[0], prediction) or is_equivalent_contains(question, answers[1], prediction)\n",
    "\n",
    "    return contains(answer, prediction)\n",
    "\n",
    "\n",
    "res = is_equivalent_contains(\"Tom Brady played for which team in 2010?\", 'Patriots', \"New England Patriots\")\n",
    "res"
   ]
  },
  {
   "cell_type": "code",
   "execution_count": 19,
   "metadata": {},
   "outputs": [
    {
     "name": "stderr",
     "output_type": "stream",
     "text": [
      " 18%|█▊        | 9290/50310 [00:20<01:32, 442.54it/s]/tmp/ipykernel_677978/4268444313.py:2: UserWarning: This pattern is interpreted as a regular expression, and has match groups. To actually get the groups, use str.extract.\n",
      "  return data[data[\"Question\"].str.contains(entity)]\n",
      " 89%|████████▊ | 44565/50310 [02:09<00:16, 343.24it/s]\n"
     ]
    },
    {
     "ename": "KeyboardInterrupt",
     "evalue": "",
     "output_type": "error",
     "traceback": [
      "\u001b[0;31m---------------------------------------------------------------------------\u001b[0m",
      "\u001b[0;31mKeyboardInterrupt\u001b[0m                         Traceback (most recent call last)",
      "Cell \u001b[0;32mIn[19], line 124\u001b[0m\n\u001b[1;32m     97\u001b[0m             \u001b[39m# print(\"\\n\\n\")\u001b[39;00m\n\u001b[1;32m     98\u001b[0m \n\u001b[1;32m     99\u001b[0m \n\u001b[0;32m   (...)\u001b[0m\n\u001b[1;32m    119\u001b[0m                 \u001b[39m# # TODO: Since we look from both sides, this would be 2 potential shifts?\u001b[39;00m\n\u001b[1;32m    120\u001b[0m                 \u001b[39m# potential_shifts += 1\u001b[39;00m\n\u001b[1;32m    122\u001b[0m     \u001b[39mprint\u001b[39m(\u001b[39mf\u001b[39m\u001b[39m\"\u001b[39m\u001b[39mFound \u001b[39m\u001b[39m{\u001b[39;00mactual_shifts\u001b[39m}\u001b[39;00m\u001b[39m of \u001b[39m\u001b[39m{\u001b[39;00mpotential_shifts\u001b[39m}\u001b[39;00m\u001b[39m shifts\u001b[39m\u001b[39m\"\u001b[39m)\n\u001b[0;32m--> 124\u001b[0m find_temporal_shift_places()\n",
      "Cell \u001b[0;32mIn[19], line 23\u001b[0m, in \u001b[0;36mfind_temporal_shift_places\u001b[0;34m()\u001b[0m\n\u001b[1;32m     20\u001b[0m     \u001b[39mcontinue\u001b[39;00m\n\u001b[1;32m     22\u001b[0m current_entity \u001b[39m=\u001b[39m entity\n\u001b[0;32m---> 23\u001b[0m entity_rows \u001b[39m=\u001b[39m get_all_entity_rows(entity, templama)\n\u001b[1;32m     24\u001b[0m \u001b[39m# print(\"\\n\\n\\nFound new entity: \", entity)\u001b[39;00m\n\u001b[1;32m     25\u001b[0m \u001b[39m# print(\"This entity has \", len(entity_rows), \" rows\")\u001b[39;00m\n\u001b[1;32m     26\u001b[0m \u001b[39m# print(entity_rows)\u001b[39;00m\n\u001b[1;32m     27\u001b[0m \u001b[39m# print(\"\\n\\n\")\u001b[39;00m\n\u001b[1;32m     28\u001b[0m \u001b[39m# if line_id > 100: break\u001b[39;00m\n\u001b[1;32m     29\u001b[0m i \u001b[39m=\u001b[39m \u001b[39m0\u001b[39m\n",
      "Cell \u001b[0;32mIn[17], line 2\u001b[0m, in \u001b[0;36mget_all_entity_rows\u001b[0;34m(entity, data)\u001b[0m\n\u001b[1;32m      1\u001b[0m \u001b[39mdef\u001b[39;00m \u001b[39mget_all_entity_rows\u001b[39m(entity, data):\n\u001b[0;32m----> 2\u001b[0m     \u001b[39mreturn\u001b[39;00m data[data[\u001b[39m\"\u001b[39;49m\u001b[39mQuestion\u001b[39;49m\u001b[39m\"\u001b[39;49m]\u001b[39m.\u001b[39;49mstr\u001b[39m.\u001b[39;49mcontains(entity)]\n",
      "File \u001b[0;32m~/.conda/envs/llm-inference/lib/python3.10/site-packages/pandas/core/strings/accessor.py:128\u001b[0m, in \u001b[0;36mforbid_nonstring_types.<locals>._forbid_nonstring_types.<locals>.wrapper\u001b[0;34m(self, *args, **kwargs)\u001b[0m\n\u001b[1;32m    123\u001b[0m     msg \u001b[39m=\u001b[39m (\n\u001b[1;32m    124\u001b[0m         \u001b[39mf\u001b[39m\u001b[39m\"\u001b[39m\u001b[39mCannot use .str.\u001b[39m\u001b[39m{\u001b[39;00mfunc_name\u001b[39m}\u001b[39;00m\u001b[39m with values of \u001b[39m\u001b[39m\"\u001b[39m\n\u001b[1;32m    125\u001b[0m         \u001b[39mf\u001b[39m\u001b[39m\"\u001b[39m\u001b[39minferred dtype \u001b[39m\u001b[39m'\u001b[39m\u001b[39m{\u001b[39;00m\u001b[39mself\u001b[39m\u001b[39m.\u001b[39m_inferred_dtype\u001b[39m}\u001b[39;00m\u001b[39m'\u001b[39m\u001b[39m.\u001b[39m\u001b[39m\"\u001b[39m\n\u001b[1;32m    126\u001b[0m     )\n\u001b[1;32m    127\u001b[0m     \u001b[39mraise\u001b[39;00m \u001b[39mTypeError\u001b[39;00m(msg)\n\u001b[0;32m--> 128\u001b[0m \u001b[39mreturn\u001b[39;00m func(\u001b[39mself\u001b[39;49m, \u001b[39m*\u001b[39;49margs, \u001b[39m*\u001b[39;49m\u001b[39m*\u001b[39;49mkwargs)\n",
      "File \u001b[0;32m~/.conda/envs/llm-inference/lib/python3.10/site-packages/pandas/core/strings/accessor.py:1246\u001b[0m, in \u001b[0;36mStringMethods.contains\u001b[0;34m(self, pat, case, flags, na, regex)\u001b[0m\n\u001b[1;32m   1238\u001b[0m \u001b[39mif\u001b[39;00m regex \u001b[39mand\u001b[39;00m re\u001b[39m.\u001b[39mcompile(pat)\u001b[39m.\u001b[39mgroups:\n\u001b[1;32m   1239\u001b[0m     warnings\u001b[39m.\u001b[39mwarn(\n\u001b[1;32m   1240\u001b[0m         \u001b[39m\"\u001b[39m\u001b[39mThis pattern is interpreted as a regular expression, and has \u001b[39m\u001b[39m\"\u001b[39m\n\u001b[1;32m   1241\u001b[0m         \u001b[39m\"\u001b[39m\u001b[39mmatch groups. To actually get the groups, use str.extract.\u001b[39m\u001b[39m\"\u001b[39m,\n\u001b[1;32m   1242\u001b[0m         \u001b[39mUserWarning\u001b[39;00m,\n\u001b[1;32m   1243\u001b[0m         stacklevel\u001b[39m=\u001b[39mfind_stack_level(),\n\u001b[1;32m   1244\u001b[0m     )\n\u001b[0;32m-> 1246\u001b[0m result \u001b[39m=\u001b[39m \u001b[39mself\u001b[39;49m\u001b[39m.\u001b[39;49m_data\u001b[39m.\u001b[39;49marray\u001b[39m.\u001b[39;49m_str_contains(pat, case, flags, na, regex)\n\u001b[1;32m   1247\u001b[0m \u001b[39mreturn\u001b[39;00m \u001b[39mself\u001b[39m\u001b[39m.\u001b[39m_wrap_result(result, fill_value\u001b[39m=\u001b[39mna, returns_string\u001b[39m=\u001b[39m\u001b[39mFalse\u001b[39;00m)\n",
      "File \u001b[0;32m~/.conda/envs/llm-inference/lib/python3.10/site-packages/pandas/core/strings/object_array.py:143\u001b[0m, in \u001b[0;36mObjectStringArrayMixin._str_contains\u001b[0;34m(self, pat, case, flags, na, regex)\u001b[0m\n\u001b[1;32m    141\u001b[0m         upper_pat \u001b[39m=\u001b[39m pat\u001b[39m.\u001b[39mupper()\n\u001b[1;32m    142\u001b[0m         f \u001b[39m=\u001b[39m \u001b[39mlambda\u001b[39;00m x: upper_pat \u001b[39min\u001b[39;00m x\u001b[39m.\u001b[39mupper()\n\u001b[0;32m--> 143\u001b[0m \u001b[39mreturn\u001b[39;00m \u001b[39mself\u001b[39;49m\u001b[39m.\u001b[39;49m_str_map(f, na, dtype\u001b[39m=\u001b[39;49mnp\u001b[39m.\u001b[39;49mdtype(\u001b[39m\"\u001b[39;49m\u001b[39mbool\u001b[39;49m\u001b[39m\"\u001b[39;49m))\n",
      "File \u001b[0;32m~/.conda/envs/llm-inference/lib/python3.10/site-packages/pandas/core/strings/object_array.py:76\u001b[0m, in \u001b[0;36mObjectStringArrayMixin._str_map\u001b[0;34m(self, f, na_value, dtype, convert)\u001b[0m\n\u001b[1;32m     74\u001b[0m map_convert \u001b[39m=\u001b[39m convert \u001b[39mand\u001b[39;00m \u001b[39mnot\u001b[39;00m np\u001b[39m.\u001b[39mall(mask)\n\u001b[1;32m     75\u001b[0m \u001b[39mtry\u001b[39;00m:\n\u001b[0;32m---> 76\u001b[0m     result \u001b[39m=\u001b[39m lib\u001b[39m.\u001b[39;49mmap_infer_mask(arr, f, mask\u001b[39m.\u001b[39;49mview(np\u001b[39m.\u001b[39;49muint8), map_convert)\n\u001b[1;32m     77\u001b[0m \u001b[39mexcept\u001b[39;00m (\u001b[39mTypeError\u001b[39;00m, \u001b[39mAttributeError\u001b[39;00m) \u001b[39mas\u001b[39;00m err:\n\u001b[1;32m     78\u001b[0m     \u001b[39m# Reraise the exception if callable `f` got wrong number of args.\u001b[39;00m\n\u001b[1;32m     79\u001b[0m     \u001b[39m# The user may want to be warned by this, instead of getting NaN\u001b[39;00m\n\u001b[1;32m     80\u001b[0m     p_err \u001b[39m=\u001b[39m (\n\u001b[1;32m     81\u001b[0m         \u001b[39mr\u001b[39m\u001b[39m\"\u001b[39m\u001b[39m((takes)|(missing)) (?(2)from \u001b[39m\u001b[39m\\\u001b[39m\u001b[39md+ to )?\u001b[39m\u001b[39m\\\u001b[39m\u001b[39md+ \u001b[39m\u001b[39m\"\u001b[39m\n\u001b[1;32m     82\u001b[0m         \u001b[39mr\u001b[39m\u001b[39m\"\u001b[39m\u001b[39m(?(3)required )positional arguments?\u001b[39m\u001b[39m\"\u001b[39m\n\u001b[1;32m     83\u001b[0m     )\n",
      "File \u001b[0;32m~/.conda/envs/llm-inference/lib/python3.10/site-packages/pandas/_libs/lib.pyx:2786\u001b[0m, in \u001b[0;36mpandas._libs.lib.map_infer_mask\u001b[0;34m()\u001b[0m\n",
      "File \u001b[0;32m~/.conda/envs/llm-inference/lib/python3.10/site-packages/pandas/core/strings/object_array.py:136\u001b[0m, in \u001b[0;36mObjectStringArrayMixin._str_contains.<locals>.<lambda>\u001b[0;34m(x)\u001b[0m\n\u001b[1;32m    132\u001b[0m         flags \u001b[39m|\u001b[39m\u001b[39m=\u001b[39m re\u001b[39m.\u001b[39mIGNORECASE\n\u001b[1;32m    134\u001b[0m     pat \u001b[39m=\u001b[39m re\u001b[39m.\u001b[39mcompile(pat, flags\u001b[39m=\u001b[39mflags)\n\u001b[0;32m--> 136\u001b[0m     f \u001b[39m=\u001b[39m \u001b[39mlambda\u001b[39;00m x: pat\u001b[39m.\u001b[39;49msearch(x) \u001b[39mis\u001b[39;00m \u001b[39mnot\u001b[39;00m \u001b[39mNone\u001b[39;00m\n\u001b[1;32m    137\u001b[0m \u001b[39melse\u001b[39;00m:\n\u001b[1;32m    138\u001b[0m     \u001b[39mif\u001b[39;00m case:\n",
      "\u001b[0;31mKeyboardInterrupt\u001b[0m: "
     ]
    }
   ],
   "source": [
    "# now find all examples where in year + 1 the answer is different\n",
    "\n",
    "# for 2019 see if the given answer matches 2020 gt\n",
    "# for 2020 see if the given answer matches 2019 gt\n",
    "from tqdm import tqdm\n",
    "\n",
    "\n",
    "\n",
    "def find_temporal_shift_places():\n",
    "    current_entity = \"\"\n",
    "\n",
    "    potential_shifts = 0\n",
    "    actual_shifts = 0\n",
    "\n",
    "    for line_id, row in tqdm(alpaca_predictions.iterrows(), total=50310):\n",
    "        _, question, answer = row\n",
    "\n",
    "        entity = get_entity(question, template_map)\n",
    "        if entity == current_entity:\n",
    "            continue\n",
    "\n",
    "        current_entity = entity\n",
    "        entity_rows = get_all_entity_rows(entity, templama)\n",
    "        # print(\"\\n\\n\\nFound new entity: \", entity)\n",
    "        # print(\"This entity has \", len(entity_rows), \" rows\")\n",
    "        # print(entity_rows)\n",
    "        # print(\"\\n\\n\")\n",
    "        # if line_id > 100: break\n",
    "        i = 0\n",
    "        for i, obj in enumerate(entity_rows.iterrows()):\n",
    "            q_id, gt_entity_row = obj\n",
    "            # print(f\"step {i} of {len(entity_rows)}\")\n",
    "            if i == len(entity_rows) - 1: continue\n",
    "\n",
    "            cur_question = gt_entity_row[\"Question\"]\n",
    "            gt_answer = gt_entity_row[\"Answer\"]\n",
    "            next_gt_answer = entity_rows.iloc[i + 1][\"Answer\"]\n",
    "            next_question = entity_rows.iloc[i + 1][\"Question\"]\n",
    "\n",
    "            # print(\"QID: \", q_id)\n",
    "            try:\n",
    "                model_prediction = alpaca_predictions.iloc[q_id][\"answer\"]\n",
    "                next_model_prediction = alpaca_predictions.iloc[q_id + 1][\"answer\"]\n",
    "            except:\n",
    "                print(\"QID: \", q_id)\n",
    "                print(entity_rows)\n",
    "\n",
    "            # Identify temporal shift spots\n",
    "            # TODO: be careful around answers containing __or__\n",
    "            if gt_answer != next_gt_answer:\n",
    "\n",
    "                gt_answers = gt_answer.split(\"__or__\")\n",
    "                next_gt_answers = next_gt_answer.split(\"__or__\")\n",
    "                # print(\"GT answers: \", gt_answers)\n",
    "                # print(\"Next GT answers: \", next_gt_answers)\n",
    "\n",
    "                # # Check forward: year, year + 1\n",
    "                # print(\"********* Forward check *********\")\n",
    "                for gt_ans in gt_answers:\n",
    "                    for next_gt_ans in next_gt_answers:\n",
    "                        if gt_ans == next_gt_ans:\n",
    "                            continue # this is not a shift since both answers are the same\n",
    "                        elif next_gt_ans not in gt_answers:\n",
    "                            # print(f\"\\n\\nFound potential shift spot if gt ({gt_ans}) is predicted as next gt ({next_gt_ans}) by model. Initial question was: {cur_question}\")\n",
    "                            # print(f\"The actual model prediction is {model_prediction}\")\n",
    "                            # print(f\"Shift if model predicted next GT\")\n",
    "                            # print(f\"GT this year: {gt_ans}\")\n",
    "                            # print(f\"GT next year: {next_gt_ans}\")\n",
    "                            # print(f\"Model prediction this year: {model_prediction}\")\n",
    "                            potential_shifts += 1\n",
    "\n",
    "                            if is_equivalent_contains(cur_question, next_gt_ans, model_prediction):\n",
    "                                # print(\"--------> Model prediction matches next gt answer - Found a shift!\")\n",
    "                                actual_shifts += 1\n",
    "\n",
    "                # print(\"********* Backward check *********\")\n",
    "                # Check backward: year + 1, year\n",
    "                for next_gt_ans in next_gt_answers:\n",
    "                    for gt_ans in gt_answers:\n",
    "                        if next_gt_ans == gt_ans:\n",
    "                            continue\n",
    "                        elif gt_ans not in next_gt_answers:\n",
    "                            # print(f\"\\n\\nFound potential shift spot if this gt ({next_gt_ans}) is predicted as previous gt ({gt_ans}) by model. Initial question was: {next_question}\")\n",
    "                            # print(f\"The actual model prediction is {next_model_prediction}\")\n",
    "                            \n",
    "                            # print(f\"Shift if model predicted previous GT\")\n",
    "                            # print(f\"GT this year: {next_gt_ans}\")\n",
    "                            # print(f\"GT previous year: {gt_ans}\")\n",
    "                            # print(f\"Model prediction this year: {next_model_prediction}\")\n",
    "                            potential_shifts += 1\n",
    "\n",
    "                            if is_equivalent_contains(cur_question, gt_ans, next_model_prediction):\n",
    "                                # print(\"--------> Next model prediction matches this gt answer - Found a shift!\")\n",
    "                                actual_shifts += 1\n",
    "\n",
    "\n",
    "            # print(\"\\n\\n\")\n",
    "\n",
    "\n",
    "\n",
    "                # print(\"Found temporal shift spot for entity: \", entity)\n",
    "                # print(\"Gt answer: \", gt_answer)\n",
    "                # print(\"Next gt answer: \", next_gt_answer)\n",
    "\n",
    "                \n",
    "\n",
    "                # print(\"\\nHere are the Model predictions: \")\n",
    "                # print(\"Model prediction: \", model_prediction)\n",
    "                # print(\"Next model prediction: \", next_model_prediction)\n",
    "\n",
    "                # if is_equivalent_contains(question, next_gt_answer, model_prediction):\n",
    "                #     print(\"Model prediction matches next gt answer - Found a shift!\")\n",
    "                #     actual_shifts += 1\n",
    "\n",
    "                # if is_equivalent_contains(question, gt_answer, next_model_prediction):\n",
    "                #     print(\"Next model prediction matches this gt answer - Found a shift!\")\n",
    "                #     actual_shifts += 1\n",
    "\n",
    "                # # TODO: Since we look from both sides, this would be 2 potential shifts?\n",
    "                # potential_shifts += 1\n",
    "\n",
    "    print(f\"Found {actual_shifts} of {potential_shifts} shifts\")\n",
    "\n",
    "find_temporal_shift_places()"
   ]
  },
  {
   "cell_type": "code",
   "execution_count": null,
   "metadata": {},
   "outputs": [],
   "source": []
  },
  {
   "cell_type": "markdown",
   "metadata": {},
   "source": [
    "## Time Invariance"
   ]
  },
  {
   "cell_type": "markdown",
   "metadata": {},
   "source": [
    "The support for a relation is so high that the time component is entirely disregarded.\n",
    "\n",
    "Test:\n",
    "Check if all answers over the 10 years in TempLAMA are always the same. "
   ]
  },
  {
   "cell_type": "code",
   "execution_count": 40,
   "metadata": {},
   "outputs": [
    {
     "name": "stderr",
     "output_type": "stream",
     "text": [
      "  0%|          | 0/50310 [00:00<?, ?it/s]2023-07-20 17:35:30.616123: I tensorflow/compiler/xla/service/service.cc:169] XLA service 0x17cc12d0 initialized for platform Host (this does not guarantee that XLA will be used). Devices:\n",
      "2023-07-20 17:35:30.616196: I tensorflow/compiler/xla/service/service.cc:177]   StreamExecutor device (0): Host, Default Version\n",
      "2023-07-20 17:35:30.952038: I tensorflow/compiler/mlir/tensorflow/utils/dump_mlir_util.cc:269] disabling MLIR crash reproducer, set env var `MLIR_CRASH_REPRODUCER_DIRECTORY` to enable.\n",
      "2023-07-20 17:35:34.348251: I ./tensorflow/compiler/jit/device_compiler.h:180] Compiled cluster using XLA!  This line is logged at most once for the lifetime of the process.\n",
      "  0%|          | 79/50310 [01:36<17:03:08,  1.22s/it]\n"
     ]
    },
    {
     "ename": "KeyboardInterrupt",
     "evalue": "",
     "output_type": "error",
     "traceback": [
      "\u001b[0;31m---------------------------------------------------------------------------\u001b[0m",
      "\u001b[0;31mKeyboardInterrupt\u001b[0m                         Traceback (most recent call last)",
      "Cell \u001b[0;32mIn[40], line 38\u001b[0m\n\u001b[1;32m     31\u001b[0m                 \u001b[39mbreak\u001b[39;00m\n\u001b[1;32m     33\u001b[0m         time_invariant_examples \u001b[39m+\u001b[39m\u001b[39m=\u001b[39m \u001b[39m1\u001b[39m\n\u001b[0;32m---> 38\u001b[0m find_time_ivariant_examples()\n",
      "Cell \u001b[0;32mIn[40], line 30\u001b[0m, in \u001b[0;36mfind_time_ivariant_examples\u001b[0;34m()\u001b[0m\n\u001b[1;32m     27\u001b[0m     \u001b[39mif\u001b[39;00m prediction \u001b[39m==\u001b[39m \u001b[39m\"\u001b[39m\u001b[39m\"\u001b[39m:\n\u001b[1;32m     28\u001b[0m         prediction \u001b[39m=\u001b[39m cur_prediction\n\u001b[0;32m---> 30\u001b[0m     \u001b[39mif\u001b[39;00m \u001b[39mnot\u001b[39;00m is_equivalent_bem(gt_entity_row[\u001b[39m\"\u001b[39;49m\u001b[39mQuestion\u001b[39;49m\u001b[39m\"\u001b[39;49m], prediction, cur_prediction):\n\u001b[1;32m     31\u001b[0m         \u001b[39mbreak\u001b[39;00m\n\u001b[1;32m     33\u001b[0m time_invariant_examples \u001b[39m+\u001b[39m\u001b[39m=\u001b[39m \u001b[39m1\u001b[39m\n",
      "Cell \u001b[0;32mIn[39], line 12\u001b[0m, in \u001b[0;36mis_equivalent_bem\u001b[0;34m(question, answer, prediction)\u001b[0m\n\u001b[1;32m      9\u001b[0m     answers \u001b[39m=\u001b[39m answer\u001b[39m.\u001b[39msplit(\u001b[39m\"\u001b[39m\u001b[39m__or__\u001b[39m\u001b[39m\"\u001b[39m)\n\u001b[1;32m     10\u001b[0m     \u001b[39mreturn\u001b[39;00m is_equivalent_bem(question, answers[\u001b[39m0\u001b[39m], prediction) \u001b[39mor\u001b[39;00m is_equivalent_bem(question, answers[\u001b[39m1\u001b[39m], prediction)\n\u001b[0;32m---> 12\u001b[0m \u001b[39mreturn\u001b[39;00m bem_predict(bem, question, answer, prediction, tokenizer, cls_id, sep_id) \u001b[39m>\u001b[39m \u001b[39m0.5\u001b[39m\n",
      "File \u001b[0;32m~/temporal-llms/scripts/../src/bem.py:49\u001b[0m, in \u001b[0;36mpredict\u001b[0;34m(bem, question, reference, candidate, tokenizer, cls_id, sep_id)\u001b[0m\n\u001b[1;32m     41\u001b[0m inputs \u001b[39m=\u001b[39m _bertify_examples(\n\u001b[1;32m     42\u001b[0m     [{\u001b[39m\"\u001b[39m\u001b[39mquestion\u001b[39m\u001b[39m\"\u001b[39m: question, \u001b[39m\"\u001b[39m\u001b[39mreference\u001b[39m\u001b[39m\"\u001b[39m: reference, \u001b[39m\"\u001b[39m\u001b[39mcandidate\u001b[39m\u001b[39m\"\u001b[39m: candidate}],\n\u001b[1;32m     43\u001b[0m     tokenizer,\n\u001b[1;32m     44\u001b[0m     cls_id,\n\u001b[1;32m     45\u001b[0m     sep_id,\n\u001b[1;32m     46\u001b[0m )\n\u001b[1;32m     48\u001b[0m \u001b[39m# The outputs are raw logits.\u001b[39;00m\n\u001b[0;32m---> 49\u001b[0m raw_outputs \u001b[39m=\u001b[39m bem(inputs)\n\u001b[1;32m     51\u001b[0m \u001b[39m# They can be transformed into a classification 'probability' like so:\u001b[39;00m\n\u001b[1;32m     52\u001b[0m bem_score \u001b[39m=\u001b[39m \u001b[39mfloat\u001b[39m(softmax(np\u001b[39m.\u001b[39msqueeze(raw_outputs))[\u001b[39m1\u001b[39m])\n",
      "File \u001b[0;32m~/.conda/envs/llm-inference/lib/python3.10/site-packages/tensorflow/python/saved_model/load.py:740\u001b[0m, in \u001b[0;36m_call_attribute\u001b[0;34m(instance, *args, **kwargs)\u001b[0m\n\u001b[1;32m    739\u001b[0m \u001b[39mdef\u001b[39;00m \u001b[39m_call_attribute\u001b[39m(instance, \u001b[39m*\u001b[39margs, \u001b[39m*\u001b[39m\u001b[39m*\u001b[39mkwargs):\n\u001b[0;32m--> 740\u001b[0m   \u001b[39mreturn\u001b[39;00m instance\u001b[39m.\u001b[39;49m\u001b[39m__call__\u001b[39;49m(\u001b[39m*\u001b[39;49margs, \u001b[39m*\u001b[39;49m\u001b[39m*\u001b[39;49mkwargs)\n",
      "File \u001b[0;32m~/.conda/envs/llm-inference/lib/python3.10/site-packages/tensorflow/python/util/traceback_utils.py:150\u001b[0m, in \u001b[0;36mfilter_traceback.<locals>.error_handler\u001b[0;34m(*args, **kwargs)\u001b[0m\n\u001b[1;32m    148\u001b[0m filtered_tb \u001b[39m=\u001b[39m \u001b[39mNone\u001b[39;00m\n\u001b[1;32m    149\u001b[0m \u001b[39mtry\u001b[39;00m:\n\u001b[0;32m--> 150\u001b[0m   \u001b[39mreturn\u001b[39;00m fn(\u001b[39m*\u001b[39;49margs, \u001b[39m*\u001b[39;49m\u001b[39m*\u001b[39;49mkwargs)\n\u001b[1;32m    151\u001b[0m \u001b[39mexcept\u001b[39;00m \u001b[39mException\u001b[39;00m \u001b[39mas\u001b[39;00m e:\n\u001b[1;32m    152\u001b[0m   filtered_tb \u001b[39m=\u001b[39m _process_traceback_frames(e\u001b[39m.\u001b[39m__traceback__)\n",
      "File \u001b[0;32m~/.conda/envs/llm-inference/lib/python3.10/site-packages/tensorflow/python/eager/polymorphic_function/polymorphic_function.py:894\u001b[0m, in \u001b[0;36mFunction.__call__\u001b[0;34m(self, *args, **kwds)\u001b[0m\n\u001b[1;32m    891\u001b[0m compiler \u001b[39m=\u001b[39m \u001b[39m\"\u001b[39m\u001b[39mxla\u001b[39m\u001b[39m\"\u001b[39m \u001b[39mif\u001b[39;00m \u001b[39mself\u001b[39m\u001b[39m.\u001b[39m_jit_compile \u001b[39melse\u001b[39;00m \u001b[39m\"\u001b[39m\u001b[39mnonXla\u001b[39m\u001b[39m\"\u001b[39m\n\u001b[1;32m    893\u001b[0m \u001b[39mwith\u001b[39;00m OptionalXlaContext(\u001b[39mself\u001b[39m\u001b[39m.\u001b[39m_jit_compile):\n\u001b[0;32m--> 894\u001b[0m   result \u001b[39m=\u001b[39m \u001b[39mself\u001b[39;49m\u001b[39m.\u001b[39;49m_call(\u001b[39m*\u001b[39;49margs, \u001b[39m*\u001b[39;49m\u001b[39m*\u001b[39;49mkwds)\n\u001b[1;32m    896\u001b[0m new_tracing_count \u001b[39m=\u001b[39m \u001b[39mself\u001b[39m\u001b[39m.\u001b[39mexperimental_get_tracing_count()\n\u001b[1;32m    897\u001b[0m without_tracing \u001b[39m=\u001b[39m (tracing_count \u001b[39m==\u001b[39m new_tracing_count)\n",
      "File \u001b[0;32m~/.conda/envs/llm-inference/lib/python3.10/site-packages/tensorflow/python/eager/polymorphic_function/polymorphic_function.py:933\u001b[0m, in \u001b[0;36mFunction._call\u001b[0;34m(self, *args, **kwds)\u001b[0m\n\u001b[1;32m    930\u001b[0m \u001b[39mself\u001b[39m\u001b[39m.\u001b[39m_lock\u001b[39m.\u001b[39mrelease()\n\u001b[1;32m    931\u001b[0m \u001b[39m# In this case we have not created variables on the first call. So we can\u001b[39;00m\n\u001b[1;32m    932\u001b[0m \u001b[39m# run the first trace but we should fail if variables are created.\u001b[39;00m\n\u001b[0;32m--> 933\u001b[0m results \u001b[39m=\u001b[39m \u001b[39mself\u001b[39;49m\u001b[39m.\u001b[39;49m_variable_creation_fn(\u001b[39m*\u001b[39;49margs, \u001b[39m*\u001b[39;49m\u001b[39m*\u001b[39;49mkwds)\n\u001b[1;32m    934\u001b[0m \u001b[39mif\u001b[39;00m \u001b[39mself\u001b[39m\u001b[39m.\u001b[39m_created_variables \u001b[39mand\u001b[39;00m \u001b[39mnot\u001b[39;00m ALLOW_DYNAMIC_VARIABLE_CREATION:\n\u001b[1;32m    935\u001b[0m   \u001b[39mraise\u001b[39;00m \u001b[39mValueError\u001b[39;00m(\u001b[39m\"\u001b[39m\u001b[39mCreating variables on a non-first call to a function\u001b[39m\u001b[39m\"\u001b[39m\n\u001b[1;32m    936\u001b[0m                    \u001b[39m\"\u001b[39m\u001b[39m decorated with tf.function.\u001b[39m\u001b[39m\"\u001b[39m)\n",
      "File \u001b[0;32m~/.conda/envs/llm-inference/lib/python3.10/site-packages/tensorflow/python/eager/polymorphic_function/tracing_compiler.py:143\u001b[0m, in \u001b[0;36mTracingCompiler.__call__\u001b[0;34m(self, *args, **kwargs)\u001b[0m\n\u001b[1;32m    140\u001b[0m \u001b[39mwith\u001b[39;00m \u001b[39mself\u001b[39m\u001b[39m.\u001b[39m_lock:\n\u001b[1;32m    141\u001b[0m   (concrete_function,\n\u001b[1;32m    142\u001b[0m    filtered_flat_args) \u001b[39m=\u001b[39m \u001b[39mself\u001b[39m\u001b[39m.\u001b[39m_maybe_define_function(args, kwargs)\n\u001b[0;32m--> 143\u001b[0m \u001b[39mreturn\u001b[39;00m concrete_function\u001b[39m.\u001b[39;49m_call_flat(\n\u001b[1;32m    144\u001b[0m     filtered_flat_args, captured_inputs\u001b[39m=\u001b[39;49mconcrete_function\u001b[39m.\u001b[39;49mcaptured_inputs)\n",
      "File \u001b[0;32m~/.conda/envs/llm-inference/lib/python3.10/site-packages/tensorflow/python/eager/polymorphic_function/monomorphic_function.py:1757\u001b[0m, in \u001b[0;36mConcreteFunction._call_flat\u001b[0;34m(self, args, captured_inputs, cancellation_manager)\u001b[0m\n\u001b[1;32m   1753\u001b[0m possible_gradient_type \u001b[39m=\u001b[39m gradients_util\u001b[39m.\u001b[39mPossibleTapeGradientTypes(args)\n\u001b[1;32m   1754\u001b[0m \u001b[39mif\u001b[39;00m (possible_gradient_type \u001b[39m==\u001b[39m gradients_util\u001b[39m.\u001b[39mPOSSIBLE_GRADIENT_TYPES_NONE\n\u001b[1;32m   1755\u001b[0m     \u001b[39mand\u001b[39;00m executing_eagerly):\n\u001b[1;32m   1756\u001b[0m   \u001b[39m# No tape is watching; skip to running the function.\u001b[39;00m\n\u001b[0;32m-> 1757\u001b[0m   \u001b[39mreturn\u001b[39;00m \u001b[39mself\u001b[39m\u001b[39m.\u001b[39m_build_call_outputs(\u001b[39mself\u001b[39;49m\u001b[39m.\u001b[39;49m_inference_function\u001b[39m.\u001b[39;49mcall(\n\u001b[1;32m   1758\u001b[0m       ctx, args, cancellation_manager\u001b[39m=\u001b[39;49mcancellation_manager))\n\u001b[1;32m   1759\u001b[0m forward_backward \u001b[39m=\u001b[39m \u001b[39mself\u001b[39m\u001b[39m.\u001b[39m_select_forward_and_backward_functions(\n\u001b[1;32m   1760\u001b[0m     args,\n\u001b[1;32m   1761\u001b[0m     possible_gradient_type,\n\u001b[1;32m   1762\u001b[0m     executing_eagerly)\n\u001b[1;32m   1763\u001b[0m forward_function, args_with_tangents \u001b[39m=\u001b[39m forward_backward\u001b[39m.\u001b[39mforward()\n",
      "File \u001b[0;32m~/.conda/envs/llm-inference/lib/python3.10/site-packages/tensorflow/python/eager/polymorphic_function/monomorphic_function.py:381\u001b[0m, in \u001b[0;36m_EagerDefinedFunction.call\u001b[0;34m(self, ctx, args, cancellation_manager)\u001b[0m\n\u001b[1;32m    379\u001b[0m \u001b[39mwith\u001b[39;00m _InterpolateFunctionError(\u001b[39mself\u001b[39m):\n\u001b[1;32m    380\u001b[0m   \u001b[39mif\u001b[39;00m cancellation_manager \u001b[39mis\u001b[39;00m \u001b[39mNone\u001b[39;00m:\n\u001b[0;32m--> 381\u001b[0m     outputs \u001b[39m=\u001b[39m execute\u001b[39m.\u001b[39;49mexecute(\n\u001b[1;32m    382\u001b[0m         \u001b[39mstr\u001b[39;49m(\u001b[39mself\u001b[39;49m\u001b[39m.\u001b[39;49msignature\u001b[39m.\u001b[39;49mname),\n\u001b[1;32m    383\u001b[0m         num_outputs\u001b[39m=\u001b[39;49m\u001b[39mself\u001b[39;49m\u001b[39m.\u001b[39;49m_num_outputs,\n\u001b[1;32m    384\u001b[0m         inputs\u001b[39m=\u001b[39;49margs,\n\u001b[1;32m    385\u001b[0m         attrs\u001b[39m=\u001b[39;49mattrs,\n\u001b[1;32m    386\u001b[0m         ctx\u001b[39m=\u001b[39;49mctx)\n\u001b[1;32m    387\u001b[0m   \u001b[39melse\u001b[39;00m:\n\u001b[1;32m    388\u001b[0m     outputs \u001b[39m=\u001b[39m execute\u001b[39m.\u001b[39mexecute_with_cancellation(\n\u001b[1;32m    389\u001b[0m         \u001b[39mstr\u001b[39m(\u001b[39mself\u001b[39m\u001b[39m.\u001b[39msignature\u001b[39m.\u001b[39mname),\n\u001b[1;32m    390\u001b[0m         num_outputs\u001b[39m=\u001b[39m\u001b[39mself\u001b[39m\u001b[39m.\u001b[39m_num_outputs,\n\u001b[0;32m   (...)\u001b[0m\n\u001b[1;32m    393\u001b[0m         ctx\u001b[39m=\u001b[39mctx,\n\u001b[1;32m    394\u001b[0m         cancellation_manager\u001b[39m=\u001b[39mcancellation_manager)\n",
      "File \u001b[0;32m~/.conda/envs/llm-inference/lib/python3.10/site-packages/tensorflow/python/eager/execute.py:52\u001b[0m, in \u001b[0;36mquick_execute\u001b[0;34m(op_name, num_outputs, inputs, attrs, ctx, name)\u001b[0m\n\u001b[1;32m     50\u001b[0m \u001b[39mtry\u001b[39;00m:\n\u001b[1;32m     51\u001b[0m   ctx\u001b[39m.\u001b[39mensure_initialized()\n\u001b[0;32m---> 52\u001b[0m   tensors \u001b[39m=\u001b[39m pywrap_tfe\u001b[39m.\u001b[39;49mTFE_Py_Execute(ctx\u001b[39m.\u001b[39;49m_handle, device_name, op_name,\n\u001b[1;32m     53\u001b[0m                                       inputs, attrs, num_outputs)\n\u001b[1;32m     54\u001b[0m \u001b[39mexcept\u001b[39;00m core\u001b[39m.\u001b[39m_NotOkStatusException \u001b[39mas\u001b[39;00m e:\n\u001b[1;32m     55\u001b[0m   \u001b[39mif\u001b[39;00m name \u001b[39mis\u001b[39;00m \u001b[39mnot\u001b[39;00m \u001b[39mNone\u001b[39;00m:\n",
      "\u001b[0;31mKeyboardInterrupt\u001b[0m: "
     ]
    }
   ],
   "source": [
    "from tqdm import tqdm\n",
    "\n",
    "bem, tokenizer, cls_id, sep_id = init_bem_model()\n",
    "\n",
    "def find_time_ivariant_examples():\n",
    "    current_entity = \"\"\n",
    "\n",
    "    time_invariant_examples = 0\n",
    "\n",
    "    for line_id, row in tqdm(alpaca_predictions.iterrows(), total=50310):\n",
    "        _, question, answer = row\n",
    "\n",
    "        entity = get_entity(question, template_map)\n",
    "        if entity == current_entity:\n",
    "            continue\n",
    "\n",
    "        current_entity = entity\n",
    "        entity_rows = get_all_entity_rows(entity, templama)\n",
    "\n",
    "        prediction = \"\"\n",
    "\n",
    "        for i, obj in enumerate(entity_rows.iterrows()):\n",
    "            q_id, gt_entity_row = obj\n",
    "\n",
    "            cur_prediction = alpaca_predictions.iloc[q_id][\"answer\"]\n",
    "\n",
    "            if prediction == \"\":\n",
    "                prediction = cur_prediction\n",
    "            \n",
    "            if not is_equivalent_bem(gt_entity_row[\"Question\"], prediction, cur_prediction):\n",
    "                break\n",
    "\n",
    "        time_invariant_examples += 1\n",
    "\n",
    "    print(f\"Found {time_invariant_examples} time invariant examples\")\n",
    "\n",
    "\n",
    "find_time_ivariant_examples()"
   ]
  },
  {
   "cell_type": "code",
   "execution_count": null,
   "metadata": {},
   "outputs": [],
   "source": []
  },
  {
   "cell_type": "markdown",
   "metadata": {},
   "source": [
    "## Temporal Inertia"
   ]
  },
  {
   "cell_type": "markdown",
   "metadata": {},
   "source": [
    "Special case of temporal shift, but only look at the final fact that is changing and see if there is a one-sided temporal shift"
   ]
  },
  {
   "cell_type": "code",
   "execution_count": 18,
   "metadata": {},
   "outputs": [
    {
     "name": "stderr",
     "output_type": "stream",
     "text": [
      "  0%|          | 80/50310 [00:00<02:09, 387.26it/s]"
     ]
    },
    {
     "name": "stdout",
     "output_type": "stream",
     "text": [
      "Inertia:     {'cur_question': 'Peyton Manning played for which team in 2011?', 'gt_ans': 'Denver Broncos', 'next_model_prediction': 'Peyton Manning played for the Denver Broncos in 2011.'}\n",
      "Inertia:     {'cur_question': 'Neymar played for which team in 2017?', 'gt_ans': 'Paris Saint-Germain', 'next_model_prediction': 'Neymar played for Paris Saint-Germain in 2017.'}\n"
     ]
    },
    {
     "name": "stderr",
     "output_type": "stream",
     "text": [
      "  0%|          | 219/50310 [00:00<01:54, 439.19it/s]"
     ]
    },
    {
     "name": "stdout",
     "output_type": "stream",
     "text": [
      "Inertia:     {'cur_question': 'Ichiro Suzuki played for which team in 2018?', 'gt_ans': 'Seattle Mariners', 'next_model_prediction': 'Ichiro Suzuki played for the Seattle Mariners in 2018.'}\n",
      "Inertia:     {'cur_question': 'Lauren Jackson played for which team in 2011?', 'gt_ans': 'Seattle Storm', 'next_model_prediction': 'Lauren Jackson played for the Seattle Storm in 2011.'}\n",
      "Inertia:     {'cur_question': 'Mesut Özil played for which team in 2013?', 'gt_ans': 'Arsenal F.C.', 'next_model_prediction': 'Arsenal FC.'}\n"
     ]
    },
    {
     "name": "stderr",
     "output_type": "stream",
     "text": [
      "  1%|          | 389/50310 [00:00<01:38, 506.69it/s]"
     ]
    },
    {
     "name": "stdout",
     "output_type": "stream",
     "text": [
      "Inertia:     {'cur_question': 'Trey Burke played for which team in 2013?', 'gt_ans': 'Utah Jazz', 'next_model_prediction': 'Trey Burke played for the Utah Jazz in 2013.'}\n"
     ]
    },
    {
     "name": "stderr",
     "output_type": "stream",
     "text": [
      "  1%|          | 500/50310 [00:01<01:42, 486.93it/s]"
     ]
    },
    {
     "name": "stdout",
     "output_type": "stream",
     "text": [
      "Inertia:     {'cur_question': 'Greg Inglis played for which team in 2010?', 'gt_ans': 'South Sydney Rabbitohs', 'next_model_prediction': 'Greg Inglis played for the South Sydney Rabbitohs in 2010.'}\n"
     ]
    },
    {
     "name": "stderr",
     "output_type": "stream",
     "text": [
      "  2%|▏         | 779/50310 [00:01<01:35, 520.11it/s]"
     ]
    },
    {
     "name": "stdout",
     "output_type": "stream",
     "text": [
      "Inertia:     {'cur_question': 'Kevin Love played for which team in 2014?', 'gt_ans': 'Cleveland Cavaliers', 'next_model_prediction': 'Cleveland Cavaliers.'}\n",
      "Inertia:     {'cur_question': 'Alex Smith played for which team in 2012?', 'gt_ans': 'Kansas City Chiefs', 'next_model_prediction': 'Alex Smith played for the Kansas City Chiefs in 2012.'}\n",
      "Inertia:     {'cur_question': 'Johnny Manziel played for which team in 2013?', 'gt_ans': 'Cleveland Browns', 'next_model_prediction': 'A: Cleveland Browns.'}\n",
      "Inertia:     {'cur_question': 'Nik Stauskas attended which university in 2012?', 'gt_ans': 'University of Michigan', 'next_model_prediction': 'Nik Stauskas attended the University of Michigan in 2012.'}\n"
     ]
    },
    {
     "name": "stderr",
     "output_type": "stream",
     "text": [
      "  2%|▏         | 1000/50310 [00:02<01:35, 514.50it/s]"
     ]
    },
    {
     "name": "stdout",
     "output_type": "stream",
     "text": [
      "Inertia:     {'cur_question': 'Glenn Maxwell played for which team in 2017?', 'gt_ans': 'Melbourne Stars', 'next_model_prediction': 'Glenn Maxwell played for the Melbourne Stars in the 2017-18 Australian domestic cricket season.'}\n",
      "Inertia:     {'cur_question': 'Alex Morgan played for which team in 2015?', 'gt_ans': 'Orlando Pride', 'next_model_prediction': 'Orlando Pride.'}\n"
     ]
    },
    {
     "name": "stderr",
     "output_type": "stream",
     "text": [
      "  2%|▏         | 1107/50310 [00:02<01:37, 505.38it/s]"
     ]
    },
    {
     "name": "stdout",
     "output_type": "stream",
     "text": [
      "Inertia:     {'cur_question': 'Brett Lee played for which team in 2013?', 'gt_ans': 'Sydney Sixers', 'next_model_prediction': 'Brett Lee played for the Sydney Sixers in the 2013-14 Big Bash League.'}\n",
      "Inertia:     {'cur_question': 'Chris Paul played for which team in 2011?', 'gt_ans': 'Los Angeles Clippers', 'next_model_prediction': 'Los Angeles Clippers.'}\n"
     ]
    },
    {
     "name": "stderr",
     "output_type": "stream",
     "text": [
      "  2%|▏         | 1208/50310 [00:02<01:40, 489.96it/s]"
     ]
    },
    {
     "name": "stdout",
     "output_type": "stream",
     "text": [
      "Inertia:     {'cur_question': 'Devin Booker played for which team in 2015?', 'gt_ans': 'Phoenix Suns', 'next_model_prediction': 'Devin Booker played for the Phoenix Suns in 2015.'}\n"
     ]
    },
    {
     "name": "stderr",
     "output_type": "stream",
     "text": [
      "  3%|▎         | 1367/50310 [00:02<01:40, 486.84it/s]"
     ]
    },
    {
     "name": "stdout",
     "output_type": "stream",
     "text": [
      "Inertia:     {'cur_question': 'James Milner played for which team in 2015?', 'gt_ans': 'Liverpool F.C.', 'next_model_prediction': 'A: Liverpool FC.'}\n",
      "Inertia:     {'cur_question': 'Kawhi Leonard played for which team in 2018?', 'gt_ans': 'Toronto Raptors', 'next_model_prediction': 'Kawhi Leonard played for the Toronto Raptors in 2018.'}\n"
     ]
    },
    {
     "name": "stderr",
     "output_type": "stream",
     "text": [
      "  3%|▎         | 1738/50310 [00:03<01:38, 493.12it/s]"
     ]
    },
    {
     "name": "stdout",
     "output_type": "stream",
     "text": [
      "Inertia:     {'cur_question': 'Klay Thompson played for which team in 2011?', 'gt_ans': 'Golden State Warriors', 'next_model_prediction': 'Klay Thompson played for the Golden State Warriors in 2011.'}\n",
      "Inertia:     {'cur_question': 'Lamar Jackson attended which university in 2015?', 'gt_ans': 'University of Louisville', 'next_model_prediction': 'University of Louisville.'}\n"
     ]
    },
    {
     "name": "stderr",
     "output_type": "stream",
     "text": [
      "  4%|▍         | 1914/50310 [00:03<01:32, 524.53it/s]"
     ]
    },
    {
     "name": "stdout",
     "output_type": "stream",
     "text": [
      "Inertia:     {'cur_question': 'Ivan Rakitić played for which team in 2014?', 'gt_ans': 'FC Barcelona', 'next_model_prediction': 'Ivan Rakitić played for FC Barcelona in 2014.'}\n",
      "Inertia:     {'cur_question': 'John Wall played for which team in 2010?', 'gt_ans': 'Washington Wizards', 'next_model_prediction': 'Washington Wizards.'}\n",
      "Inertia:     {'cur_question': 'Ben Simmons played for which team in 2016?', 'gt_ans': 'Philadelphia 76ers', 'next_model_prediction': 'Philadelphia 76ers.'}\n"
     ]
    },
    {
     "name": "stderr",
     "output_type": "stream",
     "text": [
      "  4%|▍         | 2143/50310 [00:04<01:30, 533.18it/s]"
     ]
    },
    {
     "name": "stdout",
     "output_type": "stream",
     "text": [
      "Inertia:     {'cur_question': 'Max Verstappen played for which team in 2016?', 'gt_ans': 'Red Bull Racing', 'next_model_prediction': 'Red Bull Racing.'}\n",
      "Inertia:     {'cur_question': 'Scott Kazmir played for which team in 2013?', 'gt_ans': 'Oakland Athletics', 'next_model_prediction': 'Scott Kazmir played for the Oakland Athletics in 2013.'}\n",
      "Inertia:     {'cur_question': 'Chris Johnson played for which team in 2014?', 'gt_ans': 'Arizona Cardinals', 'next_model_prediction': 'Chris Johnson played for the Arizona Cardinals in 2014.'}\n"
     ]
    },
    {
     "name": "stderr",
     "output_type": "stream",
     "text": [
      "  5%|▍         | 2310/50310 [00:04<01:31, 526.78it/s]"
     ]
    },
    {
     "name": "stdout",
     "output_type": "stream",
     "text": [
      "Inertia:     {'cur_question': 'Samir Handanović played for which team in 2015?', 'gt_ans': 'Inter Milan', 'next_model_prediction': 'Samir Handanović played for the Inter Milan football team in 2015.'}\n",
      "Inertia:     {'cur_question': 'Shunsuke Nakamura played for which team in 2019?', 'gt_ans': 'Yokohama FC', 'next_model_prediction': 'Shunsuke Nakamura played for the J1 League club Yokohama FC in 2019.'}\n"
     ]
    },
    {
     "name": "stderr",
     "output_type": "stream",
     "text": [
      "  5%|▌         | 2533/50310 [00:05<01:32, 517.21it/s]"
     ]
    },
    {
     "name": "stdout",
     "output_type": "stream",
     "text": [
      "Inertia:     {'cur_question': 'Zack Greinke played for which team in 2012?', 'gt_ans': 'Los Angeles Dodgers', 'next_model_prediction': 'Zack Greinke played for the Los Angeles Dodgers in 2012.'}\n"
     ]
    },
    {
     "name": "stderr",
     "output_type": "stream",
     "text": [
      "  5%|▌         | 2693/50310 [00:05<01:34, 502.10it/s]"
     ]
    },
    {
     "name": "stdout",
     "output_type": "stream",
     "text": [
      "Inertia:     {'cur_question': 'Beauden Barrett played for which team in 2011?', 'gt_ans': 'New Zealand national rugby union team', 'next_model_prediction': 'Beauden Barrett played for the New Zealand national rugby union team in 2011.'}\n",
      "Inertia:     {'cur_question': 'Jesé Rodríguez played for which team in 2014?', 'gt_ans': 'Real Madrid CF', 'next_model_prediction': 'Jesé Rodríguez played for the Real Madrid CF in 2014.'}\n"
     ]
    },
    {
     "name": "stderr",
     "output_type": "stream",
     "text": [
      "  6%|▌         | 2799/50310 [00:05<01:35, 496.50it/s]"
     ]
    },
    {
     "name": "stdout",
     "output_type": "stream",
     "text": [
      "Inertia:     {'cur_question': 'Brittney Griner played for which team in 2013?', 'gt_ans': 'Phoenix Mercury', 'next_model_prediction': 'Phoenix Mercury.'}\n",
      "Inertia:     {'cur_question': 'Kieran Foran played for which team in 2015?', 'gt_ans': 'Parramatta Eels', 'next_model_prediction': 'Kieran Foran played for the Parramatta Eels in 2015.'}\n"
     ]
    },
    {
     "name": "stderr",
     "output_type": "stream",
     "text": [
      "  6%|▌         | 2916/50310 [00:05<01:31, 518.84it/s]"
     ]
    },
    {
     "name": "stdout",
     "output_type": "stream",
     "text": [
      "Inertia:     {'cur_question': 'Alyssa Healy played for which team in 2017?', 'gt_ans': 'Sydney Sixers', 'next_model_prediction': 'A: Sydney Sixers.'}\n",
      "Inertia:     {'cur_question': 'Fred VanVleet played for which team in 2016?', 'gt_ans': 'Toronto Raptors', 'next_model_prediction': 'Fred VanVleet played for the Toronto Raptors in 2016.'}\n"
     ]
    },
    {
     "name": "stderr",
     "output_type": "stream",
     "text": [
      "  6%|▌         | 3139/50310 [00:06<01:33, 506.58it/s]"
     ]
    },
    {
     "name": "stdout",
     "output_type": "stream",
     "text": [
      "Inertia:     {'cur_question': 'Morgan Brian played for which team in 2012?', 'gt_ans': \"United States women's national soccer team\", 'next_model_prediction': \"Morgan Brian played for the United States women's national soccer team in 2012.\"}\n",
      "Inertia:     {'cur_question': 'Alfredo Zanetti played for which team in 2011?', 'gt_ans': 'Inter Milan', 'next_model_prediction': 'Alfredo Zanetti played for Inter Milan in 2011.'}\n"
     ]
    },
    {
     "name": "stderr",
     "output_type": "stream",
     "text": [
      "  6%|▋         | 3254/50310 [00:06<01:30, 519.38it/s]"
     ]
    },
    {
     "name": "stdout",
     "output_type": "stream",
     "text": [
      "Inertia:     {'cur_question': 'Thomas Meunier played for which team in 2016?', 'gt_ans': 'Paris Saint-Germain', 'next_model_prediction': 'Thomas Meunier played for Paris Saint-Germain in 2016.'}\n",
      "Inertia:     {'cur_question': 'Aaron Judge played for which team in 2013?', 'gt_ans': 'New York Yankees', 'next_model_prediction': 'A: New York Yankees.'}\n",
      "Inertia:     {'cur_question': 'Nikola Jokić played for which team in 2015?', 'gt_ans': 'Denver Nuggets', 'next_model_prediction': 'Nikola Jokić played for the Denver Nuggets in 2015.'}\n",
      "Inertia:     {'cur_question': 'Baker Mayfield attended which university in 2013?', 'gt_ans': 'University of Oklahoma', 'next_model_prediction': 'Baker Mayfield attended the University of Oklahoma in 2013.'}\n"
     ]
    },
    {
     "name": "stderr",
     "output_type": "stream",
     "text": [
      "  7%|▋         | 3461/50310 [00:06<01:35, 490.05it/s]"
     ]
    },
    {
     "name": "stdout",
     "output_type": "stream",
     "text": [
      "Inertia:     {'cur_question': 'Mario Götze played for which team in 2016?', 'gt_ans': 'Borussia Dortmund', 'next_model_prediction': 'Borussia Dortmund.'}\n",
      "Inertia:     {'cur_question': 'Christine Sinclair played for which team in 2012?', 'gt_ans': 'Portland Thorns FC', 'next_model_prediction': 'Portland Thorns FC.'}\n"
     ]
    },
    {
     "name": "stderr",
     "output_type": "stream",
     "text": [
      "  7%|▋         | 3749/50310 [00:07<01:26, 535.70it/s]"
     ]
    },
    {
     "name": "stdout",
     "output_type": "stream",
     "text": [
      "Inertia:     {'cur_question': 'Mateo Kovačić played for which team in 2019?', 'gt_ans': 'Chelsea F.C.', 'next_model_prediction': 'Chelsea FC.'}\n",
      "Inertia:     {'cur_question': 'CJ McCollum played for which team in 2013?', 'gt_ans': 'Portland Trail Blazers', 'next_model_prediction': 'Portland Trail Blazers.'}\n",
      "Inertia:     {'cur_question': 'Ivan Perišić played for which team in 2015?', 'gt_ans': 'Inter Milan', 'next_model_prediction': 'Ivan Perišić played for Inter Milan in 2015.'}\n"
     ]
    },
    {
     "name": "stderr",
     "output_type": "stream",
     "text": [
      "  8%|▊         | 3859/50310 [00:07<01:27, 530.77it/s]"
     ]
    },
    {
     "name": "stdout",
     "output_type": "stream",
     "text": [
      "Inertia:     {'cur_question': 'Darius Boyd played for which team in 2014?', 'gt_ans': 'Brisbane Broncos', 'next_model_prediction': 'Darius Boyd played for the Brisbane Broncos in 2014.'}\n",
      "Inertia:     {'cur_question': 'Valtteri Bottas played for which team in 2016?', 'gt_ans': 'Mercedes', 'next_model_prediction': 'Mercedes'}\n",
      "Inertia:     {'cur_question': 'Juan Uribe played for which team in 2015?', 'gt_ans': 'Atlanta Braves', 'next_model_prediction': 'Atlanta Braves.'}\n"
     ]
    },
    {
     "name": "stderr",
     "output_type": "stream",
     "text": [
      "  8%|▊         | 4085/50310 [00:08<01:26, 532.79it/s]"
     ]
    },
    {
     "name": "stdout",
     "output_type": "stream",
     "text": [
      "Inertia:     {'cur_question': 'Noah Syndergaard played for which team in 2014?', 'gt_ans': 'New York Mets', 'next_model_prediction': 'New York Mets.'}\n"
     ]
    },
    {
     "name": "stderr",
     "output_type": "stream",
     "text": [
      "  8%|▊         | 4212/50310 [00:08<01:22, 557.19it/s]"
     ]
    },
    {
     "name": "stdout",
     "output_type": "stream",
     "text": [
      "Inertia:     {'cur_question': 'Brook Lopez played for which team in 2018?', 'gt_ans': 'Milwaukee Bucks', 'next_model_prediction': 'Brook Lopez played for the Milwaukee Bucks in 2018.'}\n",
      "Inertia:     {'cur_question': 'Kevin Gameiro played for which team in 2016?', 'gt_ans': 'Atlético Madrid', 'next_model_prediction': 'Atlético Madrid.'}\n"
     ]
    },
    {
     "name": "stderr",
     "output_type": "stream",
     "text": [
      "  9%|▊         | 4385/50310 [00:08<01:28, 517.86it/s]"
     ]
    },
    {
     "name": "stdout",
     "output_type": "stream",
     "text": [
      "Inertia:     {'cur_question': 'Bradley Beal played for which team in 2012?', 'gt_ans': 'Washington Wizards', 'next_model_prediction': 'Washington Wizards.'}\n",
      "Inertia:     {'cur_question': 'Courtney Vandersloot played for which team in 2011?', 'gt_ans': 'Chicago Sky', 'next_model_prediction': 'Chicago Sky.'}\n"
     ]
    },
    {
     "name": "stderr",
     "output_type": "stream",
     "text": [
      "  9%|▉         | 4501/50310 [00:08<01:27, 525.15it/s]"
     ]
    },
    {
     "name": "stdout",
     "output_type": "stream",
     "text": [
      "Inertia:     {'cur_question': 'Sadio Mané played for which team in 2016?', 'gt_ans': 'Liverpool F.C.', 'next_model_prediction': 'Sadio Mané played for Liverpool FC in 2016.'}\n",
      "Inertia:     {'cur_question': 'Julie Ertz played for which team in 2013?', 'gt_ans': 'Chicago Red Stars', 'next_model_prediction': 'Chicago Red Stars.'}\n",
      "Inertia:     {'cur_question': 'Karl-Anthony Towns attended which university in 2014?', 'gt_ans': 'University of Kentucky', 'next_model_prediction': 'University of Kentucky.'}\n",
      "Inertia:     {'cur_question': 'Brent Grimes played for which team in 2012?', 'gt_ans': 'Miami Dolphins', 'next_model_prediction': 'Brent Grimes played for the Miami Dolphins in 2012.'}\n",
      "Inertia:     {'cur_question': 'Marco Reus played for which team in 2012?', 'gt_ans': 'Borussia Dortmund', 'next_model_prediction': 'Borussia Dortmund.'}\n"
     ]
    },
    {
     "name": "stderr",
     "output_type": "stream",
     "text": [
      "  9%|▉         | 4675/50310 [00:09<01:26, 529.83it/s]"
     ]
    },
    {
     "name": "stdout",
     "output_type": "stream",
     "text": [
      "Inertia:     {'cur_question': 'Ivan Basso played for which team in 2014?', 'gt_ans': 'Tinkoff', 'next_model_prediction': 'Ivan Basso played for Team Tinkoff-Saxo in 2014.'}\n",
      "Inertia:     {'cur_question': 'Hirving Lozano played for which team in 2017?', 'gt_ans': 'PSV Eindhoven', 'next_model_prediction': 'PSV Eindhoven.'}\n"
     ]
    },
    {
     "name": "stderr",
     "output_type": "stream",
     "text": [
      " 10%|█         | 5045/50310 [00:10<01:40, 452.28it/s]"
     ]
    },
    {
     "name": "stdout",
     "output_type": "stream",
     "text": [
      "Inertia:     {'cur_question': 'Rafael Márquez played for which team in 2016?', 'gt_ans': 'Atlas F.C.', 'next_model_prediction': 'Rafael Márquez played for the Atlas FC in 2016.'}\n",
      "Inertia:     {'cur_question': \"N'Golo Kanté played for which team in 2016?\", 'gt_ans': 'Chelsea F.C.', 'next_model_prediction': 'Chelsea FC.'}\n",
      "Inertia:     {'cur_question': 'Tamim Iqbal played for which team in 2013?', 'gt_ans': 'Bangladesh national cricket team', 'next_model_prediction': 'Tamim Iqbal played for the Bangladesh national cricket team in 2013.'}\n"
     ]
    },
    {
     "name": "stderr",
     "output_type": "stream",
     "text": [
      " 10%|█         | 5260/50310 [00:10<01:31, 494.38it/s]"
     ]
    },
    {
     "name": "stdout",
     "output_type": "stream",
     "text": [
      "Inertia:     {'cur_question': 'Cheteshwar Pujara played for which team in 2017?', 'gt_ans': 'India national cricket team', 'next_model_prediction': 'Cheteshwar Pujara played for the India national cricket team in 2017.'}\n",
      "Inertia:     {'cur_question': 'Andre Drummond played for which team in 2012?', 'gt_ans': 'Detroit Pistons', 'next_model_prediction': 'Andre Drummond played for the Detroit Pistons in 2012.'}\n",
      "Inertia:     {'cur_question': 'Carson Wentz attended which university in 2011?', 'gt_ans': 'North Dakota State University', 'next_model_prediction': 'Carson Wentz attended North Dakota State University in 2011.'}\n"
     ]
    },
    {
     "name": "stderr",
     "output_type": "stream",
     "text": [
      " 11%|█▏        | 5746/50310 [00:11<01:26, 517.31it/s]"
     ]
    },
    {
     "name": "stdout",
     "output_type": "stream",
     "text": [
      "Inertia:     {'cur_question': 'RJ Barrett played for which team in 2019?', 'gt_ans': 'New York Knicks', 'next_model_prediction': 'New York Knicks.'}\n"
     ]
    },
    {
     "name": "stderr",
     "output_type": "stream",
     "text": [
      " 12%|█▏        | 5863/50310 [00:11<01:24, 528.50it/s]"
     ]
    },
    {
     "name": "stdout",
     "output_type": "stream",
     "text": [
      "Inertia:     {'cur_question': 'Sam Billings played for which team in 2018?', 'gt_ans': 'Kent County Cricket Club', 'next_model_prediction': 'Answer: \\nSam Billings played for the Kent County Cricket Club in 2018.'}\n"
     ]
    },
    {
     "name": "stderr",
     "output_type": "stream",
     "text": [
      " 12%|█▏        | 6080/50310 [00:12<01:27, 505.46it/s]"
     ]
    },
    {
     "name": "stdout",
     "output_type": "stream",
     "text": [
      "Inertia:     {'cur_question': 'Juan Sebastián Verón played for which team in 2012?', 'gt_ans': 'Estudiantes de La Plata', 'next_model_prediction': 'Juan Sebastián Verón played for the Estudiantes de La Plata in 2012.'}\n",
      "Inertia:     {'cur_question': 'Torii Hunter played for which team in 2012?', 'gt_ans': 'Detroit Tigers', 'next_model_prediction': 'Torii Hunter played for the Detroit Tigers in 2012.'}\n",
      "Inertia:     {'cur_question': 'Kelsey Plum attended which university in 2013?', 'gt_ans': 'University of Washington', 'next_model_prediction': 'Kelsey Plum attended the University of Washington in 2013.'}\n"
     ]
    },
    {
     "name": "stderr",
     "output_type": "stream",
     "text": [
      " 12%|█▏        | 6181/50310 [00:12<01:34, 467.60it/s]"
     ]
    },
    {
     "name": "stdout",
     "output_type": "stream",
     "text": [
      "Inertia:     {'cur_question': 'Shane Battier played for which team in 2011?', 'gt_ans': 'Miami Heat', 'next_model_prediction': 'Miami Heat.'}\n",
      "Inertia:     {'cur_question': 'Allan McGregor played for which team in 2018?', 'gt_ans': 'Rangers F.C.', 'next_model_prediction': 'Allan McGregor played for the Scottish Premiership team, Rangers FC, in 2018.'}\n"
     ]
    },
    {
     "name": "stderr",
     "output_type": "stream",
     "text": [
      " 13%|█▎        | 6376/50310 [00:12<01:37, 449.45it/s]"
     ]
    },
    {
     "name": "stdout",
     "output_type": "stream",
     "text": [
      "Inertia:     {'cur_question': 'Yulia Tymoshenko was the chair of which entity in 2010?', 'gt_ans': 'Ukraine.', 'next_model_prediction': 'Yulia Tymoshenko was the chair of the Verkhovna Rada, the parliament of Ukraine, in 2010.'}\n",
      "Inertia:     {'cur_question': 'Nawaz Sharif held which position in 2017?', 'gt_ans': 'Pakistan.', 'next_model_prediction': 'Prime Minister of Pakistan.'}\n",
      "Inertia:     {'cur_question': 'Rodrigo Duterte held which position in 2016?', 'gt_ans': 'President of the Philippines', 'next_model_prediction': 'President of the Philippines.'}\n",
      "Inertia:     {'cur_question': 'Joe Biden held which position in 2011?', 'gt_ans': 'Vice President of the United States', 'next_model_prediction': 'Vice President of the United States.'}\n",
      "Inertia:     {'cur_question': 'Xi Jinping held which position in 2020?', 'gt_ans': 'Communist Party of China.', 'next_model_prediction': 'Xi Jinping held the position of General Secretary of the Communist Party of China in 2020.'}\n",
      "Inertia:     {'cur_question': 'Kevin Rudd held which position in 2012?', 'gt_ans': 'Prime Minister of Australia', 'next_model_prediction': 'Prime Minister of Australia.'}\n"
     ]
    },
    {
     "name": "stderr",
     "output_type": "stream",
     "text": [
      " 13%|█▎        | 6470/50310 [00:12<01:44, 419.48it/s]"
     ]
    },
    {
     "name": "stdout",
     "output_type": "stream",
     "text": [
      "Inertia:     {'cur_question': 'Viktor Yanukovych held which position in 2010?', 'gt_ans': 'President of Ukraine', 'next_model_prediction': 'Viktor Yanukovych held the position of President of Ukraine from 2010 to 2014.'}\n",
      "Inertia:     {'cur_question': 'Narendra Modi held which position in 2020?', 'gt_ans': 'India.', 'next_model_prediction': 'Prime Minister of India.'}\n",
      "Inertia:     {'cur_question': 'Sebastian Kurz held which position in 2020?', 'gt_ans': 'Austria.', 'next_model_prediction': 'He was the Chancellor of Austria.'}\n",
      "Inertia:     {'cur_question': 'Nicolás Maduro held which position in 2020?', 'gt_ans': 'Venezuela.', 'next_model_prediction': 'Nicolás Maduro held the position of President of Venezuela in 2020.'}\n",
      "Inertia:     {'cur_question': 'Imran Khan held which position in 2020?', 'gt_ans': 'Pakistan.', 'next_model_prediction': 'Imran Khan held the position of Prime Minister of Pakistan in 2020.'}\n",
      "Inertia:     {'cur_question': 'Michael Flynn held which position in 2014?', 'gt_ans': 'National Security Advisor', 'next_model_prediction': 'Michael Flynn held the position of National Security Advisor in 2014.'}\n"
     ]
    },
    {
     "name": "stderr",
     "output_type": "stream",
     "text": [
      " 13%|█▎        | 6563/50310 [00:13<01:42, 425.65it/s]"
     ]
    },
    {
     "name": "stdout",
     "output_type": "stream",
     "text": [
      "Inertia:     {'cur_question': 'Sam Brownback held which position in 2018?', 'gt_ans': 'United States Ambassador-at-Large for International Religious Freedom', 'next_model_prediction': 'Sam Brownback held the position of United States Ambassador-at-Large for International Religious Freedom from 2018 to 20'}\n",
      "Inertia:     {'cur_question': 'Raymond Leo Burke held which position in 2014?', 'gt_ans': 'cardinal', 'next_model_prediction': 'Raymond Leo Burke held the position of Cardinal-Bishop of the Roman Catholic Church.'}\n",
      "Inertia:     {'cur_question': 'Jerry Brown held which position in 2011?', 'gt_ans': 'Governor of California', 'next_model_prediction': 'Governor of California.'}\n",
      "Inertia:     {'cur_question': 'Enrique Peña Nieto held which position in 2018?', 'gt_ans': 'Mexico.', 'next_model_prediction': 'Enrique Peña Nieto held the position of President of Mexico from 2012 to 2018.'}\n"
     ]
    },
    {
     "name": "stderr",
     "output_type": "stream",
     "text": [
      " 13%|█▎        | 6652/50310 [00:13<01:43, 422.87it/s]"
     ]
    },
    {
     "name": "stdout",
     "output_type": "stream",
     "text": [
      "Inertia:     {'cur_question': 'Rahm Emanuel held which position in 2019?', 'gt_ans': 'Chicago.', 'next_model_prediction': 'Rahm Emanuel held the position of Mayor of Chicago, Illinois.'}\n",
      "Inertia:     {'cur_question': 'George Osborne held which position in 2010?', 'gt_ans': 'Chancellor of the Exchequer', 'next_model_prediction': 'Chancellor of the Exchequer.'}\n",
      "Inertia:     {'cur_question': 'Chris Huhne held which position in 2010?', 'gt_ans': 'Secretary of State for Energy and Climate Change', 'next_model_prediction': 'He was the Secretary of State for Energy and Climate Change.'}\n",
      "Inertia:     {'cur_question': 'Brian Cowen held which position in 2010?', 'gt_ans': 'Taoiseach', 'next_model_prediction': 'Brian Cowen held the position of Taoiseach of Ireland from 2008 to 2011.'}\n",
      "Inertia:     {'cur_question': 'Justin Welby held which position in 2013?', 'gt_ans': 'bishop', 'next_model_prediction': 'Archbishop of Canterbury.'}\n"
     ]
    },
    {
     "name": "stderr",
     "output_type": "stream",
     "text": [
      " 13%|█▎        | 6743/50310 [00:13<01:43, 421.65it/s]"
     ]
    },
    {
     "name": "stdout",
     "output_type": "stream",
     "text": [
      "Inertia:     {'cur_question': 'James Mattis held which position in 2013?', 'gt_ans': 'United States Secretary of Defense', 'next_model_prediction': 'He was the United States Secretary of Defense.'}\n",
      "Inertia:     {'cur_question': 'Ed Markey held which position in 2013?', 'gt_ans': 'United States senator', 'next_model_prediction': 'Ed Markey held the position of United States Senator from Massachusetts from 2013 until present.'}\n",
      "Inertia:     {'cur_question': 'Pauline Marois held which position in 2014?', 'gt_ans': 'Quebec.', 'next_model_prediction': 'Prime Minister of Quebec, Canada.'}\n",
      "Inertia:     {'cur_question': 'Malcolm Turnbull was the chair of which entity in 2018?', 'gt_ans': 'Australia.', 'next_model_prediction': 'Australian Communications and Media Authority.'}\n",
      "Inertia:     {'cur_question': 'Carrie Lam held which position in 2020?', 'gt_ans': 'Hong Kong.', 'next_model_prediction': 'Carrie Lam held the position of Chief Executive of Hong Kong in 2020.'}\n",
      "Inertia:     {'cur_question': 'Bill de Blasio held which position in 2020?', 'gt_ans': 'New York City.', 'next_model_prediction': 'Mayor of New York City.'}\n"
     ]
    },
    {
     "name": "stderr",
     "output_type": "stream",
     "text": [
      " 14%|█▎        | 6895/50310 [00:13<01:36, 448.40it/s]"
     ]
    },
    {
     "name": "stdout",
     "output_type": "stream",
     "text": [
      "Inertia:     {'cur_question': 'Zoran Milanović held which position in 2020?', 'gt_ans': 'Croatia.', 'next_model_prediction': 'Zoran Milanović held the position of President of Croatia from 2015 to 2020.'}\n",
      "Inertia:     {'cur_question': 'Susan Rice held which position in 2013?', 'gt_ans': 'National Security Advisor', 'next_model_prediction': 'Susan Rice held the position of National Security Advisor in 2013.'}\n",
      "Inertia:     {'cur_question': 'Nikki Haley held which position in 2017?', 'gt_ans': 'United States Ambassador to the United Nations', 'next_model_prediction': 'Nikki Haley held the position of United States Ambassador to the United Nations in 2017.'}\n",
      "Inertia:     {'cur_question': 'Ranil Wickremesinghe held which position in 2015?', 'gt_ans': 'Prime Minister of Sri Lanka', 'next_model_prediction': 'Prime Minister of Sri Lanka.'}\n",
      "Inertia:     {'cur_question': 'Tammy Baldwin held which position in 2013?', 'gt_ans': 'United States senator', 'next_model_prediction': 'Tammy Baldwin held the position of United States Senator from Wisconsin from 2013 to 2021.'}\n",
      "Inertia:     {'cur_question': 'Sadiq Khan held which position in 2020?', 'gt_ans': 'London.', 'next_model_prediction': 'Sadiq Khan held the position of Mayor of London in 2020.'}\n",
      "Inertia:     {'cur_question': 'Mariano Rajoy was the chair of which entity in 2017?', 'gt_ans': 'Spain.', 'next_model_prediction': 'Mariano Rajoy was the chair of the Government of Spain in 2017.'}\n",
      "Inertia:     {'cur_question': 'Kathleen Wynne held which position in 2018?', 'gt_ans': 'Ontario.', 'next_model_prediction': 'Premier of Ontario, Canada.'}\n"
     ]
    },
    {
     "name": "stderr",
     "output_type": "stream",
     "text": [
      " 14%|█▍        | 7038/50310 [00:14<01:38, 438.73it/s]"
     ]
    },
    {
     "name": "stdout",
     "output_type": "stream",
     "text": [
      "Inertia:     {'cur_question': 'Hu Jintao held which position in 2013?', 'gt_ans': 'Communist Party of China.', 'next_model_prediction': 'He was the General Secretary of the Communist Party of China.'}\n",
      "Inertia:     {'cur_question': 'Greg Abbott held which position in 2020?', 'gt_ans': 'Texas.', 'next_model_prediction': 'Greg Abbott held the position of Governor of Texas in 2020.'}\n",
      "Inertia:     {'cur_question': 'Martha McSally held which position in 2019?', 'gt_ans': 'United States senator', 'next_model_prediction': 'Martha McSally held the position of United States Senator from Arizona from 2019 until 2021.'}\n",
      "Inertia:     {'cur_question': 'Kyrsten Sinema held which position in 2019?', 'gt_ans': 'United States senator', 'next_model_prediction': 'Kyrsten Sinema held the position of United States Senator from Arizona from 2019-present.'}\n",
      "Inertia:     {'cur_question': 'Mary Fallin held which position in 2011?', 'gt_ans': 'Governor of Oklahoma', 'next_model_prediction': 'Governor of Oklahoma.'}\n",
      "Inertia:     {'cur_question': 'Rachel Notley was the chair of which entity in 2020?', 'gt_ans': 'Alberta.', 'next_model_prediction': 'Rachel Notley was the chair of the Alberta Utilities Commission in 2020.'}\n"
     ]
    },
    {
     "name": "stderr",
     "output_type": "stream",
     "text": [
      " 14%|█▍        | 7138/50310 [00:14<01:36, 447.72it/s]"
     ]
    },
    {
     "name": "stdout",
     "output_type": "stream",
     "text": [
      "Inertia:     {'cur_question': 'Uhuru Kenyatta held which position in 2012?', 'gt_ans': 'President of Kenya', 'next_model_prediction': 'Uhuru Kenyatta held the position of President of Kenya from 2013 to 2021.'}\n",
      "Inertia:     {'cur_question': 'Benigno Aquino III held which position in 2010?', 'gt_ans': 'President of the Philippines', 'next_model_prediction': 'President of the Philippines.'}\n",
      "Inertia:     {'cur_question': 'Gerry Adams held which position in 2020?', 'gt_ans': 'Sinn Féin.', 'next_model_prediction': 'Gerry Adams held the position of President of Sinn Féin in 2020.'}\n",
      "Inertia:     {'cur_question': 'CY Leung held which position in 2020?', 'gt_ans': 'Hong Kong.', 'next_model_prediction': 'CY Leung held the position of Chief Executive of Hong Kong in 2020.'}\n",
      "Inertia:     {'cur_question': 'Jared Polis held which position in 2019?', 'gt_ans': 'Governor of Colorado', 'next_model_prediction': 'Jared Polis held the position of Governor of Colorado in 2019.'}\n",
      "Inertia:     {'cur_question': 'Shelley Moore Capito held which position in 2015?', 'gt_ans': 'United States senator', 'next_model_prediction': 'Shelley Moore Capito held the position of United States Senator from West Virginia from 2015-present.'}\n",
      "Inertia:     {'cur_question': 'Matamela Cyril Ramaphosa held which position in 2020?', 'gt_ans': 'South Africa.', 'next_model_prediction': 'President of South Africa.'}\n"
     ]
    },
    {
     "name": "stderr",
     "output_type": "stream",
     "text": [
      " 14%|█▍        | 7231/50310 [00:14<01:42, 420.94it/s]"
     ]
    },
    {
     "name": "stdout",
     "output_type": "stream",
     "text": [
      "Inertia:     {'cur_question': 'Harriet Harman held which position in 2015?', 'gt_ans': 'Leader of the Labour Party', 'next_model_prediction': 'Harriet Harman held the position of Deputy Leader of the Labour Party in 2015.'}\n",
      "Inertia:     {'cur_question': 'Rob Ford held which position in 2016?', 'gt_ans': 'Toronto.', 'next_model_prediction': 'Rob Ford held the position of Mayor of Toronto, Canada from 2010 to 2014.'}\n",
      "Inertia:     {'cur_question': \"Barry O'Farrell held which position in 2014?\", 'gt_ans': 'New South Wales.', 'next_model_prediction': \"Barry O'Farrell held the position of Premier of New South Wales from 2011 to 2014.\"}\n",
      "Inertia:     {'cur_question': 'Phil Murphy held which position in 2020?', 'gt_ans': 'New Jersey.', 'next_model_prediction': 'Phil Murphy held the position of Governor of New Jersey in 2020.'}\n"
     ]
    },
    {
     "name": "stderr",
     "output_type": "stream",
     "text": [
      " 15%|█▍        | 7316/50310 [00:14<01:49, 392.58it/s]"
     ]
    },
    {
     "name": "stdout",
     "output_type": "stream",
     "text": [
      "Inertia:     {'cur_question': 'Thorbjørn Jagland held which position in 2015?', 'gt_ans': 'Secretary General of the Council of Europe', 'next_model_prediction': 'He was the Secretary General of the Council of Europe.'}\n",
      "Inertia:     {'cur_question': 'Diane Abbott held which position in 2016?', 'gt_ans': 'Shadow Home Secretary', 'next_model_prediction': 'Diane Abbott held the position of Shadow Home Secretary in 2016.'}\n",
      "Inertia:     {'cur_question': 'Marsha Blackburn held which position in 2019?', 'gt_ans': 'United States senator', 'next_model_prediction': 'Marsha Blackburn held the position of United States Senator from Tennessee from 2019.'}\n",
      "Inertia:     {'cur_question': 'Christy Clark held which position in 2017?', 'gt_ans': 'British Columbia.', 'next_model_prediction': 'She was the 36th Premier of British Columbia, Canada.'}\n",
      "Inertia:     {'cur_question': 'Chris Coons held which position in 2010?', 'gt_ans': 'United States senator', 'next_model_prediction': 'Chris Coons held the position of United States Senator from Delaware from 2010 to present.'}\n",
      "Inertia:     {'cur_question': 'John O. Brennan held which position in 2013?', 'gt_ans': 'Director of the Central Intelligence Agency', 'next_model_prediction': 'Director of the Central Intelligence Agency.'}\n",
      "Inertia:     {'cur_question': 'Henry McMaster held which position in 2017?', 'gt_ans': 'Governor of South Carolina', 'next_model_prediction': 'Governor of South Carolina.'}\n"
     ]
    },
    {
     "name": "stderr",
     "output_type": "stream",
     "text": [
      " 15%|█▍        | 7459/50310 [00:15<01:41, 422.40it/s]"
     ]
    },
    {
     "name": "stdout",
     "output_type": "stream",
     "text": [
      "Inertia:     {'cur_question': 'Dean Heller held which position in 2011?', 'gt_ans': 'United States senator', 'next_model_prediction': 'Dean Heller held the position of United States Senator from Nevada from 2011 to 2021.'}\n",
      "Inertia:     {'cur_question': 'Alexis Tsipras held which position in 2019?', 'gt_ans': 'Greece.', 'next_model_prediction': 'Alexis Tsipras held the position of Prime Minister of Greece from 2019 to 2020.'}\n",
      "Inertia:     {'cur_question': 'Smriti Irani held which position in 2018?', 'gt_ans': 'Minister of Textiles', 'next_model_prediction': 'Smriti Irani held the position of Minister of Textiles and Information and Broadcasting in the Government of India in 2018.'}\n",
      "Inertia:     {'cur_question': 'Dési Bouterse held which position in 2014?', 'gt_ans': 'President of Suriname', 'next_model_prediction': 'President of Suriname.'}\n",
      "Inertia:     {'cur_question': 'Tammy Duckworth held which position in 2017?', 'gt_ans': 'United States senator', 'next_model_prediction': 'Tammy Duckworth held the position of United States Senator from Illinois.'}\n"
     ]
    },
    {
     "name": "stderr",
     "output_type": "stream",
     "text": [
      " 15%|█▌        | 7557/50310 [00:15<01:36, 440.84it/s]"
     ]
    },
    {
     "name": "stdout",
     "output_type": "stream",
     "text": [
      "Inertia:     {'cur_question': 'Max Baucus held which position in 2015?', 'gt_ans': 'United States Ambassador to China', 'next_model_prediction': 'Max Baucus held the position of United States Ambassador to China from 2014 to 2019.'}\n",
      "Inertia:     {'cur_question': 'Cory Gardner held which position in 2015?', 'gt_ans': 'United States senator', 'next_model_prediction': 'Cory Gardner held the position of United States Senator from Colorado from 2015-present.'}\n",
      "Inertia:     {'cur_question': 'Bill English held which position in 2016?', 'gt_ans': 'Prime Minister of New Zealand', 'next_model_prediction': 'Bill English held the position of Prime Minister of New Zealand from 2016 to 2020.'}\n",
      "Inertia:     {'cur_question': 'Stockwell Day held which position in 2010?', 'gt_ans': 'President of the Treasury Board', 'next_model_prediction': 'Stockwell Day held the position of President of the Treasury Board of Canada from 2010 to 2011.'}\n"
     ]
    },
    {
     "name": "stderr",
     "output_type": "stream",
     "text": [
      " 15%|█▌        | 7691/50310 [00:15<01:44, 406.47it/s]"
     ]
    },
    {
     "name": "stdout",
     "output_type": "stream",
     "text": [
      "Inertia:     {'cur_question': 'Alexander Acosta held which position in 2017?', 'gt_ans': 'United States Secretary of Labor', 'next_model_prediction': 'Alexander Acosta held the position of United States Secretary of Labor in 2017.'}\n",
      "Inertia:     {'cur_question': 'Ken Salazar held which position in 2011?', 'gt_ans': 'United States Secretary of the Interior', 'next_model_prediction': 'Ken Salazar held the position of United States Secretary of the Interior in 2011.'}\n",
      "Inertia:     {'cur_question': 'Michel Temer held which position in 2019?', 'gt_ans': 'Brazil.', 'next_model_prediction': 'Michel Temer held the position of President of Brazil in 2019.'}\n",
      "Inertia:     {'cur_question': 'Michael D. Higgins held which position in 2011?', 'gt_ans': 'President of Ireland', 'next_model_prediction': 'President of Ireland.'}\n"
     ]
    },
    {
     "name": "stderr",
     "output_type": "stream",
     "text": [
      " 15%|█▌        | 7783/50310 [00:16<01:40, 421.42it/s]"
     ]
    },
    {
     "name": "stdout",
     "output_type": "stream",
     "text": [
      "Inertia:     {'cur_question': 'Ed Balls held which position in 2011?', 'gt_ans': 'Shadow Chancellor of the Exchequer', 'next_model_prediction': 'Ed Balls held the position of Shadow Chancellor of the Exchequer in 2011.'}\n",
      "Inertia:     {'cur_question': 'Joyce Banda held which position in 2012?', 'gt_ans': 'President of Malawi', 'next_model_prediction': 'President of Malawi.'}\n",
      "Inertia:     {'cur_question': 'Marie L. Yovanovitch held which position in 2011?', 'gt_ans': 'United States Ambassador to Ukraine', 'next_model_prediction': 'Marie L. Yovanovitch held the position of United States Ambassador to Ukraine from 2016 to 2019.'}\n",
      "Inertia:     {'cur_question': 'Bob Filner held which position in 2012?', 'gt_ans': 'mayor of San Diego', 'next_model_prediction': 'Bob Filner held the position of Mayor of San Diego, California from 2012 to 2016.'}\n",
      "Inertia:     {'cur_question': 'Leo Varadkar held which position in 2017?', 'gt_ans': 'Taoiseach', 'next_model_prediction': 'Taoiseach of Ireland.'}\n",
      "Inertia:     {'cur_question': 'Francis Maude held which position in 2010?', 'gt_ans': 'Minister for the Cabinet Office', 'next_model_prediction': 'He was the Minister for the Cabinet Office.'}\n",
      "Inertia:     {'cur_question': 'Campbell Newman held which position in 2011?', 'gt_ans': 'Premier of Queensland', 'next_model_prediction': 'Campbell Newman held the position of Premier of Queensland, Australia in 2011.'}\n"
     ]
    },
    {
     "name": "stderr",
     "output_type": "stream",
     "text": [
      " 16%|█▌        | 7876/50310 [00:16<01:38, 430.68it/s]"
     ]
    },
    {
     "name": "stdout",
     "output_type": "stream",
     "text": [
      "Inertia:     {'cur_question': 'Martín Vizcarra held which position in 2018?', 'gt_ans': 'President of Peru', 'next_model_prediction': 'He was the President of Peru.'}\n",
      "Inertia:     {'cur_question': 'Nathan Deal held which position in 2010?', 'gt_ans': 'Governor of Georgia', 'next_model_prediction': 'Nathan Deal held the position of Governor of Georgia from 2011 to 2019.'}\n",
      "Inertia:     {'cur_question': 'Giorgos Papandreou held which position in 2010?', 'gt_ans': 'Prime Minister of Greece', 'next_model_prediction': 'He was the Prime Minister of Greece.'}\n"
     ]
    },
    {
     "name": "stderr",
     "output_type": "stream",
     "text": [
      " 16%|█▌        | 7964/50310 [00:16<01:43, 407.98it/s]"
     ]
    },
    {
     "name": "stdout",
     "output_type": "stream",
     "text": [
      "Inertia:     {'cur_question': 'Danny Alexander held which position in 2010?', 'gt_ans': 'Chief Secretary to the Treasury', 'next_model_prediction': 'Danny Alexander held the position of Chief Secretary to the Treasury in 2010.'}\n",
      "Inertia:     {'cur_question': 'Kathy Hochul held which position in 2013?', 'gt_ans': 'Lieutenant Governor of New York', 'next_model_prediction': 'Kathy Hochul held the position of Lieutenant Governor of New York from 2015 to 2019.'}\n",
      "Inertia:     {'cur_question': 'Steve Daines held which position in 2015?', 'gt_ans': 'United States senator', 'next_model_prediction': 'Steve Daines held the position of United States Senator from Montana from 2015 to present.'}\n",
      "Inertia:     {'cur_question': 'Todd Young held which position in 2017?', 'gt_ans': 'United States senator', 'next_model_prediction': 'Todd Young held the position of United States Senator from Indiana from 2017 to 20'}\n",
      "Inertia:     {'cur_question': 'Dan Coats held which position in 2017?', 'gt_ans': 'Director of National Intelligence', 'next_model_prediction': 'Director of National Intelligence.'}\n",
      "Inertia:     {'cur_question': 'Gary Peters held which position in 2015?', 'gt_ans': 'United States senator', 'next_model_prediction': 'Gary Peters held the position of United States Senator from Michigan from 2015 to 2021.'}\n"
     ]
    },
    {
     "name": "stderr",
     "output_type": "stream",
     "text": [
      " 16%|█▌        | 8079/50310 [00:16<01:29, 472.04it/s]"
     ]
    },
    {
     "name": "stdout",
     "output_type": "stream",
     "text": [
      "Inertia:     {'cur_question': 'Kristalina Georgieva held which position in 2016?', 'gt_ans': 'chief executive officer', 'next_model_prediction': 'Kristalina Georgieva held the position of Chief Executive Officer at the World Bank.'}\n",
      "Inertia:     {'cur_question': 'Todd Rokita held which position in 2010?', 'gt_ans': 'United States representative', 'next_model_prediction': \"He was a United States Representative for Indiana's 4th congressional district from 2011 to 2019.\"}\n",
      "Inertia:     {'cur_question': 'Martha Roby held which position in 2010?', 'gt_ans': 'United States representative', 'next_model_prediction': \"Martha Roby held the position of United States Representative for Alabama's 2nd congressional district from 2011 to 2\"}\n"
     ]
    },
    {
     "name": "stderr",
     "output_type": "stream",
     "text": [
      " 16%|█▋        | 8182/50310 [00:16<01:36, 436.81it/s]"
     ]
    },
    {
     "name": "stdout",
     "output_type": "stream",
     "text": [
      "Inertia:     {'cur_question': 'Ollanta Humala held which position in 2013?', 'gt_ans': 'President of Peru', 'next_model_prediction': 'President of Peru.'}\n",
      "Inertia:     {'cur_question': 'Emily Thornberry held which position in 2016?', 'gt_ans': 'Shadow Foreign Secretary', 'next_model_prediction': 'Emily Thornberry held the position of Shadow Foreign Secretary in 2016.'}\n",
      "Inertia:     {'cur_question': 'Jean Charest held which position in 2012?', 'gt_ans': 'Quebec.', 'next_model_prediction': 'He was the premier of Quebec, Canada.'}\n",
      "Inertia:     {'cur_question': 'Mikhail Mishustin held which position in 2020?', 'gt_ans': 'Russia.', 'next_model_prediction': 'Mikhail Mishustin held the position of Prime Minister of Russia in 2020.'}\n",
      "Inertia:     {'cur_question': 'Gina Haspel held which position in 2013?', 'gt_ans': 'Deputy Director of the Central Intelligence Agency', 'next_model_prediction': 'Gina Haspel held the position of Deputy Director of the Central Intelligence Agency in 2013.'}\n",
      "Inertia:     {'cur_question': 'Ngozi Okonjo-Iweala held which position in 2011?', 'gt_ans': 'Finance Minister of Nigeria', 'next_model_prediction': 'Ngozi Okonjo-Iweala held the position of Finance Minister of Nigeria from 2011 to 2015'}\n",
      "Inertia:     {'cur_question': 'Bingu wa Mutharika held which position in 2011?', 'gt_ans': 'President of Malawi', 'next_model_prediction': 'President of Malawi.'}\n",
      "Inertia:     {'cur_question': 'Antonio Tajani held which position in 2020?', 'gt_ans': 'European Parliament.', 'next_model_prediction': 'He was the President of the European Parliament.'}\n"
     ]
    },
    {
     "name": "stderr",
     "output_type": "stream",
     "text": [
      " 16%|█▋        | 8270/50310 [00:17<01:41, 414.02it/s]"
     ]
    },
    {
     "name": "stdout",
     "output_type": "stream",
     "text": [
      "Inertia:     {'cur_question': 'Colleen Hanabusa held which position in 2010?', 'gt_ans': 'United States representative', 'next_model_prediction': \"Colleen Hanabusa held the position of United States Representative for Hawaii's 1st congressional district from 2011\"}\n",
      "Inertia:     {'cur_question': 'Tina Smith held which position in 2018?', 'gt_ans': 'United States senator', 'next_model_prediction': 'Tina Smith held the position of United States Senator from Minnesota from 2018 to present.'}\n",
      "Inertia:     {'cur_question': 'Naoto Kan held which position in 2010?', 'gt_ans': 'Prime Minister of Japan', 'next_model_prediction': 'Prime Minister of Japan.'}\n",
      "Inertia:     {'cur_question': 'Shavkat Mirziyoyev held which position in 2016?', 'gt_ans': 'President of Uzbekistan', 'next_model_prediction': 'President of Uzbekistan.'}\n",
      "Inertia:     {'cur_question': 'Luther Strange held which position in 2017?', 'gt_ans': 'United States senator', 'next_model_prediction': 'Luther Strange held the position of United States Senator from Alabama from 2017 to 2018.'}\n",
      "Inertia:     {'cur_question': 'Borut Pahor held which position in 2012?', 'gt_ans': 'President of Slovenia', 'next_model_prediction': 'President of Slovenia.'}\n"
     ]
    },
    {
     "name": "stderr",
     "output_type": "stream",
     "text": [
      " 17%|█▋        | 8406/50310 [00:17<01:44, 402.91it/s]"
     ]
    },
    {
     "name": "stdout",
     "output_type": "stream",
     "text": [
      "Inertia:     {'cur_question': 'Roy Cooper held which position in 2017?', 'gt_ans': 'Governor of North Carolina', 'next_model_prediction': 'Roy Cooper held the position of Governor of North Carolina in 2017.'}\n",
      "Inertia:     {'cur_question': 'János Áder held which position in 2012?', 'gt_ans': 'President of Hungary', 'next_model_prediction': 'János Áder held the position of President of Hungary from 2012 to present.'}\n",
      "Inertia:     {'cur_question': 'Don Bacon held which position in 2015?', 'gt_ans': 'United States representative', 'next_model_prediction': \"Don Bacon held the position of United States Representative for Nebraska's 2nd congressional district from 2019 to\"}\n",
      "Inertia:     {'cur_question': 'Tim Walz held which position in 2019?', 'gt_ans': 'Governor of Minnesota', 'next_model_prediction': 'Tim Walz held the position of Governor of Minnesota in 2019.'}\n",
      "Inertia:     {'cur_question': 'Zhang Dejiang held which position in 2013?', 'gt_ans': \"Chairman of the Standing Committee of the National People's Congress\", 'next_model_prediction': \"Chairman of the Standing Committee of the National People's Congress of China.\"}\n"
     ]
    },
    {
     "name": "stderr",
     "output_type": "stream",
     "text": [
      " 17%|█▋        | 8487/50310 [00:17<01:46, 391.97it/s]"
     ]
    },
    {
     "name": "stdout",
     "output_type": "stream",
     "text": [
      "Inertia:     {'cur_question': 'Peter Mutharika held which position in 2012?', 'gt_ans': 'President of Malawi', 'next_model_prediction': 'Peter Mutharika held the position of President of Malawi from 2012 to 2020.'}\n",
      "Inertia:     {'cur_question': 'Owen Paterson held which position in 2012?', 'gt_ans': 'Secretary of State for Environment, Food and Rural Affairs', 'next_model_prediction': 'He was the Secretary of State for Environment, Food and Rural Affairs in the United Kingdom.'}\n",
      "Inertia:     {'cur_question': 'Sooronbay Jeenbekov held which position in 2020?', 'gt_ans': 'Kyrgyzstan.', 'next_model_prediction': 'He was the President of Kyrgyzstan.'}\n",
      "Inertia:     {'cur_question': 'Frans Timmermans held which position in 2019?', 'gt_ans': 'European Commissioner', 'next_model_prediction': 'He was the European Commissioner for Foreign Affairs and Security Policy.'}\n",
      "Inertia:     {'cur_question': 'Diosdado Cabello held which position in 2010?', 'gt_ans': 'President of the National Assembly of Venezuela', 'next_model_prediction': 'He was the President of the National Assembly of Venezuela.'}\n"
     ]
    },
    {
     "name": "stderr",
     "output_type": "stream",
     "text": [
      " 17%|█▋        | 8615/50310 [00:18<01:44, 397.82it/s]"
     ]
    },
    {
     "name": "stdout",
     "output_type": "stream",
     "text": [
      "Inertia:     {'cur_question': 'Christian Wulff held which position in 2010?', 'gt_ans': 'president of Germany', 'next_model_prediction': 'Christian Wulff held the position of President of Germany from 2010 to 2012.'}\n",
      "Inertia:     {'cur_question': 'John Neely Kennedy held which position in 2016?', 'gt_ans': 'United States senator', 'next_model_prediction': 'John Neely Kennedy held the position of United States Senator from the state of Massachusetts.'}\n"
     ]
    },
    {
     "name": "stderr",
     "output_type": "stream",
     "text": [
      " 17%|█▋        | 8705/50310 [00:18<01:44, 399.43it/s]"
     ]
    },
    {
     "name": "stdout",
     "output_type": "stream",
     "text": [
      "Inertia:     {'cur_question': 'Sigmundur Davíð Gunnlaugsson held which position in 2016?', 'gt_ans': 'Iceland.', 'next_model_prediction': 'Sigmundur Davíð Gunnlaugsson held the position of Prime Minister of Iceland from 2013 to 20'}\n",
      "Inertia:     {'cur_question': 'Lou Barletta held which position in 2010?', 'gt_ans': 'United States representative', 'next_model_prediction': \"He was a United States Representative for Pennsylvania's 11th congressional district from 2011 to 2019.\"}\n",
      "Inertia:     {'cur_question': 'Clay Higgins held which position in 2016?', 'gt_ans': 'United States representative', 'next_model_prediction': \"Clay Higgins held the position of United States Representative for Louisiana's 3rd congressional district from 2017 to\"}\n",
      "Inertia:     {'cur_question': 'Neil Abercrombie held which position in 2014?', 'gt_ans': 'Hawaii.', 'next_model_prediction': 'Neil Abercrombie held the position of Governor of Hawaii from 2010 to 2014.'}\n"
     ]
    },
    {
     "name": "stderr",
     "output_type": "stream",
     "text": [
      " 17%|█▋        | 8786/50310 [00:18<01:50, 375.93it/s]"
     ]
    },
    {
     "name": "stdout",
     "output_type": "stream",
     "text": [
      "Inertia:     {'cur_question': 'Martin Heinrich held which position in 2013?', 'gt_ans': 'United States senator', 'next_model_prediction': 'Martin Heinrich held the position of United States Senator from New Mexico from 2013-present.'}\n",
      "Inertia:     {'cur_question': 'Sean Duffy held which position in 2010?', 'gt_ans': 'United States representative', 'next_model_prediction': \"Sean Duffy held the position of United States Representative for Wisconsin's 7th congressional district from 2011 to\"}\n",
      "Inertia:     {'cur_question': 'Yvette Cooper held which position in 2013?', 'gt_ans': 'Shadow Home Secretary', 'next_model_prediction': 'Shadow Home Secretary.'}\n",
      "Inertia:     {'cur_question': 'Mykola Azarov was the chair of which entity in 2014?', 'gt_ans': 'Ukraine.', 'next_model_prediction': 'He was the Prime Minister of Ukraine.'}\n",
      "Inertia:     {'cur_question': 'Frank Guinta held which position in 2010?', 'gt_ans': 'United States representative', 'next_model_prediction': \"Frank Guinta held the position of United States Representative for New Hampshire's 1st congressional district from 2011 to\"}\n",
      "Inertia:     {'cur_question': 'Laurent Lamothe held which position in 2012?', 'gt_ans': 'Prime Minister of Haiti', 'next_model_prediction': 'Laurent Lamothe held the position of Prime Minister of Haiti from 2012 to 2014.'}\n"
     ]
    },
    {
     "name": "stderr",
     "output_type": "stream",
     "text": [
      " 18%|█▊        | 8874/50310 [00:18<01:44, 394.74it/s]"
     ]
    },
    {
     "name": "stdout",
     "output_type": "stream",
     "text": [
      "Inertia:     {'cur_question': 'Lisa Murkowski held which position in 2010?', 'gt_ans': 'United States senator', 'next_model_prediction': 'Lisa Murkowski held the position of United States Senator from Alaska from 2002 to 2021.'}\n",
      "Inertia:     {'cur_question': 'Rafał Trzaskowski held which position in 2020?', 'gt_ans': 'Warsaw.', 'next_model_prediction': 'Rafał Trzaskowski held the position of Mayor of Warsaw, Poland in 2020.'}\n",
      "Inertia:     {'cur_question': 'Antonis Samaras held which position in 2015?', 'gt_ans': 'Greece.', 'next_model_prediction': 'He was the Prime Minister of Greece.'}\n",
      "Inertia:     {'cur_question': 'Brian Pallister held which position in 2020?', 'gt_ans': 'Manitoba.', 'next_model_prediction': 'Brian Pallister held the position of Premier of Manitoba, Canada in 2020.'}\n",
      "Inertia:     {'cur_question': 'Barry Gardiner held which position in 2016?', 'gt_ans': 'Shadow Secretary of State for International Trade', 'next_model_prediction': 'Barry Gardiner held the position of Shadow Secretary of State for International Trade in 2016.'}\n"
     ]
    },
    {
     "name": "stderr",
     "output_type": "stream",
     "text": [
      " 18%|█▊        | 8955/50310 [00:18<01:46, 386.76it/s]"
     ]
    },
    {
     "name": "stdout",
     "output_type": "stream",
     "text": [
      "Inertia:     {'cur_question': 'Hailemariam Desalegn held which position in 2018?', 'gt_ans': 'Ethiopia.', 'next_model_prediction': 'He was the Prime Minister of Ethiopia.'}\n",
      "Inertia:     {'cur_question': 'Cheryl Gillan held which position in 2010?', 'gt_ans': 'Secretary of State for Wales', 'next_model_prediction': 'Cheryl Gillan held the position of Secretary of State for Wales in 2010.'}\n",
      "Inertia:     {'cur_question': 'Don Beyer held which position in 2013?', 'gt_ans': 'United States representative', 'next_model_prediction': \"Don Beyer held the position of United States Representative for Virginia's 8th congressional district from 2013 to 20\"}\n"
     ]
    },
    {
     "name": "stderr",
     "output_type": "stream",
     "text": [
      " 18%|█▊        | 9037/50310 [00:19<01:45, 390.24it/s]"
     ]
    },
    {
     "name": "stdout",
     "output_type": "stream",
     "text": [
      "Inertia:     {'cur_question': \"Luke 'Ming' Flanagan held which position in 2014?\", 'gt_ans': 'member of the European Parliament', 'next_model_prediction': \"Luke 'Ming' Flanagan held the position of Member of the European Parliament (MEP) for the Midlands North West constituency in the\"}\n",
      "Inertia:     {'cur_question': 'Yoshihiko Noda held which position in 2011?', 'gt_ans': 'Prime Minister of Japan', 'next_model_prediction': 'Prime Minister of Japan.'}\n",
      "Inertia:     {'cur_question': 'Theresa Villiers held which position in 2012?', 'gt_ans': 'Secretary of State for Northern Ireland', 'next_model_prediction': 'She was the Secretary of State for Northern Ireland.'}\n"
     ]
    },
    {
     "name": "stderr",
     "output_type": "stream",
     "text": [
      " 18%|█▊        | 9175/50310 [00:19<01:41, 406.77it/s]"
     ]
    },
    {
     "name": "stdout",
     "output_type": "stream",
     "text": [
      "Inertia:     {'cur_question': 'Letitia James held which position in 2018?', 'gt_ans': 'Attorney General of New York', 'next_model_prediction': 'Attorney General of New York.'}\n",
      "Inertia:     {'cur_question': 'Simon Coveney held which position in 2017?', 'gt_ans': 'Minister for Foreign Affairs and Trade', 'next_model_prediction': 'Simon Coveney held the position of Minister for Foreign Affairs and Trade in 2017.'}\n",
      "Inertia:     {'cur_question': 'Han Kuo-yu held which position in 2020?', 'gt_ans': 'Kaohsiung.', 'next_model_prediction': 'Han Kuo-yu held the position of Mayor of Kaohsiung, Taiwan in 2020.'}\n",
      "Inertia:     {'cur_question': 'Edna Molewa held which position in 2010?', 'gt_ans': 'Minister of Water and Environmental Affairs', 'next_model_prediction': 'She was the Minister of Water and Environmental Affairs in South Africa.'}\n",
      "Inertia:     {'cur_question': 'Richard Bruton held which position in 2018?', 'gt_ans': 'Minister for Communications, Climate Action and Environment', 'next_model_prediction': 'He was the Minister for Communications, Climate Action and Environment in Ireland.'}\n"
     ]
    },
    {
     "name": "stderr",
     "output_type": "stream",
     "text": [
      " 18%|█▊        | 9283/50310 [00:19<01:30, 450.97it/s]"
     ]
    },
    {
     "name": "stdout",
     "output_type": "stream",
     "text": [
      "Inertia:     {'cur_question': 'Gladys Berejiklian held which position in 2020?', 'gt_ans': 'New South Wales.', 'next_model_prediction': 'Gladys Berejiklian held the position of Premier of New South Wales in 2020.'}\n",
      "Inertia:     {'cur_question': 'Annastacia Palaszczuk held which position in 2015?', 'gt_ans': 'Premier of Queensland', 'next_model_prediction': 'Annastacia Palaszczuk held the position of Premier of Queensland, Australia in 2015.'}\n",
      "Inertia:     {'cur_question': 'Juan Orlando Hernández held which position in 2014?', 'gt_ans': 'President of Honduras', 'next_model_prediction': 'Juan Orlando Hernández held the position of President of Honduras from 2014 to 2020.'}\n",
      "Inertia:     {'cur_question': 'Lee Nak-yon held which position in 2017?', 'gt_ans': 'Prime Minister of South Korea', 'next_model_prediction': 'Lee Nak-yon held the position of Prime Minister of South Korea from 2017 to 2020.'}\n",
      "Inertia:     {'cur_question': 'George Holding held which position in 2011?', 'gt_ans': 'United States representative', 'next_model_prediction': \"George Holding held the position of United States Representative for North Carolina's 2nd congressional district from 2011 to\"}\n"
     ]
    },
    {
     "name": "stderr",
     "output_type": "stream",
     "text": [
      "/tmp/ipykernel_201034/4268444313.py:2: UserWarning: This pattern is interpreted as a regular expression, and has match groups. To actually get the groups, use str.extract.\n",
      "  return data[data[\"Question\"].str.contains(entity)]\n",
      " 19%|█▊        | 9383/50310 [00:19<01:33, 437.80it/s]"
     ]
    },
    {
     "name": "stdout",
     "output_type": "stream",
     "text": [
      "Inertia:     {'cur_question': 'Dipak Misra held which position in 2010?', 'gt_ans': 'Chief Justice of India', 'next_model_prediction': 'Chief Justice of India.'}\n",
      "Inertia:     {'cur_question': 'Hope Hicks held which position in 2017?', 'gt_ans': 'White House Communications Director', 'next_model_prediction': 'Hope Hicks held the position of White House Communications Director in 2017.'}\n"
     ]
    },
    {
     "name": "stderr",
     "output_type": "stream",
     "text": [
      " 19%|█▉        | 9568/50310 [00:20<01:35, 425.26it/s]"
     ]
    },
    {
     "name": "stdout",
     "output_type": "stream",
     "text": [
      "Inertia:     {'cur_question': 'Dominic LeBlanc held which position in 2016?', 'gt_ans': 'Minister of Fisheries and Oceans', 'next_model_prediction': 'Dominic LeBlanc held the position of Minister of Fisheries and Oceans in 2016.'}\n",
      "Inertia:     {'cur_question': 'Wayne Swan held which position in 2010?', 'gt_ans': 'Deputy Prime Minister of Australia', 'next_model_prediction': 'Wayne Swan held the position of Deputy Prime Minister of Australia from 2010 to 2013.'}\n",
      "Inertia:     {'cur_question': 'Thein Sein held which position in 2016?', 'gt_ans': 'Myanmar.', 'next_model_prediction': 'Thein Sein held the position of President of Myanmar from 2011 to 2016.'}\n",
      "Inertia:     {'cur_question': 'Jesse Robredo held which position in 2010?', 'gt_ans': 'Secretary of the Interior and Local Government', 'next_model_prediction': 'Jesse Robredo held the position of Secretary of the Interior and Local Government of the Philippines from 2010 to 2012'}\n"
     ]
    },
    {
     "name": "stderr",
     "output_type": "stream",
     "text": [
      " 19%|█▉        | 9705/50310 [00:20<01:35, 424.07it/s]"
     ]
    },
    {
     "name": "stdout",
     "output_type": "stream",
     "text": [
      "Inertia:     {'cur_question': 'Kyriakos Mitsotakis held which position in 2020?', 'gt_ans': 'Greece.', 'next_model_prediction': 'Kyriakos Mitsotakis held the position of Prime Minister of Greece from 2019 to 2020.'}\n",
      "Inertia:     {'cur_question': 'Michelle Lujan Grisham held which position in 2019?', 'gt_ans': 'Governor of New Mexico', 'next_model_prediction': 'Michelle Lujan Grisham held the position of Governor of New Mexico in 2019.'}\n"
     ]
    },
    {
     "name": "stderr",
     "output_type": "stream",
     "text": [
      " 19%|█▉        | 9794/50310 [00:20<01:36, 420.65it/s]"
     ]
    },
    {
     "name": "stdout",
     "output_type": "stream",
     "text": [
      "Inertia:     {'cur_question': 'François Legault held which position in 2020?', 'gt_ans': 'Quebec.', 'next_model_prediction': 'François Legault held the position of Premier of Quebec, Canada from 2018 to 20'}\n",
      "Inertia:     {'cur_question': 'John Swinney held which position in 2014?', 'gt_ans': 'Deputy First Minister of Scotland', 'next_model_prediction': 'He was the Deputy First Minister of Scotland.'}\n",
      "Inertia:     {'cur_question': 'Brenda Hale, Baroness Hale of Richmond held which position in 2017?', 'gt_ans': 'President of the Supreme Court of the United Kingdom', 'next_model_prediction': 'Baroness Hale of Richmond held the position of Deputy President of the Supreme Court of the United Kingdom in 2017.'}\n"
     ]
    },
    {
     "name": "stderr",
     "output_type": "stream",
     "text": [
      " 20%|█▉        | 9882/50310 [00:21<01:36, 418.07it/s]"
     ]
    },
    {
     "name": "stdout",
     "output_type": "stream",
     "text": [
      "Inertia:     {'cur_question': 'Guðni Jóhannesson held which position in 2016?', 'gt_ans': 'President of Iceland', 'next_model_prediction': 'Guðni Jóhannesson held the position of President of Iceland in 2016.'}\n",
      "Inertia:     {'cur_question': 'Avichai Mandelblit held which position in 2016?', 'gt_ans': 'Attorney General of Israel', 'next_model_prediction': 'Avichai Mandelblit held the position of Attorney General of Israel in 2016.'}\n",
      "Inertia:     {'cur_question': 'Nguyen Phu Trong held which position in 2011?', 'gt_ans': 'General Secretary of the Communist Party of Vietnam', 'next_model_prediction': 'Nguyen Phu Trong held the position of General Secretary of the Communist Party of Vietnam in 2011.'}\n",
      "Inertia:     {'cur_question': 'Ilir Meta held which position in 2010?', 'gt_ans': 'President of Albania', 'next_model_prediction': 'Ilir Meta held the position of President of Albania from 2017 to 202.'}\n",
      "Inertia:     {'cur_question': 'Virginia Raggi held which position in 2020?', 'gt_ans': 'Rome.', 'next_model_prediction': 'Virginia Raggi held the position of Mayor of Rome, Italy in 2020.'}\n"
     ]
    },
    {
     "name": "stderr",
     "output_type": "stream",
     "text": [
      " 20%|█▉        | 10013/50310 [00:21<01:42, 393.80it/s]"
     ]
    },
    {
     "name": "stdout",
     "output_type": "stream",
     "text": [
      "Inertia:     {'cur_question': 'Nasir-ul-Mulk held which position in 2018?', 'gt_ans': 'Pakistan.', 'next_model_prediction': 'Nasir-ul-Mulk held the position of Chief Justice of Pakistan in 2018.'}\n",
      "Inertia:     {'cur_question': 'Adam Putnam held which position in 2011?', 'gt_ans': 'Florida Commissioner of Agriculture', 'next_model_prediction': 'Adam Putnam held the position of Florida Commissioner of Agriculture in 2011.'}\n",
      "Inertia:     {'cur_question': 'Stephan Weil is the head of the government of which state in 2013?', 'gt_ans': 'Lower Saxony.', 'next_model_prediction': 'Stephan Weil is the head of the government of the state of Lower Saxony in 2013.'}\n",
      "Inertia:     {'cur_question': 'Jack Dalrymple held which position in 2016?', 'gt_ans': 'North Dakota.', 'next_model_prediction': 'Jack Dalrymple held the position of Governor of North Dakota from 2010 to 2016.'}\n",
      "Inertia:     {'cur_question': 'David Neuberger, Baron Neuberger of Abbotsbury held which position in 2012?', 'gt_ans': 'President of the Supreme Court of the United Kingdom', 'next_model_prediction': 'He was the President of the Supreme Court of the United Kingdom.'}\n",
      "Inertia:     {'cur_question': 'Lindsay Hoyle held which position in 2019?', 'gt_ans': 'Speaker of the House of Commons', 'next_model_prediction': 'Lindsay Hoyle held the position of Speaker of the House of Commons in 2019.'}\n"
     ]
    },
    {
     "name": "stderr",
     "output_type": "stream",
     "text": [
      " 20%|██        | 10135/50310 [00:21<01:43, 389.64it/s]"
     ]
    },
    {
     "name": "stdout",
     "output_type": "stream",
     "text": [
      "Inertia:     {'cur_question': 'Wanda Vázquez Garced held which position in 2020?', 'gt_ans': 'Puerto Rico.', 'next_model_prediction': 'Wanda Vázquez Garced held the position of Governor of Puerto Rico in 2020.'}\n",
      "Inertia:     {'cur_question': 'Karu Jayasuriya held which position in 2015?', 'gt_ans': 'Speaker of the Parliament of Sri Lanka', 'next_model_prediction': 'He held the position of Speaker of the Parliament of Sri Lanka.'}\n"
     ]
    },
    {
     "name": "stderr",
     "output_type": "stream",
     "text": [
      " 20%|██        | 10212/50310 [00:22<01:52, 356.58it/s]"
     ]
    },
    {
     "name": "stdout",
     "output_type": "stream",
     "text": [
      "Inertia:     {'cur_question': 'Su Tseng-chang was the chair of which entity in 2014?', 'gt_ans': 'Taiwan.', 'next_model_prediction': \"Taiwan's Mainland Affairs Council.\"}\n",
      "Inertia:     {'cur_question': 'Jeremy Heywood held which position in 2010?', 'gt_ans': 'Cabinet Secretary', 'next_model_prediction': 'He was the Cabinet Secretary.'}\n"
     ]
    },
    {
     "name": "stderr",
     "output_type": "stream",
     "text": [
      " 21%|██        | 10354/50310 [00:22<01:36, 414.09it/s]"
     ]
    },
    {
     "name": "stdout",
     "output_type": "stream",
     "text": [
      "Inertia:     {'cur_question': 'Tom Rice held which position in 2012?', 'gt_ans': 'United States representative', 'next_model_prediction': 'A: Tom Rice held the position of United States Representative from 2012 to 2018.'}\n"
     ]
    },
    {
     "name": "stderr",
     "output_type": "stream",
     "text": [
      " 21%|██        | 10461/50310 [00:22<01:28, 450.81it/s]"
     ]
    },
    {
     "name": "stdout",
     "output_type": "stream",
     "text": [
      "Inertia:     {'cur_question': 'Dennis Daugaard held which position in 2011?', 'gt_ans': 'Governor of South Dakota', 'next_model_prediction': 'Dennis Daugaard held the position of Governor of South Dakota in 2011.'}\n",
      "Inertia:     {'cur_question': 'Jim Banks held which position in 2011?', 'gt_ans': 'United States representative', 'next_model_prediction': \"Jim Banks held the position of United States Representative for Indiana's 3rd congressional district from 2019 to 2\"}\n",
      "Inertia:     {'cur_question': 'David Mundell held which position in 2015?', 'gt_ans': 'Secretary of State for Scotland', 'next_model_prediction': 'David Mundell held the position of Secretary of State for Scotland in 2015.'}\n",
      "Inertia:     {'cur_question': 'Stephen Cottrell held which position in 2010?', 'gt_ans': 'Bishop of Chelmsford', 'next_model_prediction': 'Stephen Cottrell held the position of Bishop of Chelmsford from 2007 to 2014.'}\n"
     ]
    },
    {
     "name": "stderr",
     "output_type": "stream",
     "text": [
      " 21%|██        | 10604/50310 [00:22<01:28, 450.18it/s]"
     ]
    },
    {
     "name": "stdout",
     "output_type": "stream",
     "text": [
      "Inertia:     {'cur_question': 'James Franklin Jeffrey held which position in 2010?', 'gt_ans': 'United States Ambassador to Iraq', 'next_model_prediction': 'He was the United States Ambassador to Iraq.'}\n",
      "Inertia:     {'cur_question': 'Rachel Treweek held which position in 2015?', 'gt_ans': 'Bishop of Gloucester', 'next_model_prediction': 'Rachel Treweek held the position of Bishop of Gloucester in 2015.'}\n",
      "Inertia:     {'cur_question': 'Jean-Michel Leniaud held which position in 2016?', 'gt_ans': 'president', 'next_model_prediction': 'He was the President of the International Olympic Committee.'}\n",
      "Inertia:     {'cur_question': 'Parvez Elahi held which position in 2013?', 'gt_ans': 'speaker', 'next_model_prediction': 'Parvez Elahi held the position of Speaker of the National Assembly of Pakistan from 2013 to 2018.'}\n"
     ]
    },
    {
     "name": "stderr",
     "output_type": "stream",
     "text": [
      " 21%|██▏       | 10693/50310 [00:23<01:37, 405.72it/s]"
     ]
    },
    {
     "name": "stdout",
     "output_type": "stream",
     "text": [
      "Inertia:     {'cur_question': 'Karen Pence held which position in 2017?', 'gt_ans': 'Second Lady of the United States', 'next_model_prediction': 'Karen Pence held the position of Second Lady of the United States in 2017.'}\n"
     ]
    },
    {
     "name": "stderr",
     "output_type": "stream",
     "text": [
      " 22%|██▏       | 10822/50310 [00:23<01:36, 408.21it/s]"
     ]
    },
    {
     "name": "stdout",
     "output_type": "stream",
     "text": [
      "Inertia:     {'cur_question': 'Michael Dugher held which position in 2015?', 'gt_ans': 'Shadow Secretary of State for Culture, Media and Sport', 'next_model_prediction': 'He was the Shadow Secretary of State for Culture, Media and Sport.'}\n",
      "Inertia:     {'cur_question': 'Matías Lammens held which position in 2019?', 'gt_ans': 'minister', 'next_model_prediction': 'Matías Lammens held the position of Minister of Defense in 2019.'}\n"
     ]
    },
    {
     "name": "stderr",
     "output_type": "stream",
     "text": [
      " 22%|██▏       | 10992/50310 [00:23<01:41, 387.01it/s]"
     ]
    },
    {
     "name": "stdout",
     "output_type": "stream",
     "text": [
      "Inertia:     {'cur_question': 'Adil Abdul-Mahdi held which position in 2011?', 'gt_ans': 'Prime Minister of Iraq', 'next_model_prediction': 'Adil Abdul-Mahdi held the position of Prime Minister of Iraq from 2011 to 2018.'}\n",
      "Inertia:     {'cur_question': 'Bardish Chagger held which position in 2018?', 'gt_ans': 'Leader of the Government in the House of Commons', 'next_model_prediction': 'Bardish Chagger held the position of Leader of the Government in the House of Commons in 2018.'}\n"
     ]
    },
    {
     "name": "stderr",
     "output_type": "stream",
     "text": [
      " 22%|██▏       | 11227/50310 [00:24<01:35, 407.43it/s]"
     ]
    },
    {
     "name": "stdout",
     "output_type": "stream",
     "text": [
      "Inertia:     {'cur_question': 'Steve Womack held which position in 2010?', 'gt_ans': 'United States representative', 'next_model_prediction': \"Steve Womack held the position of United States Representative for Arkansas's 3rd congressional district from 2011 to\"}\n"
     ]
    },
    {
     "name": "stderr",
     "output_type": "stream",
     "text": [
      " 23%|██▎       | 11356/50310 [00:24<01:44, 372.98it/s]"
     ]
    },
    {
     "name": "stdout",
     "output_type": "stream",
     "text": [
      "Inertia:     {'cur_question': 'Katrín Jakobsdóttir held which position in 2020?', 'gt_ans': 'Iceland.', 'next_model_prediction': 'Prime Minister of Iceland.'}\n",
      "Inertia:     {'cur_question': 'Trần Đại Quang held which position in 2016?', 'gt_ans': 'President of Vietnam', 'next_model_prediction': 'Trần Đại Quang held the position of President of Vietnam from 2016 until his death in 2018.'}\n"
     ]
    },
    {
     "name": "stderr",
     "output_type": "stream",
     "text": [
      " 23%|██▎       | 11445/50310 [00:25<01:39, 388.86it/s]"
     ]
    },
    {
     "name": "stdout",
     "output_type": "stream",
     "text": [
      "Inertia:     {'cur_question': 'Lamar Jackson attended which university in 2015?', 'gt_ans': 'University of Louisville', 'next_model_prediction': 'University of Louisville.'}\n",
      "Inertia:     {'cur_question': 'Josh Allen attended which university in 2015?', 'gt_ans': 'University of Wyoming', 'next_model_prediction': 'University of Wyoming.'}\n",
      "Inertia:     {'cur_question': 'Missy Franklin attended which university in 2013?', 'gt_ans': 'University of California, Berkeley', 'next_model_prediction': 'University of California, Berkeley.'}\n",
      "Inertia:     {'cur_question': 'Karl-Anthony Towns attended which university in 2014?', 'gt_ans': 'University of Kentucky', 'next_model_prediction': 'University of Kentucky.'}\n",
      "Inertia:     {'cur_question': 'Carson Wentz attended which university in 2011?', 'gt_ans': 'North Dakota State University', 'next_model_prediction': 'Carson Wentz attended North Dakota State University in 2011.'}\n",
      "Inertia:     {'cur_question': 'Christian McCaffrey attended which university in 2014?', 'gt_ans': 'Stanford University', 'next_model_prediction': 'Christian McCaffrey attended Stanford University in 2014.'}\n",
      "Inertia:     {'cur_question': 'Kelsey Plum attended which university in 2013?', 'gt_ans': 'University of Washington', 'next_model_prediction': 'Kelsey Plum attended the University of Washington in 2013.'}\n"
     ]
    },
    {
     "name": "stderr",
     "output_type": "stream",
     "text": [
      " 23%|██▎       | 11581/50310 [00:25<01:34, 410.99it/s]"
     ]
    },
    {
     "name": "stdout",
     "output_type": "stream",
     "text": [
      "Inertia:     {'cur_question': 'Tua Tagovailoa attended which university in 2016?', 'gt_ans': 'University of Alabama', 'next_model_prediction': 'Tua Tagovailoa attended the University of Alabama in 2016.'}\n",
      "Inertia:     {'cur_question': 'Justin Thomas attended which university in 2011?', 'gt_ans': 'University of Alabama', 'next_model_prediction': 'University of Alabama.'}\n",
      "Inertia:     {'cur_question': 'T. J. McConnell attended which university in 2012?', 'gt_ans': 'University of Arizona', 'next_model_prediction': 'T. J. McConnell attended the University of Arizona in 2012.'}\n",
      "Inertia:     {'cur_question': 'Gary Payton II attended which university in 2014?', 'gt_ans': 'Oregon State University', 'next_model_prediction': 'Gary Payton II attended Oregon State University in 2014.'}\n",
      "Inertia:     {'cur_question': 'Tyler Dorsey attended which university in 2015?', 'gt_ans': 'University of Oregon', 'next_model_prediction': 'University of Oregon.'}\n"
     ]
    },
    {
     "name": "stderr",
     "output_type": "stream",
     "text": [
      " 23%|██▎       | 11670/50310 [00:25<01:32, 417.38it/s]"
     ]
    },
    {
     "name": "stdout",
     "output_type": "stream",
     "text": [
      "Inertia:     {'cur_question': 'Chase Young attended which university in 2017?', 'gt_ans': 'Ohio State University', 'next_model_prediction': 'Ohio State University.'}\n",
      "Inertia:     {'cur_question': 'Dwayne Haskins attended which university in 2016?', 'gt_ans': 'Ohio State University', 'next_model_prediction': 'Ohio State University.'}\n"
     ]
    },
    {
     "name": "stderr",
     "output_type": "stream",
     "text": [
      " 23%|██▎       | 11797/50310 [00:25<01:33, 411.33it/s]"
     ]
    },
    {
     "name": "stdout",
     "output_type": "stream",
     "text": [
      "Inertia:     {'cur_question': 'Katie Lou Samuelson attended which university in 2015?', 'gt_ans': 'University of Connecticut', 'next_model_prediction': 'Katie Lou Samuelson attended the University of Connecticut in 2015.'}\n",
      "Inertia:     {'cur_question': 'Luka Garza attended which university in 2017?', 'gt_ans': 'University of Iowa', 'next_model_prediction': 'University of Iowa.'}\n"
     ]
    },
    {
     "name": "stderr",
     "output_type": "stream",
     "text": [
      " 24%|██▎       | 11888/50310 [00:26<01:31, 420.07it/s]"
     ]
    },
    {
     "name": "stdout",
     "output_type": "stream",
     "text": [
      "Inertia:     {'cur_question': 'Kostas Antetokounmpo attended which university in 2016?', 'gt_ans': 'University of Dayton', 'next_model_prediction': 'Kostas Antetokounmpo attended the University of Dayton in 2016.'}\n",
      "Inertia:     {'cur_question': 'Yante Maten attended which university in 2014?', 'gt_ans': 'University of Georgia', 'next_model_prediction': 'Yante Maten attended the University of Georgia in 2014.'}\n",
      "Inertia:     {'cur_question': 'Jake Fromm attended which university in 2017?', 'gt_ans': 'University of Georgia', 'next_model_prediction': 'Jake Fromm attended the University of Georgia in 2017.'}\n"
     ]
    },
    {
     "name": "stderr",
     "output_type": "stream",
     "text": [
      " 24%|██▍       | 11990/50310 [00:26<01:24, 452.19it/s]"
     ]
    },
    {
     "name": "stdout",
     "output_type": "stream",
     "text": [
      "Inertia:     {'cur_question': 'Ruthy Hebard attended which university in 2016?', 'gt_ans': 'University of Oregon', 'next_model_prediction': 'Ruthy Hebard attended the University of Oregon in 2016.'}\n",
      "Inertia:     {'cur_question': 'Jordan Nwora attended which university in 2017?', 'gt_ans': 'University of Louisville', 'next_model_prediction': 'Jordan Nwora attended the University of Louisville in 2017.'}\n"
     ]
    },
    {
     "name": "stderr",
     "output_type": "stream",
     "text": [
      " 24%|██▍       | 12129/50310 [00:26<01:28, 433.11it/s]"
     ]
    },
    {
     "name": "stdout",
     "output_type": "stream",
     "text": [
      "Inertia:     {'cur_question': 'Rondale Moore attended which university in 2018?', 'gt_ans': 'Purdue University', 'next_model_prediction': 'Rondale Moore attended Purdue University in 2018.'}\n"
     ]
    },
    {
     "name": "stderr",
     "output_type": "stream",
     "text": [
      " 25%|██▍       | 12413/50310 [00:27<01:24, 448.02it/s]"
     ]
    },
    {
     "name": "stdout",
     "output_type": "stream",
     "text": [
      "Inertia:     {'cur_question': 'Tyrese Maxey attended which university in 2019?', 'gt_ans': 'University of Kentucky', 'next_model_prediction': 'Tyrese Maxey attended the University of Kentucky in 2019.'}\n",
      "Inertia:     {'cur_question': 'Asia Durr attended which university in 2015?', 'gt_ans': 'University of Louisville', 'next_model_prediction': 'University of Louisville.'}\n",
      "Inertia:     {'cur_question': 'Xi Mingze attended which university in 2010?', 'gt_ans': 'Harvard University', 'next_model_prediction': 'Xi Mingze attended Harvard University in 2010.'}\n"
     ]
    },
    {
     "name": "stderr",
     "output_type": "stream",
     "text": [
      " 25%|██▍       | 12560/50310 [00:27<01:25, 441.13it/s]"
     ]
    },
    {
     "name": "stdout",
     "output_type": "stream",
     "text": [
      "Inertia:     {'cur_question': 'Rhyne Howard attended which university in 2018?', 'gt_ans': 'University of Kentucky', 'next_model_prediction': 'Rhyne Howard attended the University of Kentucky in 2018.'}\n",
      "Inertia:     {'cur_question': 'Brock Turner attended which university in 2014?', 'gt_ans': 'Stanford University', 'next_model_prediction': 'Brock Turner attended Stanford University in 2014.'}\n",
      "Inertia:     {'cur_question': 'Boris Johnson held which position in 2018?', 'gt_ans': 'Prime Minister of the United Kingdom', 'next_model_prediction': 'Boris Johnson held the position of Prime Minister of the United Kingdom from 2019 to 2021.'}\n"
     ]
    },
    {
     "name": "stderr",
     "output_type": "stream",
     "text": [
      " 25%|██▌       | 12678/50310 [00:28<02:00, 312.63it/s]"
     ]
    },
    {
     "name": "stdout",
     "output_type": "stream",
     "text": [
      "Inertia:     {'cur_question': 'Antonio Tajani held which position in 2020?', 'gt_ans': 'European Parliament.', 'next_model_prediction': 'He was the President of the European Parliament.'}\n",
      "Inertia:     {'cur_question': 'Hu Jintao held which position in 2013?', 'gt_ans': 'Communist Party of China.', 'next_model_prediction': 'He was the General Secretary of the Communist Party of China.'}\n",
      "Inertia:     {'cur_question': 'Xi Jinping held which position in 2020?', 'gt_ans': 'Communist Party of China.', 'next_model_prediction': 'Xi Jinping held the position of General Secretary of the Communist Party of China in 2020.'}\n"
     ]
    },
    {
     "name": "stderr",
     "output_type": "stream",
     "text": [
      " 25%|██▌       | 12775/50310 [00:28<02:19, 268.60it/s]"
     ]
    },
    {
     "name": "stdout",
     "output_type": "stream",
     "text": [
      "Inertia:     {'cur_question': 'Gerry Adams held which position in 2020?', 'gt_ans': 'Sinn Féin.', 'next_model_prediction': 'Gerry Adams held the position of President of Sinn Féin in 2020.'}\n"
     ]
    },
    {
     "name": "stderr",
     "output_type": "stream",
     "text": [
      " 26%|██▌       | 12886/50310 [00:28<02:24, 258.93it/s]"
     ]
    },
    {
     "name": "stdout",
     "output_type": "stream",
     "text": [
      "Inertia:     {'cur_question': 'Nicola Sturgeon held which position in 2014?', 'gt_ans': 'First Minister of Scotland', 'next_model_prediction': 'Nicola Sturgeon held the position of Deputy First Minister of Scotland in 2014.'}\n",
      "Inertia:     {'cur_question': 'Malcolm Turnbull was the chair of which entity in 2018?', 'gt_ans': 'Australia.', 'next_model_prediction': 'Australian Communications and Media Authority.'}\n",
      "Inertia:     {'cur_question': 'Scott Morrison held which position in 2018?', 'gt_ans': 'Prime Minister of Australia', 'next_model_prediction': 'Scott Morrison held the position of Prime Minister of Australia in 2018.'}\n"
     ]
    },
    {
     "name": "stderr",
     "output_type": "stream",
     "text": [
      " 26%|██▌       | 13040/50310 [00:29<02:38, 234.72it/s]"
     ]
    },
    {
     "name": "stdout",
     "output_type": "stream",
     "text": [
      "Inertia:     {'cur_question': 'Petr Nečas held which position in 2013?', 'gt_ans': 'Czech Republic.', 'next_model_prediction': 'Petr Nečas held the position of Prime Minister of the Czech Republic from 2010 to 2013.'}\n"
     ]
    },
    {
     "name": "stderr",
     "output_type": "stream",
     "text": [
      " 26%|██▋       | 13281/50310 [00:30<02:27, 251.67it/s]"
     ]
    },
    {
     "name": "stdout",
     "output_type": "stream",
     "text": [
      "Inertia:     {'cur_question': 'Dmitry Medvedev held which position in 2012?', 'gt_ans': 'Prime Minister of Russia', 'next_model_prediction': 'Dmitry Medvedev held the position of Prime Minister of Russia from 2012 to 2018.'}\n",
      "Inertia:     {'cur_question': 'Mike Pence held which position in 2017?', 'gt_ans': 'Vice President of the United States', 'next_model_prediction': 'Vice President of the United States.'}\n",
      "Inertia:     {'cur_question': 'Christian Kern worked for which company in 2016?', 'gt_ans': 'Austria.', 'next_model_prediction': 'Christian Kern worked for the Austrian Federal Railways (ÖBB) in 2016.'}\n"
     ]
    },
    {
     "name": "stderr",
     "output_type": "stream",
     "text": [
      " 27%|██▋       | 13538/50310 [00:31<02:20, 262.19it/s]"
     ]
    },
    {
     "name": "stdout",
     "output_type": "stream",
     "text": [
      "Inertia:     {'cur_question': 'Mariano Rajoy was the chair of which entity in 2017?', 'gt_ans': 'Spain.', 'next_model_prediction': 'Mariano Rajoy was the chair of the Government of Spain in 2017.'}\n",
      "Inertia:     {'cur_question': 'Rachel Notley was the chair of which entity in 2020?', 'gt_ans': 'Alberta.', 'next_model_prediction': 'Rachel Notley was the chair of the Alberta Utilities Commission in 2020.'}\n"
     ]
    },
    {
     "name": "stderr",
     "output_type": "stream",
     "text": [
      " 27%|██▋       | 13780/50310 [00:32<03:13, 188.69it/s]"
     ]
    },
    {
     "name": "stdout",
     "output_type": "stream",
     "text": [
      "Inertia:     {'cur_question': 'Yulia Tymoshenko was the chair of which entity in 2010?', 'gt_ans': 'Ukraine.', 'next_model_prediction': 'Yulia Tymoshenko was the chair of the Verkhovna Rada, the parliament of Ukraine, in 2010.'}\n",
      "Inertia:     {'cur_question': 'Mykola Azarov was the chair of which entity in 2014?', 'gt_ans': 'Ukraine.', 'next_model_prediction': 'He was the Prime Minister of Ukraine.'}\n",
      "Inertia:     {'cur_question': 'Arseniy Yatsenyuk held which position in 2014?', 'gt_ans': 'Prime Minister of Ukraine', 'next_model_prediction': 'Arseniy Yatsenyuk held the position of Prime Minister of Ukraine from 2014 to 2016.'}\n",
      "Inertia:     {'cur_question': 'Oleksiy Honcharuk was the chair of which entity in 2019?', 'gt_ans': 'Ukraine.', 'next_model_prediction': 'Oleksiy Honcharuk was the chair of the National Bank of Ukraine in 2019.'}\n"
     ]
    },
    {
     "name": "stderr",
     "output_type": "stream",
     "text": [
      " 28%|██▊       | 13881/50310 [00:33<03:11, 189.97it/s]"
     ]
    },
    {
     "name": "stdout",
     "output_type": "stream",
     "text": [
      "Inertia:     {'cur_question': 'Xavier Bettel held which position in 2011?', 'gt_ans': 'Prime Minister of Luxembourg', 'next_model_prediction': 'Xavier Bettel held the position of Prime Minister of Luxembourg in 2011.'}\n"
     ]
    },
    {
     "name": "stderr",
     "output_type": "stream",
     "text": [
      " 28%|██▊       | 13926/50310 [00:33<03:14, 186.97it/s]"
     ]
    },
    {
     "name": "stdout",
     "output_type": "stream",
     "text": [
      "Inertia:     {'cur_question': 'Robert Mugabe held which position in 2016?', 'gt_ans': 'President of Zimbabwe', 'next_model_prediction': 'President of Zimbabwe.'}\n",
      "Inertia:     {'cur_question': 'Emmerson Mnangagwa held which position in 2017?', 'gt_ans': 'President of Zimbabwe', 'next_model_prediction': 'He was the President of Zimbabwe.'}\n"
     ]
    },
    {
     "name": "stderr",
     "output_type": "stream",
     "text": [
      " 29%|██▊       | 14356/50310 [00:35<02:23, 250.76it/s]"
     ]
    },
    {
     "name": "stdout",
     "output_type": "stream",
     "text": [
      "Inertia:     {'cur_question': 'Rafael Correa Delgado held which position in 2010?', 'gt_ans': 'President of Ecuador', 'next_model_prediction': 'President of Ecuador.'}\n",
      "Inertia:     {'cur_question': 'Lenín Moreno held which position in 2017?', 'gt_ans': 'President of Ecuador', 'next_model_prediction': 'He was the President of Ecuador.'}\n"
     ]
    },
    {
     "name": "stderr",
     "output_type": "stream",
     "text": [
      " 29%|██▉       | 14469/50310 [00:35<02:22, 250.89it/s]"
     ]
    },
    {
     "name": "stdout",
     "output_type": "stream",
     "text": [
      "Inertia:     {'cur_question': 'Fabian Picardo was the chair of which entity in 2020?', 'gt_ans': 'Gibraltar.', 'next_model_prediction': 'Fabian Picardo was the Chair of the Gibraltar Government in 2020.'}\n"
     ]
    },
    {
     "name": "stderr",
     "output_type": "stream",
     "text": [
      " 29%|██▉       | 14797/50310 [00:37<02:13, 266.91it/s]"
     ]
    },
    {
     "name": "stdout",
     "output_type": "stream",
     "text": [
      "Inertia:     {'cur_question': 'László Lovász was the chair of which entity in 2020?', 'gt_ans': 'International Mathematical Union.', 'next_model_prediction': 'László Lovász was the chair of the International Mathematical Union in 2020.'}\n",
      "Inertia:     {'cur_question': 'Valérie Plante was the chair of which entity in 2020?', 'gt_ans': 'Montreal.', 'next_model_prediction': 'Valérie Plante was the chair of the City of Montreal in 2020.'}\n"
     ]
    },
    {
     "name": "stderr",
     "output_type": "stream",
     "text": [
      " 30%|██▉       | 15065/50310 [00:38<02:30, 234.60it/s]"
     ]
    },
    {
     "name": "stdout",
     "output_type": "stream",
     "text": [
      "Inertia:     {'cur_question': 'Kuupik Kleist was the chair of which entity in 2014?', 'gt_ans': 'Greenland.', 'next_model_prediction': 'Kuupik Kleist was the chair of the Greenlandic Self-Government from 2014 to 2018.'}\n"
     ]
    },
    {
     "name": "stderr",
     "output_type": "stream",
     "text": [
      " 31%|███       | 15443/50310 [00:39<02:28, 234.92it/s]"
     ]
    },
    {
     "name": "stdout",
     "output_type": "stream",
     "text": [
      "Inertia:     {'cur_question': 'Hannelore Kraft was the chair of which entity in 2017?', 'gt_ans': 'North Rhine-Westphalia.', 'next_model_prediction': 'Hannelore Kraft was the chair of the German state of North Rhine-Westphalia in 2017.'}\n"
     ]
    },
    {
     "name": "stderr",
     "output_type": "stream",
     "text": [
      " 31%|███       | 15578/50310 [00:40<01:33, 372.86it/s]"
     ]
    },
    {
     "name": "stdout",
     "output_type": "stream",
     "text": [
      "Inertia:     {'cur_question': 'Bernie Sanders was a member of which party in 2019?', 'gt_ans': 'Democratic Party', 'next_model_prediction': 'Democratic Party.'}\n",
      "Inertia:     {'cur_question': 'Matteo Renzi is the head of the government of which state in 2013?', 'gt_ans': 'Italy.', 'next_model_prediction': 'Matteo Renzi is the head of the government of Italy since 2014.'}\n"
     ]
    },
    {
     "name": "stderr",
     "output_type": "stream",
     "text": [
      " 31%|███       | 15705/50310 [00:40<01:12, 476.06it/s]"
     ]
    },
    {
     "name": "stdout",
     "output_type": "stream",
     "text": [
      "Inertia:     {'cur_question': 'Ben Carson was a member of which party in 2014?', 'gt_ans': 'Republican Party', 'next_model_prediction': 'He was a member of the Republican Party.'}\n",
      "Inertia:     {'cur_question': 'Chen Shui-bian was a member of which party in 2013?', 'gt_ans': 'Democratic Progressive Party', 'next_model_prediction': 'Chen Shui-bian was a member of the Democratic Progressive Party in 2013.'}\n",
      "Inertia:     {'cur_question': 'Michael Cohen was a member of which party in 2018?', 'gt_ans': 'Democratic Party', 'next_model_prediction': 'Democratic Party.'}\n",
      "Inertia:     {'cur_question': 'Julius Malema was a member of which party in 2012?', 'gt_ans': 'Economic Freedom Fighters', 'next_model_prediction': 'Julius Malema was a member of the Economic Freedom Fighters (EFF) in 2012.'}\n"
     ]
    },
    {
     "name": "stderr",
     "output_type": "stream",
     "text": [
      " 31%|███▏      | 15837/50310 [00:40<01:04, 534.42it/s]"
     ]
    },
    {
     "name": "stdout",
     "output_type": "stream",
     "text": [
      "Inertia:     {'cur_question': 'Charlie Crist was a member of which party in 2012?', 'gt_ans': 'Democratic Party', 'next_model_prediction': 'Democratic Party.'}\n"
     ]
    },
    {
     "name": "stderr",
     "output_type": "stream",
     "text": [
      " 32%|███▏      | 16025/50310 [00:40<01:02, 548.69it/s]"
     ]
    },
    {
     "name": "stdout",
     "output_type": "stream",
     "text": [
      "Inertia:     {'cur_question': 'Carles Puigdemont held which position in 2020?', 'gt_ans': 'Catalonia.', 'next_model_prediction': 'Carles Puigdemont held the position of President of the Government of Catalonia in 2020.'}\n",
      "Inertia:     {'cur_question': 'Muhyiddin Yassin held which position in 2015?', 'gt_ans': 'Prime Minister of Malaysia', 'next_model_prediction': 'Deputy Prime Minister of Malaysia.'}\n"
     ]
    },
    {
     "name": "stderr",
     "output_type": "stream",
     "text": [
      " 32%|███▏      | 16205/50310 [00:41<01:02, 547.24it/s]"
     ]
    },
    {
     "name": "stdout",
     "output_type": "stream",
     "text": [
      "Inertia:     {'cur_question': 'Artur Mas was the chair of which entity in 2016?', 'gt_ans': 'Catalonia.', 'next_model_prediction': 'Artur Mas was the President of the Generalitat of Catalonia from 2010 to 2016.'}\n"
     ]
    },
    {
     "name": "stderr",
     "output_type": "stream",
     "text": [
      " 33%|███▎      | 16440/50310 [00:41<01:01, 552.61it/s]"
     ]
    },
    {
     "name": "stdout",
     "output_type": "stream",
     "text": [
      "Inertia:     {'cur_question': 'Baijayant Panda was a member of which party in 2018?', 'gt_ans': 'Bharatiya Janata Party', 'next_model_prediction': 'Baijayant Panda was a member of the Bharatiya Janata Party in 2018.'}\n",
      "Inertia:     {'cur_question': 'Dennis Hof was a member of which party in 2016?', 'gt_ans': 'Republican Party', 'next_model_prediction': 'Dennis Hof was a member of the Republican Party in 2016.'}\n"
     ]
    },
    {
     "name": "stderr",
     "output_type": "stream",
     "text": [
      " 33%|███▎      | 16681/50310 [00:42<01:00, 559.80it/s]"
     ]
    },
    {
     "name": "stdout",
     "output_type": "stream",
     "text": [
      "Inertia:     {'cur_question': 'Alexander Gauland was a member of which party in 2013?', 'gt_ans': 'Alternative for Germany', 'next_model_prediction': 'Alexander Gauland was a member of the Alternative for Germany (AfD) party in 2013.'}\n"
     ]
    },
    {
     "name": "stderr",
     "output_type": "stream",
     "text": [
      " 34%|███▎      | 16926/50310 [00:42<00:59, 560.26it/s]"
     ]
    },
    {
     "name": "stdout",
     "output_type": "stream",
     "text": [
      "Inertia:     {'cur_question': 'Barbara Bollier was a member of which party in 2018?', 'gt_ans': 'Democratic Party', 'next_model_prediction': 'Democratic Party.'}\n",
      "Inertia:     {'cur_question': 'Tomio Okamura was a member of which party in 2015?', 'gt_ans': 'Freedom and Direct Democracy', 'next_model_prediction': 'Tomio Okamura was a member of the Freedom and Direct Democracy party in 2015.'}\n"
     ]
    },
    {
     "name": "stderr",
     "output_type": "stream",
     "text": [
      " 34%|███▍      | 17051/50310 [00:42<00:58, 570.09it/s]"
     ]
    },
    {
     "name": "stdout",
     "output_type": "stream",
     "text": [
      "Inertia:     {'cur_question': 'Dimitris Papadimoulis was a member of which party in 2012?', 'gt_ans': 'SYRIZA', 'next_model_prediction': 'Dimitris Papadimoulis was a member of the Syriza party in 2012.'}\n",
      "Inertia:     {'cur_question': 'Usman Ahmed Khan Buzdar was a member of which party in 2018?', 'gt_ans': 'Pakistan Tehreek-e-Insaf', 'next_model_prediction': 'Pakistan Tehreek-e-Insaf (PTI)'}\n"
     ]
    },
    {
     "name": "stderr",
     "output_type": "stream",
     "text": [
      " 34%|███▍      | 17302/50310 [00:43<00:57, 569.56it/s]"
     ]
    },
    {
     "name": "stdout",
     "output_type": "stream",
     "text": [
      "Inertia:     {'cur_question': 'Floyd Shivambu was a member of which party in 2012?', 'gt_ans': 'Economic Freedom Fighters', 'next_model_prediction': 'Floyd Shivambu was a member of the Economic Freedom Fighters (EFF) in 2012.'}\n",
      "Inertia:     {'cur_question': 'Makis Voridis was a member of which party in 2012?', 'gt_ans': 'New Democracy', 'next_model_prediction': 'Makis Voridis was a member of the New Democracy party in 2012.'}\n",
      "Inertia:     {'cur_question': 'Aaron Johanson was a member of which party in 2014?', 'gt_ans': 'Democratic Party', 'next_model_prediction': 'Aaron Johnson was a member of the Democratic Party in 2014.'}\n"
     ]
    },
    {
     "name": "stderr",
     "output_type": "stream",
     "text": [
      " 35%|███▌      | 17729/50310 [00:44<00:58, 558.27it/s]"
     ]
    },
    {
     "name": "stdout",
     "output_type": "stream",
     "text": [
      "Inertia:     {'cur_question': 'Yaakov Peri was a member of which party in 2012?', 'gt_ans': 'Yesh Atid', 'next_model_prediction': 'Yaakov Peri was a member of the Knesset for the Yesh Atid party in 2012.'}\n"
     ]
    },
    {
     "name": "stderr",
     "output_type": "stream",
     "text": [
      " 36%|███▌      | 17969/50310 [00:44<00:59, 547.27it/s]"
     ]
    },
    {
     "name": "stdout",
     "output_type": "stream",
     "text": [
      "Inertia:     {'cur_question': 'Emil Boc is the head of the government of which state in 2020?', 'gt_ans': 'Romania.', 'next_model_prediction': 'Emil Boc is the Prime Minister of Romania since 2019.'}\n",
      "Inertia:     {'cur_question': 'Bernd Lucke was a member of which party in 2020?', 'gt_ans': 'Alternative for Germany.', 'next_model_prediction': 'Bernd Lucke was a member of the Alternative for Germany (AfD) party in 2020.'}\n"
     ]
    },
    {
     "name": "stderr",
     "output_type": "stream",
     "text": [
      " 36%|███▋      | 18280/50310 [00:45<00:56, 566.33it/s]"
     ]
    },
    {
     "name": "stdout",
     "output_type": "stream",
     "text": [
      "Inertia:     {'cur_question': 'Saumitra Khan was a member of which party in 2019?', 'gt_ans': 'Bharatiya Janata Party', 'next_model_prediction': 'Bharatiya Janata Party (BJP)'}\n"
     ]
    },
    {
     "name": "stderr",
     "output_type": "stream",
     "text": [
      " 37%|███▋      | 18463/50310 [00:45<00:57, 556.92it/s]"
     ]
    },
    {
     "name": "stdout",
     "output_type": "stream",
     "text": [
      "Inertia:     {'cur_question': 'Jordi Puigneró i Ferrer was a member of which party in 2016?', 'gt_ans': 'Catalan European Democratic Party', 'next_model_prediction': 'Jordi Puigneró i Ferrer was a member of the Catalan European Democratic Party (PDECat) in 2016.'}\n"
     ]
    },
    {
     "name": "stderr",
     "output_type": "stream",
     "text": [
      " 37%|███▋      | 18749/50310 [00:45<00:58, 537.40it/s]"
     ]
    },
    {
     "name": "stdout",
     "output_type": "stream",
     "text": [
      "Inertia:     {'cur_question': 'Mihai Tudose was a member of which party in 2019?', 'gt_ans': 'Social Democratic Party', 'next_model_prediction': 'Social Democratic Party.'}\n"
     ]
    },
    {
     "name": "stderr",
     "output_type": "stream",
     "text": [
      " 38%|███▊      | 18987/50310 [00:46<00:57, 545.75it/s]"
     ]
    },
    {
     "name": "stdout",
     "output_type": "stream",
     "text": [
      "Inertia:     {'cur_question': 'Ģirts Valdis Kristovskis was a member of which party in 2011?', 'gt_ans': 'Unity', 'next_model_prediction': 'Ģirts Valdis Kristovskis was a member of the conservative New Unity Party in 2011.'}\n"
     ]
    },
    {
     "name": "stderr",
     "output_type": "stream",
     "text": [
      " 38%|███▊      | 19167/50310 [00:46<00:56, 548.25it/s]"
     ]
    },
    {
     "name": "stdout",
     "output_type": "stream",
     "text": [
      "Inertia:     {'cur_question': 'Sunil Singh was a member of which party in 2019?', 'gt_ans': 'Bharatiya Janata Party', 'next_model_prediction': 'Sunil Singh was a member of the Bharatiya Janata Party in 2019.'}\n",
      "Inertia:     {'cur_question': 'Àngels Ponsa i Roca was a member of which party in 2016?', 'gt_ans': 'Catalan European Democratic Party', 'next_model_prediction': 'Àngels Ponsa i Roca was a member of the Catalan European Democratic Party (PDeCAT) in 2016.'}\n"
     ]
    },
    {
     "name": "stderr",
     "output_type": "stream",
     "text": [
      " 39%|███▉      | 19716/50310 [00:47<00:54, 557.25it/s]"
     ]
    },
    {
     "name": "stdout",
     "output_type": "stream",
     "text": [
      "Inertia:     {'cur_question': 'Kōichirō Genba was a member of which party in 2015?', 'gt_ans': 'Democratic Party', 'next_model_prediction': 'Kōichirō Genba was a member of the Democratic Party in 2015.'}\n"
     ]
    },
    {
     "name": "stderr",
     "output_type": "stream",
     "text": [
      " 40%|███▉      | 19893/50310 [00:47<00:55, 544.46it/s]"
     ]
    },
    {
     "name": "stdout",
     "output_type": "stream",
     "text": [
      "Inertia:     {'cur_question': 'Balabhadra Majhi was a member of which party in 2019?', 'gt_ans': 'Bharatiya Janata Party', 'next_model_prediction': 'Bharatiya Janata Party (BJP)'}\n",
      "Inertia:     {'cur_question': 'Santi Vila i Vicente was a member of which party in 2016?', 'gt_ans': 'Catalan European Democratic Party', 'next_model_prediction': 'Santi Vila i Vicente was a member of the Catalan European Democratic Party (PDECat) in 2016.'}\n"
     ]
    },
    {
     "name": "stderr",
     "output_type": "stream",
     "text": [
      " 40%|████      | 20145/50310 [00:48<00:52, 574.66it/s]"
     ]
    },
    {
     "name": "stdout",
     "output_type": "stream",
     "text": [
      "Inertia:     {'cur_question': 'Joy Koesten was a member of which party in 2018?', 'gt_ans': 'Democratic Party', 'next_model_prediction': 'Democratic Party.'}\n",
      "Inertia:     {'cur_question': 'Romain Grau was a member of which party in 2017?', 'gt_ans': 'La République En Marche', 'next_model_prediction': 'Romain Grau was a member of the French National Assembly for the La République En Marche! party in 2017.'}\n"
     ]
    },
    {
     "name": "stderr",
     "output_type": "stream",
     "text": [
      " 41%|████      | 20523/50310 [00:49<00:51, 573.97it/s]"
     ]
    },
    {
     "name": "stdout",
     "output_type": "stream",
     "text": [
      "Inertia:     {'cur_question': 'Kumudini Patnaik was a member of which party in 2014?', 'gt_ans': 'Bharatiya Janata Party', 'next_model_prediction': 'Kumudini Patnaik was a member of the Bharatiya Janata Party in 2014.'}\n"
     ]
    },
    {
     "name": "stderr",
     "output_type": "stream",
     "text": [
      " 41%|████      | 20703/50310 [00:49<00:53, 558.38it/s]"
     ]
    },
    {
     "name": "stdout",
     "output_type": "stream",
     "text": [
      "Inertia:     {'cur_question': 'Rabi Narayan Pani was a member of which party in 2019?', 'gt_ans': 'Bharatiya Janata Party', 'next_model_prediction': 'Rabi Narayan Pani was a member of the Bharatiya Janata Party in 2019.'}\n"
     ]
    },
    {
     "name": "stderr",
     "output_type": "stream",
     "text": [
      " 42%|████▏     | 20937/50310 [00:49<00:54, 534.06it/s]"
     ]
    },
    {
     "name": "stdout",
     "output_type": "stream",
     "text": [
      "Inertia:     {'cur_question': 'Tedros Adhanom Ghebreyesus worked for which company in 2016?', 'gt_ans': 'World Health Organization', 'next_model_prediction': 'Tedros Adhanom Ghebreyesus worked for the World Health Organization in 2016.'}\n"
     ]
    },
    {
     "name": "stderr",
     "output_type": "stream",
     "text": [
      " 42%|████▏     | 21156/50310 [00:50<00:57, 506.41it/s]"
     ]
    },
    {
     "name": "stdout",
     "output_type": "stream",
     "text": [
      "Inertia:     {'cur_question': 'William H. McRaven worked for which company in 2014?', 'gt_ans': 'University of Texas System', 'next_model_prediction': 'William H. McRaven worked for the University of Texas System in 2014.'}\n",
      "Inertia:     {'cur_question': 'Max Hollein worked for which company in 2018?', 'gt_ans': 'Metropolitan Museum of Art', 'next_model_prediction': 'Max Hollein worked for the Metropolitan Museum of Art in 2018.'}\n"
     ]
    },
    {
     "name": "stderr",
     "output_type": "stream",
     "text": [
      " 42%|████▏     | 21322/50310 [00:50<00:57, 504.79it/s]"
     ]
    },
    {
     "name": "stdout",
     "output_type": "stream",
     "text": [
      "Inertia:     {'cur_question': 'Christian Kern worked for which company in 2016?', 'gt_ans': 'Austria.', 'next_model_prediction': 'Christian Kern worked for the Austrian Federal Railways (ÖBB) in 2016.'}\n",
      "Inertia:     {'cur_question': 'Nikole Hannah-Jones worked for which company in 2015?', 'gt_ans': 'The New York Times', 'next_model_prediction': 'Nikole Hannah-Jones worked for The New York Times in 2015.'}\n"
     ]
    },
    {
     "name": "stderr",
     "output_type": "stream",
     "text": [
      " 43%|████▎     | 21500/50310 [00:50<00:53, 536.48it/s]"
     ]
    },
    {
     "name": "stdout",
     "output_type": "stream",
     "text": [
      "Inertia:     {'cur_question': 'Nicolas Ghesquière worked for which company in 2012?', 'gt_ans': 'Louis Vuitton', 'next_model_prediction': 'Nicolas Ghesquière worked for Louis Vuitton from 1997 to 2012.'}\n"
     ]
    },
    {
     "name": "stderr",
     "output_type": "stream",
     "text": [
      " 43%|████▎     | 21725/50310 [00:51<00:55, 517.13it/s]"
     ]
    },
    {
     "name": "stdout",
     "output_type": "stream",
     "text": [
      "Inertia:     {'cur_question': 'Jessica Valenti worked for which company in 2014?', 'gt_ans': 'The Guardian', 'next_model_prediction': 'Jessica Valenti worked for The Guardian in 2014.'}\n"
     ]
    },
    {
     "name": "stderr",
     "output_type": "stream",
     "text": [
      " 44%|████▎     | 21915/50310 [00:51<00:50, 559.20it/s]"
     ]
    },
    {
     "name": "stdout",
     "output_type": "stream",
     "text": [
      "Inertia:     {'cur_question': 'Angela Ahrendts worked for which company in 2014?', 'gt_ans': 'Apple Inc.', 'next_model_prediction': 'Apple Inc.'}\n",
      "Inertia:     {'cur_question': 'Riccardo Tisci worked for which company in 2017?', 'gt_ans': 'Burberry', 'next_model_prediction': 'Riccardo Tisci worked for Burberry in 2017.'}\n"
     ]
    },
    {
     "name": "stderr",
     "output_type": "stream",
     "text": [
      " 44%|████▍     | 22038/50310 [00:51<00:49, 566.58it/s]"
     ]
    },
    {
     "name": "stdout",
     "output_type": "stream",
     "text": [
      "Inertia:     {'cur_question': 'Vicente Guallart worked for which company in 2011?', 'gt_ans': 'Barcelona City Council', 'next_model_prediction': 'Vicente Guallart worked for the Barcelona City Council in 2011.'}\n"
     ]
    },
    {
     "name": "stderr",
     "output_type": "stream",
     "text": [
      " 44%|████▍     | 22153/50310 [00:52<00:52, 531.50it/s]"
     ]
    },
    {
     "name": "stdout",
     "output_type": "stream",
     "text": [
      "Inertia:     {'cur_question': 'Guido van Rossum worked for which company in 2012?', 'gt_ans': 'Dropbox', 'next_model_prediction': 'Guido van Rossum worked for Dropbox in 2012.'}\n",
      "Inertia:     {'cur_question': 'Jonah Berger worked for which company in 2015?', 'gt_ans': 'The Wharton School', 'next_model_prediction': 'Jonah Berger worked for the Wharton School of the University of Pennsylvania in 2015.'}\n"
     ]
    },
    {
     "name": "stderr",
     "output_type": "stream",
     "text": [
      " 44%|████▍     | 22336/50310 [00:52<00:50, 551.01it/s]"
     ]
    },
    {
     "name": "stdout",
     "output_type": "stream",
     "text": [
      "Inertia:     {'cur_question': 'Wallace D. Loh worked for which company in 2010?', 'gt_ans': 'University of Maryland', 'next_model_prediction': 'Wallace D. Loh worked for the University of Maryland in 2010.'}\n"
     ]
    },
    {
     "name": "stderr",
     "output_type": "stream",
     "text": [
      " 45%|████▍     | 22579/50310 [00:52<00:50, 552.55it/s]"
     ]
    },
    {
     "name": "stdout",
     "output_type": "stream",
     "text": [
      "Inertia:     {'cur_question': 'Greg Jericho worked for which company in 2011?', 'gt_ans': 'The Guardian', 'next_model_prediction': 'Greg Jericho worked for The Guardian in 2011.'}\n",
      "Inertia:     {'cur_question': 'Hans-Georg Maaßen worked for which company in 2012?', 'gt_ans': 'Federal Office for the Protection of the Constitution', 'next_model_prediction': 'Hans-Georg Maaßen worked for the Federal Office for the Protection of the Constitution in 2012.'}\n"
     ]
    },
    {
     "name": "stderr",
     "output_type": "stream",
     "text": [
      " 46%|████▌     | 23001/50310 [00:53<00:49, 550.71it/s]"
     ]
    },
    {
     "name": "stdout",
     "output_type": "stream",
     "text": [
      "Inertia:     {'cur_question': 'Jamelle Bouie worked for which company in 2019?', 'gt_ans': 'The New York Times', 'next_model_prediction': 'Jamelle Bouie worked for The New York Times in 2019.'}\n",
      "Inertia:     {'cur_question': 'Ashwin Ram worked for which company in 2018?', 'gt_ans': 'Google', 'next_model_prediction': 'Ashwin Ram worked for Google in 2018.'}\n"
     ]
    },
    {
     "name": "stderr",
     "output_type": "stream",
     "text": [
      " 46%|████▌     | 23172/50310 [00:54<00:50, 536.14it/s]"
     ]
    },
    {
     "name": "stdout",
     "output_type": "stream",
     "text": [
      "Inertia:     {'cur_question': 'David Horsey worked for which company in 2011?', 'gt_ans': 'Los Angeles Times', 'next_model_prediction': 'David Horsey worked for The Los Angeles Times in 2011.'}\n"
     ]
    },
    {
     "name": "stderr",
     "output_type": "stream",
     "text": [
      " 47%|████▋     | 23709/50310 [00:55<00:51, 511.58it/s]"
     ]
    },
    {
     "name": "stdout",
     "output_type": "stream",
     "text": [
      "Inertia:     {'cur_question': 'Lei Jun worked for which company in 2011?', 'gt_ans': 'Xiaomi', 'next_model_prediction': 'He worked for Xiaomi.'}\n"
     ]
    },
    {
     "name": "stderr",
     "output_type": "stream",
     "text": [
      " 48%|████▊     | 24244/50310 [00:55<00:47, 552.78it/s]"
     ]
    },
    {
     "name": "stdout",
     "output_type": "stream",
     "text": [
      "Inertia:     {'cur_question': 'Ryan Merkley worked for which company in 2019?', 'gt_ans': 'Wikimedia Foundation', 'next_model_prediction': 'He worked for Wikimedia Foundation.'}\n",
      "Inertia:     {'cur_question': 'Koby Altman worked for which company in 2012?', 'gt_ans': 'Cleveland Cavaliers', 'next_model_prediction': 'Koby Altman worked for the Cleveland Cavaliers in 2012.'}\n"
     ]
    },
    {
     "name": "stderr",
     "output_type": "stream",
     "text": [
      " 49%|████▉     | 24729/50310 [00:56<00:45, 563.62it/s]"
     ]
    },
    {
     "name": "stdout",
     "output_type": "stream",
     "text": [
      "Inertia:     {'cur_question': 'Persis Drell worked for which company in 2017?', 'gt_ans': 'Stanford University', 'next_model_prediction': 'Persis Drell worked for Stanford University in 2017.'}\n"
     ]
    },
    {
     "name": "stderr",
     "output_type": "stream",
     "text": [
      " 51%|█████     | 25599/50310 [00:58<00:48, 514.21it/s]"
     ]
    },
    {
     "name": "stdout",
     "output_type": "stream",
     "text": [
      "Inertia:     {'cur_question': 'Iñaki Gabilondo worked for which company in 2016?', 'gt_ans': '#0', 'next_model_prediction': 'Iñaki Gabilondo worked for the Spanish newspaper El País in 2016.'}\n"
     ]
    },
    {
     "name": "stderr",
     "output_type": "stream",
     "text": [
      " 52%|█████▏    | 26262/50310 [00:59<00:45, 525.21it/s]"
     ]
    },
    {
     "name": "stdout",
     "output_type": "stream",
     "text": [
      "Inertia:     {'cur_question': 'Apoorva Mandavilli worked for which company in 2016?', 'gt_ans': 'The New York Times', 'next_model_prediction': 'Apoorva Mandavilli worked for The New York Times in 2016.'}\n"
     ]
    },
    {
     "name": "stderr",
     "output_type": "stream",
     "text": [
      " 53%|█████▎    | 26840/50310 [01:00<00:52, 444.80it/s]"
     ]
    },
    {
     "name": "stdout",
     "output_type": "stream",
     "text": [
      "Inertia:     {'cur_question': 'Enrique Peña Nieto held which position in 2018?', 'gt_ans': 'Mexico.', 'next_model_prediction': 'Enrique Peña Nieto held the position of President of Mexico from 2012 to 2018.'}\n",
      "Inertia:     {'cur_question': 'Dmitry Medvedev held which position in 2012?', 'gt_ans': 'Prime Minister of Russia', 'next_model_prediction': 'Dmitry Medvedev held the position of Prime Minister of Russia from 2012 to 2018.'}\n",
      "Inertia:     {'cur_question': 'Mikhail Mishustin held which position in 2020?', 'gt_ans': 'Russia.', 'next_model_prediction': 'Mikhail Mishustin held the position of Prime Minister of Russia in 2020.'}\n",
      "Inertia:     {'cur_question': 'Yulia Tymoshenko was the chair of which entity in 2010?', 'gt_ans': 'Ukraine.', 'next_model_prediction': 'Yulia Tymoshenko was the chair of the Verkhovna Rada, the parliament of Ukraine, in 2010.'}\n",
      "Inertia:     {'cur_question': 'Mykola Azarov was the chair of which entity in 2014?', 'gt_ans': 'Ukraine.', 'next_model_prediction': 'He was the Prime Minister of Ukraine.'}\n",
      "Inertia:     {'cur_question': 'Arseniy Yatsenyuk held which position in 2014?', 'gt_ans': 'Prime Minister of Ukraine', 'next_model_prediction': 'Arseniy Yatsenyuk held the position of Prime Minister of Ukraine from 2014 to 2016.'}\n"
     ]
    },
    {
     "name": "stderr",
     "output_type": "stream",
     "text": [
      " 53%|█████▎    | 26887/50310 [01:01<01:09, 336.56it/s]"
     ]
    },
    {
     "name": "stdout",
     "output_type": "stream",
     "text": [
      "Inertia:     {'cur_question': 'Oleksiy Honcharuk was the chair of which entity in 2019?', 'gt_ans': 'Ukraine.', 'next_model_prediction': 'Oleksiy Honcharuk was the chair of the National Bank of Ukraine in 2019.'}\n",
      "Inertia:     {'cur_question': 'Antonis Samaras held which position in 2015?', 'gt_ans': 'Greece.', 'next_model_prediction': 'He was the Prime Minister of Greece.'}\n",
      "Inertia:     {'cur_question': 'Alexis Tsipras held which position in 2019?', 'gt_ans': 'Greece.', 'next_model_prediction': 'Alexis Tsipras held the position of Prime Minister of Greece from 2019 to 2020.'}\n",
      "Inertia:     {'cur_question': 'Kyriakos Mitsotakis held which position in 2020?', 'gt_ans': 'Greece.', 'next_model_prediction': 'Kyriakos Mitsotakis held the position of Prime Minister of Greece from 2019 to 2020.'}\n",
      "Inertia:     {'cur_question': 'Wanda Vázquez Garced held which position in 2020?', 'gt_ans': 'Puerto Rico.', 'next_model_prediction': 'Wanda Vázquez Garced held the position of Governor of Puerto Rico in 2020.'}\n"
     ]
    },
    {
     "name": "stderr",
     "output_type": "stream",
     "text": [
      " 54%|█████▎    | 26961/50310 [01:01<01:23, 280.49it/s]"
     ]
    },
    {
     "name": "stdout",
     "output_type": "stream",
     "text": [
      "Inertia:     {'cur_question': 'Bill de Blasio held which position in 2020?', 'gt_ans': 'New York City.', 'next_model_prediction': 'Mayor of New York City.'}\n",
      "Inertia:     {'cur_question': 'David Cameron held which position in 2010?', 'gt_ans': 'Prime Minister of the United Kingdom', 'next_model_prediction': 'Prime Minister of the United Kingdom.'}\n",
      "Inertia:     {'cur_question': 'Boris Johnson held which position in 2018?', 'gt_ans': 'Prime Minister of the United Kingdom', 'next_model_prediction': 'Boris Johnson held the position of Prime Minister of the United Kingdom from 2019 to 2021.'}\n"
     ]
    },
    {
     "name": "stderr",
     "output_type": "stream",
     "text": [
      " 54%|█████▍    | 27046/50310 [01:01<01:40, 230.99it/s]"
     ]
    },
    {
     "name": "stdout",
     "output_type": "stream",
     "text": [
      "Inertia:     {'cur_question': 'Rahm Emanuel held which position in 2019?', 'gt_ans': 'Chicago.', 'next_model_prediction': 'Rahm Emanuel held the position of Mayor of Chicago, Illinois.'}\n",
      "Inertia:     {'cur_question': 'Hailemariam Desalegn held which position in 2018?', 'gt_ans': 'Ethiopia.', 'next_model_prediction': 'He was the Prime Minister of Ethiopia.'}\n"
     ]
    },
    {
     "name": "stderr",
     "output_type": "stream",
     "text": [
      " 54%|█████▍    | 27114/50310 [01:02<01:54, 202.45it/s]"
     ]
    },
    {
     "name": "stdout",
     "output_type": "stream",
     "text": [
      "Inertia:     {'cur_question': 'Michel Temer held which position in 2019?', 'gt_ans': 'Brazil.', 'next_model_prediction': 'Michel Temer held the position of President of Brazil in 2019.'}\n",
      "Inertia:     {'cur_question': 'Thein Sein held which position in 2016?', 'gt_ans': 'Myanmar.', 'next_model_prediction': 'Thein Sein held the position of President of Myanmar from 2011 to 2016.'}\n",
      "Inertia:     {'cur_question': 'Li Keqiang held which position in 2013?', 'gt_ans': \"Premier of the State Council of the People's Republic of China\", 'next_model_prediction': \"Li Keqiang held the position of Premier of the State Council of the People's Republic of China in 2013.\"}\n",
      "Inertia:     {'cur_question': 'Boris Johnson held which position in 2018?', 'gt_ans': 'Prime Minister of the United Kingdom', 'next_model_prediction': 'Boris Johnson held the position of Prime Minister of the United Kingdom from 2019 to 2021.'}\n"
     ]
    },
    {
     "name": "stderr",
     "output_type": "stream",
     "text": [
      " 54%|█████▍    | 27167/50310 [01:02<01:47, 216.04it/s]"
     ]
    },
    {
     "name": "stdout",
     "output_type": "stream",
     "text": [
      "Inertia:     {'cur_question': 'Sadiq Khan held which position in 2020?', 'gt_ans': 'London.', 'next_model_prediction': 'Sadiq Khan held the position of Mayor of London in 2020.'}\n"
     ]
    },
    {
     "name": "stderr",
     "output_type": "stream",
     "text": [
      " 54%|█████▍    | 27214/50310 [01:02<01:48, 212.90it/s]"
     ]
    },
    {
     "name": "stdout",
     "output_type": "stream",
     "text": [
      "Inertia:     {'cur_question': 'Phil Murphy held which position in 2020?', 'gt_ans': 'New Jersey.', 'next_model_prediction': 'Phil Murphy held the position of Governor of New Jersey in 2020.'}\n",
      "Inertia:     {'cur_question': 'Sigmundur Davíð Gunnlaugsson held which position in 2016?', 'gt_ans': 'Iceland.', 'next_model_prediction': 'Sigmundur Davíð Gunnlaugsson held the position of Prime Minister of Iceland from 2013 to 20'}\n"
     ]
    },
    {
     "name": "stderr",
     "output_type": "stream",
     "text": [
      " 54%|█████▍    | 27291/50310 [01:03<01:37, 236.68it/s]"
     ]
    },
    {
     "name": "stdout",
     "output_type": "stream",
     "text": [
      "Inertia:     {'cur_question': 'Katrín Jakobsdóttir held which position in 2020?', 'gt_ans': 'Iceland.', 'next_model_prediction': 'Prime Minister of Iceland.'}\n",
      "Inertia:     {'cur_question': 'Emil Boc is the head of the government of which state in 2020?', 'gt_ans': 'Romania.', 'next_model_prediction': 'Emil Boc is the Prime Minister of Romania since 2019.'}\n"
     ]
    },
    {
     "name": "stderr",
     "output_type": "stream",
     "text": [
      " 54%|█████▍    | 27406/50310 [01:03<01:32, 247.18it/s]"
     ]
    },
    {
     "name": "stdout",
     "output_type": "stream",
     "text": [
      "Inertia:     {'cur_question': 'Rob Ford held which position in 2016?', 'gt_ans': 'Toronto.', 'next_model_prediction': 'Rob Ford held the position of Mayor of Toronto, Canada from 2010 to 2014.'}\n",
      "Inertia:     {'cur_question': 'Matamela Cyril Ramaphosa held which position in 2020?', 'gt_ans': 'South Africa.', 'next_model_prediction': 'President of South Africa.'}\n"
     ]
    },
    {
     "name": "stderr",
     "output_type": "stream",
     "text": [
      " 55%|█████▍    | 27454/50310 [01:03<01:51, 204.89it/s]"
     ]
    },
    {
     "name": "stdout",
     "output_type": "stream",
     "text": [
      "Inertia:     {'cur_question': 'Emil Boc is the head of the government of which state in 2020?', 'gt_ans': 'Romania.', 'next_model_prediction': 'Emil Boc is the Prime Minister of Romania since 2019.'}\n",
      "Inertia:     {'cur_question': 'Narendra Modi held which position in 2020?', 'gt_ans': 'India.', 'next_model_prediction': 'Prime Minister of India.'}\n",
      "Inertia:     {'cur_question': 'Zoran Milanović held which position in 2020?', 'gt_ans': 'Croatia.', 'next_model_prediction': 'Zoran Milanović held the position of President of Croatia from 2015 to 2020.'}\n",
      "Inertia:     {'cur_question': 'Andrej Plenković held which position in 2016?', 'gt_ans': 'Prime Minister of Croatia', 'next_model_prediction': 'Andrej Plenković held the position of Prime Minister of Croatia in 2016.'}\n"
     ]
    },
    {
     "name": "stderr",
     "output_type": "stream",
     "text": [
      " 55%|█████▍    | 27616/50310 [01:04<01:48, 209.20it/s]"
     ]
    },
    {
     "name": "stdout",
     "output_type": "stream",
     "text": [
      "Inertia:     {'cur_question': 'Matteo Renzi is the head of the government of which state in 2013?', 'gt_ans': 'Italy.', 'next_model_prediction': 'Matteo Renzi is the head of the government of Italy since 2014.'}\n"
     ]
    },
    {
     "name": "stderr",
     "output_type": "stream",
     "text": [
      " 55%|█████▌    | 27780/50310 [01:05<01:42, 220.80it/s]"
     ]
    },
    {
     "name": "stdout",
     "output_type": "stream",
     "text": [
      "Inertia:     {'cur_question': 'Rachel Notley was the chair of which entity in 2020?', 'gt_ans': 'Alberta.', 'next_model_prediction': 'Rachel Notley was the chair of the Alberta Utilities Commission in 2020.'}\n",
      "Inertia:     {'cur_question': 'Julia Gillard held which position in 2010?', 'gt_ans': 'Prime Minister of Australia', 'next_model_prediction': 'Prime Minister of Australia.'}\n",
      "Inertia:     {'cur_question': 'Malcolm Turnbull was the chair of which entity in 2018?', 'gt_ans': 'Australia.', 'next_model_prediction': 'Australian Communications and Media Authority.'}\n",
      "Inertia:     {'cur_question': 'Scott Morrison held which position in 2018?', 'gt_ans': 'Prime Minister of Australia', 'next_model_prediction': 'Scott Morrison held the position of Prime Minister of Australia in 2018.'}\n"
     ]
    },
    {
     "name": "stderr",
     "output_type": "stream",
     "text": [
      " 55%|█████▌    | 27887/50310 [01:05<01:39, 225.11it/s]"
     ]
    },
    {
     "name": "stdout",
     "output_type": "stream",
     "text": [
      "Inertia:     {'cur_question': 'Jack Dalrymple held which position in 2016?', 'gt_ans': 'North Dakota.', 'next_model_prediction': 'Jack Dalrymple held the position of Governor of North Dakota from 2010 to 2016.'}\n"
     ]
    },
    {
     "name": "stderr",
     "output_type": "stream",
     "text": [
      " 56%|█████▌    | 27965/50310 [01:06<01:40, 223.36it/s]"
     ]
    },
    {
     "name": "stdout",
     "output_type": "stream",
     "text": [
      "Inertia:     {'cur_question': 'Sooronbay Jeenbekov held which position in 2020?', 'gt_ans': 'Kyrgyzstan.', 'next_model_prediction': 'He was the President of Kyrgyzstan.'}\n",
      "Inertia:     {'cur_question': 'Kuupik Kleist was the chair of which entity in 2014?', 'gt_ans': 'Greenland.', 'next_model_prediction': 'Kuupik Kleist was the chair of the Greenlandic Self-Government from 2014 to 2018.'}\n"
     ]
    },
    {
     "name": "stderr",
     "output_type": "stream",
     "text": [
      " 56%|█████▌    | 28072/50310 [01:06<01:33, 237.30it/s]"
     ]
    },
    {
     "name": "stdout",
     "output_type": "stream",
     "text": [
      "Inertia:     {'cur_question': 'Kathleen Wynne held which position in 2018?', 'gt_ans': 'Ontario.', 'next_model_prediction': 'Premier of Ontario, Canada.'}\n"
     ]
    },
    {
     "name": "stderr",
     "output_type": "stream",
     "text": [
      " 56%|█████▌    | 28153/50310 [01:06<01:28, 250.34it/s]"
     ]
    },
    {
     "name": "stdout",
     "output_type": "stream",
     "text": [
      "Inertia:     {'cur_question': 'CY Leung held which position in 2020?', 'gt_ans': 'Hong Kong.', 'next_model_prediction': 'CY Leung held the position of Chief Executive of Hong Kong in 2020.'}\n",
      "Inertia:     {'cur_question': 'Carrie Lam held which position in 2020?', 'gt_ans': 'Hong Kong.', 'next_model_prediction': 'Carrie Lam held the position of Chief Executive of Hong Kong in 2020.'}\n"
     ]
    },
    {
     "name": "stderr",
     "output_type": "stream",
     "text": [
      " 56%|█████▋    | 28366/50310 [01:07<01:21, 268.98it/s]"
     ]
    },
    {
     "name": "stdout",
     "output_type": "stream",
     "text": [
      "Inertia:     {'cur_question': 'Stephan Weil is the head of the government of which state in 2013?', 'gt_ans': 'Lower Saxony.', 'next_model_prediction': 'Stephan Weil is the head of the government of the state of Lower Saxony in 2013.'}\n"
     ]
    },
    {
     "name": "stderr",
     "output_type": "stream",
     "text": [
      " 57%|█████▋    | 28551/50310 [01:08<01:15, 286.91it/s]"
     ]
    },
    {
     "name": "stdout",
     "output_type": "stream",
     "text": [
      "Inertia:     {'cur_question': 'Xavier Bettel held which position in 2011?', 'gt_ans': 'Prime Minister of Luxembourg', 'next_model_prediction': 'Xavier Bettel held the position of Prime Minister of Luxembourg in 2011.'}\n",
      "Inertia:     {'cur_question': 'Han Kuo-yu held which position in 2020?', 'gt_ans': 'Kaohsiung.', 'next_model_prediction': 'Han Kuo-yu held the position of Mayor of Kaohsiung, Taiwan in 2020.'}\n"
     ]
    },
    {
     "name": "stderr",
     "output_type": "stream",
     "text": [
      " 57%|█████▋    | 28701/50310 [01:08<01:19, 272.48it/s]"
     ]
    },
    {
     "name": "stdout",
     "output_type": "stream",
     "text": [
      "Inertia:     {'cur_question': 'Hannelore Kraft was the chair of which entity in 2017?', 'gt_ans': 'North Rhine-Westphalia.', 'next_model_prediction': 'Hannelore Kraft was the chair of the German state of North Rhine-Westphalia in 2017.'}\n"
     ]
    },
    {
     "name": "stderr",
     "output_type": "stream",
     "text": [
      " 59%|█████▉    | 29589/50310 [01:12<01:23, 248.13it/s]"
     ]
    },
    {
     "name": "stdout",
     "output_type": "stream",
     "text": [
      "Inertia:     {'cur_question': 'Chip Kelly was the head coach of which team in 2016?', 'gt_ans': 'Philadelphia Eagles.', 'next_model_prediction': 'Philadelphia Eagles.'}\n"
     ]
    },
    {
     "name": "stderr",
     "output_type": "stream",
     "text": [
      " 59%|█████▉    | 29698/50310 [01:13<02:21, 145.82it/s]"
     ]
    },
    {
     "name": "stdout",
     "output_type": "stream",
     "text": [
      "Inertia:     {'cur_question': 'Brendan Rodgers was the head coach of which team in 2020?', 'gt_ans': 'Liverpool F.C..', 'next_model_prediction': 'Liverpool FC.'}\n"
     ]
    },
    {
     "name": "stderr",
     "output_type": "stream",
     "text": [
      " 60%|█████▉    | 30050/50310 [01:15<02:45, 122.14it/s]"
     ]
    },
    {
     "name": "stdout",
     "output_type": "stream",
     "text": [
      "Inertia:     {'cur_question': 'Walter Mazzarri was the head coach of which team in 2019?', 'gt_ans': 'S.S.C. Napoli.', 'next_model_prediction': 'Walter Mazzarri was the head coach of the Italian football team, SSC Napoli, in 2019.'}\n"
     ]
    },
    {
     "name": "stderr",
     "output_type": "stream",
     "text": [
      " 60%|█████▉    | 30185/50310 [01:16<02:07, 157.55it/s]"
     ]
    },
    {
     "name": "stdout",
     "output_type": "stream",
     "text": [
      "Inertia:     {'cur_question': 'Brendan Rodgers was the head coach of which team in 2020?', 'gt_ans': 'Liverpool F.C..', 'next_model_prediction': 'Liverpool FC.'}\n"
     ]
    },
    {
     "name": "stderr",
     "output_type": "stream",
     "text": [
      " 60%|██████    | 30245/50310 [01:17<02:40, 125.39it/s]"
     ]
    },
    {
     "name": "stdout",
     "output_type": "stream",
     "text": [
      "Inertia:     {'cur_question': 'Thomas Tuchel was the head coach of which team in 2014?', 'gt_ans': 'Paris Saint-Germain.', 'next_model_prediction': 'Paris Saint-Germain.'}\n"
     ]
    },
    {
     "name": "stderr",
     "output_type": "stream",
     "text": [
      " 60%|██████    | 30325/50310 [01:17<02:24, 138.13it/s]"
     ]
    },
    {
     "name": "stdout",
     "output_type": "stream",
     "text": [
      "Inertia:     {'cur_question': 'Walter Mazzarri was the head coach of which team in 2019?', 'gt_ans': 'S.S.C. Napoli.', 'next_model_prediction': 'Walter Mazzarri was the head coach of the Italian football team, SSC Napoli, in 2019.'}\n"
     ]
    },
    {
     "name": "stderr",
     "output_type": "stream",
     "text": [
      " 60%|██████    | 30401/50310 [01:18<03:01, 109.83it/s]"
     ]
    },
    {
     "name": "stdout",
     "output_type": "stream",
     "text": [
      "Inertia:     {'cur_question': 'Walter Mazzarri was the head coach of which team in 2019?', 'gt_ans': 'S.S.C. Napoli.', 'next_model_prediction': 'Walter Mazzarri was the head coach of the Italian football team, SSC Napoli, in 2019.'}\n"
     ]
    },
    {
     "name": "stderr",
     "output_type": "stream",
     "text": [
      " 61%|██████    | 30664/50310 [01:20<02:41, 121.67it/s]"
     ]
    },
    {
     "name": "stdout",
     "output_type": "stream",
     "text": [
      "Inertia:     {'cur_question': 'Walter Mazzarri was the head coach of which team in 2019?', 'gt_ans': 'S.S.C. Napoli.', 'next_model_prediction': 'Walter Mazzarri was the head coach of the Italian football team, SSC Napoli, in 2019.'}\n"
     ]
    },
    {
     "name": "stderr",
     "output_type": "stream",
     "text": [
      " 62%|██████▏   | 31302/50310 [01:24<02:22, 133.38it/s]"
     ]
    },
    {
     "name": "stdout",
     "output_type": "stream",
     "text": [
      "Inertia:     {'cur_question': 'John Hackworth was the head coach of which team in 2020?', 'gt_ans': 'Philadelphia Union.', 'next_model_prediction': 'Philadelphia Union.'}\n"
     ]
    },
    {
     "name": "stderr",
     "output_type": "stream",
     "text": [
      " 63%|██████▎   | 31559/50310 [01:26<01:59, 157.38it/s]"
     ]
    },
    {
     "name": "stdout",
     "output_type": "stream",
     "text": [
      "Inertia:     {'cur_question': 'Thomas Tuchel was the head coach of which team in 2014?', 'gt_ans': 'Paris Saint-Germain.', 'next_model_prediction': 'Paris Saint-Germain.'}\n"
     ]
    },
    {
     "name": "stderr",
     "output_type": "stream",
     "text": [
      " 66%|██████▌   | 33307/50310 [01:37<00:50, 337.85it/s]"
     ]
    },
    {
     "name": "stdout",
     "output_type": "stream",
     "text": [
      "Inertia:     {'cur_question': '4chan is owned by whom in 2015?', 'gt_ans': 'Hiroyuki Nishimura', 'next_model_prediction': '4chan is owned by Hiroyuki Nishimura.'}\n",
      "Inertia:     {'cur_question': 'Sunderland A.F.C. is owned by whom in 2018?', 'gt_ans': 'Stewart Donald', 'next_model_prediction': 'Sunderland A.F.C. is owned by Stewart Donald in 2018.'}\n",
      "Inertia:     {'cur_question': 'Aston Villa F.C. is owned by whom in 2018?', 'gt_ans': 'Nassef Sawiris', 'next_model_prediction': 'In 2018, the owners of Aston Villa F.C. are Nassef Sawiris, Wes Edens, and'}\n"
     ]
    },
    {
     "name": "stderr",
     "output_type": "stream",
     "text": [
      " 67%|██████▋   | 33492/50310 [01:38<00:35, 478.98it/s]"
     ]
    },
    {
     "name": "stdout",
     "output_type": "stream",
     "text": [
      "Inertia:     {'cur_question': 'Jæren Line is owned by whom in 2016?', 'gt_ans': 'Bane NOR', 'next_model_prediction': \"Norway's state-owned railway company Bane NOR.\"}\n",
      "Inertia:     {'cur_question': 'Tumblr is owned by whom in 2019?', 'gt_ans': 'Automattic', 'next_model_prediction': 'Tumblr is owned by Automattic, Inc. in 2019.'}\n"
     ]
    },
    {
     "name": "stderr",
     "output_type": "stream",
     "text": [
      " 67%|██████▋   | 33669/50310 [01:38<00:31, 522.61it/s]"
     ]
    },
    {
     "name": "stdout",
     "output_type": "stream",
     "text": [
      "Inertia:     {'cur_question': 'National Geographic Partners is owned by whom in 2019?', 'gt_ans': 'The Walt Disney Company', 'next_model_prediction': 'National Geographic Partners is owned by The Walt Disney Company in 2019.'}\n",
      "Inertia:     {'cur_question': 'Magento is owned by whom in 2018?', 'gt_ans': 'Adobe', 'next_model_prediction': 'Magento is owned by Adobe.'}\n",
      "Inertia:     {'cur_question': 'Turnberry is owned by whom in 2014?', 'gt_ans': 'The Trump Organization', 'next_model_prediction': 'Answer: Turnberry is owned by the Trump Organization in 2014.'}\n"
     ]
    },
    {
     "name": "stderr",
     "output_type": "stream",
     "text": [
      " 67%|██████▋   | 33793/50310 [01:38<00:30, 541.95it/s]"
     ]
    },
    {
     "name": "stdout",
     "output_type": "stream",
     "text": [
      "Inertia:     {'cur_question': 'Lakewood Church Central Campus is owned by whom in 2010?', 'gt_ans': 'Lakewood Church', 'next_model_prediction': 'In 2010, Lakewood Church Central Campus was owned by Joel Osteen.'}\n",
      "Inertia:     {'cur_question': 'HMS Protector is owned by whom in 2013?', 'gt_ans': 'Ministry of Defence', 'next_model_prediction': \"HMS Protector is owned by the United Kingdom's Ministry of Defence.\"}\n"
     ]
    },
    {
     "name": "stderr",
     "output_type": "stream",
     "text": [
      " 68%|██████▊   | 33982/50310 [01:39<00:28, 564.94it/s]"
     ]
    },
    {
     "name": "stdout",
     "output_type": "stream",
     "text": [
      "Inertia:     {'cur_question': 'Choupette is owned by whom in 2011?', 'gt_ans': 'Karl Lagerfeld', 'next_model_prediction': 'Answer: Karl Lagerfeld.'}\n"
     ]
    },
    {
     "name": "stderr",
     "output_type": "stream",
     "text": [
      " 68%|██████▊   | 34173/50310 [01:39<00:28, 570.54it/s]"
     ]
    },
    {
     "name": "stdout",
     "output_type": "stream",
     "text": [
      "Inertia:     {'cur_question': 'Computer Weekly is owned by whom in 2011?', 'gt_ans': 'TechTarget', 'next_model_prediction': 'Computer Weekly is owned by TechTarget.'}\n",
      "Inertia:     {'cur_question': 'Politico Europe is owned by whom in 2014?', 'gt_ans': 'Politico', 'next_model_prediction': 'Politico Europe is owned by Axel Springer SE.'}\n"
     ]
    },
    {
     "name": "stderr",
     "output_type": "stream",
     "text": [
      " 69%|██████▉   | 34920/50310 [01:40<00:26, 580.23it/s]"
     ]
    },
    {
     "name": "stdout",
     "output_type": "stream",
     "text": [
      "Inertia:     {'cur_question': 'USNS Arrowhead is owned by whom in 2015?', 'gt_ans': 'United States Navy', 'next_model_prediction': 'USNS Arrowhead is owned by the United States Navy.'}\n",
      "Inertia:     {'cur_question': 'USNS Eagleview is owned by whom in 2015?', 'gt_ans': 'United States Navy', 'next_model_prediction': 'USNS Eagleview is owned by the United States Navy in 2015.'}\n",
      "Inertia:     {'cur_question': 'ODEON Kino is owned by whom in 2017?', 'gt_ans': 'AMC Theatres', 'next_model_prediction': 'ODEON Kino is owned by AMC Theatres in 2017.'}\n"
     ]
    },
    {
     "name": "stderr",
     "output_type": "stream",
     "text": [
      " 70%|██████▉   | 35036/50310 [01:41<00:27, 557.04it/s]"
     ]
    },
    {
     "name": "stdout",
     "output_type": "stream",
     "text": [
      "Inertia:     {'cur_question': 'LeBron James played for which team in 2018?', 'gt_ans': 'Los Angeles Lakers', 'next_model_prediction': 'Los Angeles Lakers.'}\n",
      "Inertia:     {'cur_question': 'Bradley Wiggins played for which team in 2015?', 'gt_ans': 'Wiggins', 'next_model_prediction': 'Bradley Wiggins played for Team Sky in 2015.'}\n",
      "Inertia:     {'cur_question': 'Luka Modrić played for which team in 2012?', 'gt_ans': 'Real Madrid CF', 'next_model_prediction': 'Luka Modrić played for the Real Madrid CF in 2012.'}\n",
      "Inertia:     {'cur_question': 'Thiago Silva played for which team in 2015?', 'gt_ans': 'Paris Saint-Germain', 'next_model_prediction': 'Paris Saint-Germain.'}\n"
     ]
    },
    {
     "name": "stderr",
     "output_type": "stream",
     "text": [
      " 70%|██████▉   | 35215/50310 [01:41<00:28, 530.03it/s]"
     ]
    },
    {
     "name": "stdout",
     "output_type": "stream",
     "text": [
      "Inertia:     {'cur_question': 'Ashlyn Harris played for which team in 2015?', 'gt_ans': 'Orlando Pride', 'next_model_prediction': 'Ashlyn Harris played for the Orlando Pride in 2015.'}\n",
      "Inertia:     {'cur_question': 'Peter Sagan played for which team in 2016?', 'gt_ans': 'Bora-Hansgrohe', 'next_model_prediction': 'Bora-Hansgrohe.'}\n",
      "Inertia:     {'cur_question': 'Juan Román Riquelme played for which team in 2014?', 'gt_ans': 'Boca Juniors', 'next_model_prediction': 'Juan Román Riquelme played for the Boca Juniors in 2014.'}\n",
      "Inertia:     {'cur_question': 'Darren Lockyer played for which team in 2010?', 'gt_ans': 'Brisbane Broncos', 'next_model_prediction': 'Darren Lockyer played for the Brisbane Broncos in 2010.'}\n"
     ]
    },
    {
     "name": "stderr",
     "output_type": "stream",
     "text": [
      " 70%|███████   | 35429/50310 [01:41<00:30, 495.42it/s]"
     ]
    },
    {
     "name": "stdout",
     "output_type": "stream",
     "text": [
      "Inertia:     {'cur_question': 'Edinson Cavani played for which team in 2013?', 'gt_ans': 'Paris Saint-Germain', 'next_model_prediction': 'Paris Saint-Germain.'}\n",
      "Inertia:     {'cur_question': 'Sam Bradford played for which team in 2014?', 'gt_ans': 'Philadelphia Eagles', 'next_model_prediction': 'Philadelphia Eagles.'}\n"
     ]
    },
    {
     "name": "stderr",
     "output_type": "stream",
     "text": [
      " 71%|███████   | 35695/50310 [01:42<00:29, 495.08it/s]"
     ]
    },
    {
     "name": "stdout",
     "output_type": "stream",
     "text": [
      "Inertia:     {'cur_question': 'Kirk Hinrich played for which team in 2011?', 'gt_ans': 'Chicago Bulls', 'next_model_prediction': 'Chicago Bulls.'}\n",
      "Inertia:     {'cur_question': 'Kylian Mbappé played for which team in 2018?', 'gt_ans': 'Paris Saint-Germain', 'next_model_prediction': 'Paris Saint-Germain.'}\n",
      "Inertia:     {'cur_question': 'Calais Campbell played for which team in 2017?', 'gt_ans': 'Jacksonville Jaguars', 'next_model_prediction': 'A: Jacksonville Jaguars.'}\n"
     ]
    },
    {
     "name": "stderr",
     "output_type": "stream",
     "text": [
      " 71%|███████▏  | 35849/50310 [01:42<00:29, 492.36it/s]"
     ]
    },
    {
     "name": "stdout",
     "output_type": "stream",
     "text": [
      "Inertia:     {'cur_question': 'J. J. Redick played for which team in 2017?', 'gt_ans': 'Philadelphia 76ers', 'next_model_prediction': 'J. J. Redick played for the Philadelphia 76ers in 2017.'}\n"
     ]
    },
    {
     "name": "stderr",
     "output_type": "stream",
     "text": [
      " 71%|███████▏  | 35951/50310 [01:42<00:30, 465.99it/s]"
     ]
    },
    {
     "name": "stdout",
     "output_type": "stream",
     "text": [
      "Inertia:     {'cur_question': 'Patrick Mahomes played for which team in 2016?', 'gt_ans': 'Kansas City Chiefs', 'next_model_prediction': 'Kansas City Chiefs.'}\n",
      "Inertia:     {'cur_question': 'Lasith Malinga played for which team in 2014?', 'gt_ans': 'Mumbai Indians', 'next_model_prediction': 'Lasith Malinga played for the Mumbai Indians in the 2014 Indian Premier League.'}\n",
      "Inertia:     {'cur_question': 'Zion Williamson played for which team in 2019?', 'gt_ans': 'New Orleans Pelicans', 'next_model_prediction': 'New Orleans Pelicans.'}\n"
     ]
    },
    {
     "name": "stderr",
     "output_type": "stream",
     "text": [
      " 72%|███████▏  | 36267/50310 [01:43<00:27, 502.23it/s]"
     ]
    },
    {
     "name": "stdout",
     "output_type": "stream",
     "text": [
      "Inertia:     {'cur_question': 'Victor Oladipo played for which team in 2017?', 'gt_ans': 'Indiana Pacers', 'next_model_prediction': 'Victor Oladipo played for the Indiana Pacers in 2017.'}\n",
      "Inertia:     {'cur_question': 'Owen Farrell played for which team in 2013?', 'gt_ans': 'England national rugby union team', 'next_model_prediction': 'Owen Farrell played for the England national rugby union team in 2013.'}\n"
     ]
    },
    {
     "name": "stderr",
     "output_type": "stream",
     "text": [
      " 72%|███████▏  | 36368/50310 [01:43<00:28, 489.42it/s]"
     ]
    },
    {
     "name": "stdout",
     "output_type": "stream",
     "text": [
      "Inertia:     {'cur_question': 'Danny Green played for which team in 2019?', 'gt_ans': 'Los Angeles Lakers', 'next_model_prediction': 'Danny Green played for the Los Angeles Lakers in 2019.'}\n"
     ]
    },
    {
     "name": "stderr",
     "output_type": "stream",
     "text": [
      " 73%|███████▎  | 36636/50310 [01:44<00:27, 501.20it/s]"
     ]
    },
    {
     "name": "stdout",
     "output_type": "stream",
     "text": [
      "Inertia:     {'cur_question': 'André Ayew played for which team in 2015?', 'gt_ans': 'Swansea City A.F.C.', 'next_model_prediction': 'André Ayew played for the Swansea City A.F.C. in 2015.'}\n",
      "Inertia:     {'cur_question': 'Shivnarine Chanderpaul played for which team in 2014?', 'gt_ans': 'West Indies cricket team', 'next_model_prediction': 'Shivnarine Chanderpaul played for the West Indies cricket team in 2014.'}\n",
      "Inertia:     {'cur_question': 'Deandre Ayton played for which team in 2018?', 'gt_ans': 'Phoenix Suns', 'next_model_prediction': 'Phoenix Suns.'}\n"
     ]
    },
    {
     "name": "stderr",
     "output_type": "stream",
     "text": [
      " 73%|███████▎  | 36899/50310 [01:44<00:27, 486.00it/s]"
     ]
    },
    {
     "name": "stdout",
     "output_type": "stream",
     "text": [
      "Inertia:     {'cur_question': 'Robert Mugabe held which position in 2016?', 'gt_ans': 'President of Zimbabwe', 'next_model_prediction': 'President of Zimbabwe.'}\n",
      "Inertia:     {'cur_question': 'Boris Johnson held which position in 2018?', 'gt_ans': 'Prime Minister of the United Kingdom', 'next_model_prediction': 'Boris Johnson held the position of Prime Minister of the United Kingdom from 2019 to 2021.'}\n",
      "Inertia:     {'cur_question': 'Mike Pence held which position in 2017?', 'gt_ans': 'Vice President of the United States', 'next_model_prediction': 'Vice President of the United States.'}\n",
      "Inertia:     {'cur_question': 'Scott Pruitt held which position in 2017?', 'gt_ans': 'Administrator of the Environmental Protection Agency', 'next_model_prediction': 'Scott Pruitt held the position of Administrator of the Environmental Protection Agency in 2017.'}\n",
      "Inertia:     {'cur_question': 'Rafael Correa Delgado held which position in 2010?', 'gt_ans': 'President of Ecuador', 'next_model_prediction': 'President of Ecuador.'}\n",
      "Inertia:     {'cur_question': 'Ralph Northam held which position in 2018?', 'gt_ans': 'Governor of Virginia', 'next_model_prediction': 'Lieutenant Governor of Virginia.'}\n",
      "Inertia:     {'cur_question': 'José Luis Rodríguez Zapatero held which position in 2011?', 'gt_ans': 'Spain.', 'next_model_prediction': 'Prime Minister of Spain.'}\n"
     ]
    },
    {
     "name": "stderr",
     "output_type": "stream",
     "text": [
      " 74%|███████▎  | 36996/50310 [01:45<00:28, 470.14it/s]"
     ]
    },
    {
     "name": "stdout",
     "output_type": "stream",
     "text": [
      "Inertia:     {'cur_question': 'Emmerson Mnangagwa held which position in 2017?', 'gt_ans': 'President of Zimbabwe', 'next_model_prediction': 'He was the President of Zimbabwe.'}\n",
      "Inertia:     {'cur_question': 'Dmitry Medvedev held which position in 2012?', 'gt_ans': 'Prime Minister of Russia', 'next_model_prediction': 'Dmitry Medvedev held the position of Prime Minister of Russia from 2012 to 2018.'}\n"
     ]
    },
    {
     "name": "stderr",
     "output_type": "stream",
     "text": [
      " 74%|███████▍  | 37104/50310 [01:45<00:27, 485.33it/s]"
     ]
    },
    {
     "name": "stdout",
     "output_type": "stream",
     "text": [
      "Inertia:     {'cur_question': 'Jeff Flake held which position in 2013?', 'gt_ans': 'United States senator', 'next_model_prediction': 'Jeff Flake held the position of United States Senator from Arizona from 2013 to 2019.'}\n",
      "Inertia:     {'cur_question': 'Aleksandar Vučić held which position in 2017?', 'gt_ans': 'President of Serbia', 'next_model_prediction': 'Aleksandar Vučić held the position of President of Serbia from 2012 to 2017.'}\n",
      "Inertia:     {'cur_question': 'Anerood Jugnauth held which position in 2012?', 'gt_ans': 'Prime Minister of Mauritius', 'next_model_prediction': 'Anerood Jugnauth held the position of Prime Minister of Mauritius from 2010 to 2014.'}\n",
      "Inertia:     {'cur_question': 'James R. Clapper held which position in 2010?', 'gt_ans': 'Director of National Intelligence', 'next_model_prediction': 'Director of National Intelligence.'}\n",
      "Inertia:     {'cur_question': 'Pranab Mukherjee held which position in 2012?', 'gt_ans': 'President of India', 'next_model_prediction': 'Pranab Mukherjee held the position of President of India in 2012.'}\n",
      "Inertia:     {'cur_question': 'Nicola Sturgeon held which position in 2014?', 'gt_ans': 'First Minister of Scotland', 'next_model_prediction': 'Nicola Sturgeon held the position of Deputy First Minister of Scotland in 2014.'}\n"
     ]
    },
    {
     "name": "stderr",
     "output_type": "stream",
     "text": [
      " 74%|███████▍  | 37202/50310 [01:45<00:28, 465.71it/s]"
     ]
    },
    {
     "name": "stdout",
     "output_type": "stream",
     "text": [
      "Inertia:     {'cur_question': 'Mahmoud Abbas held which position in 2013?', 'gt_ans': 'President of the State of Palestine', 'next_model_prediction': 'Mahmoud Abbas held the position of President of the State of Palestine from 2005 to present.'}\n",
      "Inertia:     {'cur_question': 'Abdul Taib Mahmud held which position in 2020?', 'gt_ans': 'Sarawak.', 'next_model_prediction': 'He was the Chief Minister of Sarawak, Malaysia.'}\n",
      "Inertia:     {'cur_question': 'Joe Donnelly held which position in 2013?', 'gt_ans': 'United States senator', 'next_model_prediction': 'Joe Donnelly held the position of United States Senator from Indiana from 2013 to 2021.'}\n",
      "Inertia:     {'cur_question': 'Tim Scott held which position in 2013?', 'gt_ans': 'United States senator', 'next_model_prediction': 'Tim Scott held the position of United States Senator from South Carolina from 2013 to 2021.'}\n",
      "Inertia:     {'cur_question': 'Oleksandr Turchynov held which position in 2020?', 'gt_ans': 'National Security and Defense Council of Ukraine.', 'next_model_prediction': 'He was the Secretary of the National Security and Defense Council of Ukraine.'}\n",
      "Inertia:     {'cur_question': 'Arseniy Yatsenyuk held which position in 2014?', 'gt_ans': 'Prime Minister of Ukraine', 'next_model_prediction': 'Arseniy Yatsenyuk held the position of Prime Minister of Ukraine from 2014 to 2016.'}\n",
      "Inertia:     {'cur_question': 'Andrej Plenković held which position in 2016?', 'gt_ans': 'Prime Minister of Croatia', 'next_model_prediction': 'Andrej Plenković held the position of Prime Minister of Croatia in 2016.'}\n"
     ]
    },
    {
     "name": "stderr",
     "output_type": "stream",
     "text": [
      " 74%|███████▍  | 37346/50310 [01:45<00:28, 456.70it/s]"
     ]
    },
    {
     "name": "stdout",
     "output_type": "stream",
     "text": [
      "Inertia:     {'cur_question': 'John F. Kelly held which position in 2017?', 'gt_ans': 'White House Chief of Staff', 'next_model_prediction': 'White House Chief of Staff.'}\n",
      "Inertia:     {'cur_question': 'Roy Blunt held which position in 2011?', 'gt_ans': 'United States senator', 'next_model_prediction': 'Roy Blunt held the position of United States Senator from Missouri from 2011 to present.'}\n",
      "Inertia:     {'cur_question': 'Li Keqiang held which position in 2013?', 'gt_ans': \"Premier of the State Council of the People's Republic of China\", 'next_model_prediction': \"Li Keqiang held the position of Premier of the State Council of the People's Republic of China in 2013.\"}\n",
      "Inertia:     {'cur_question': 'Carles Puigdemont held which position in 2020?', 'gt_ans': 'Catalonia.', 'next_model_prediction': 'Carles Puigdemont held the position of President of the Government of Catalonia in 2020.'}\n",
      "Inertia:     {'cur_question': 'Selina Meyer held which position in 2013?', 'gt_ans': 'Vice President of the United States', 'next_model_prediction': 'Vice President of the United States.'}\n"
     ]
    },
    {
     "name": "stderr",
     "output_type": "stream",
     "text": [
      " 74%|███████▍  | 37446/50310 [01:46<00:29, 439.31it/s]"
     ]
    },
    {
     "name": "stdout",
     "output_type": "stream",
     "text": [
      "Inertia:     {'cur_question': 'Muhyiddin Yassin held which position in 2015?', 'gt_ans': 'Prime Minister of Malaysia', 'next_model_prediction': 'Deputy Prime Minister of Malaysia.'}\n",
      "Inertia:     {'cur_question': 'Mario Monti held which position in 2020?', 'gt_ans': 'Italy.', 'next_model_prediction': 'Mario Monti held the position of Prime Minister of Italy from 2011 to 2013.'}\n"
     ]
    },
    {
     "name": "stderr",
     "output_type": "stream",
     "text": [
      " 75%|███████▍  | 37546/50310 [01:46<00:29, 431.92it/s]"
     ]
    },
    {
     "name": "stdout",
     "output_type": "stream",
     "text": [
      "Inertia:     {'cur_question': 'Malusi Gigaba held which position in 2014?', 'gt_ans': 'Minister of Home Affairs', 'next_model_prediction': 'He was the Minister of Home Affairs in South Africa.'}\n",
      "Inertia:     {'cur_question': 'Almazbek Atambayev held which position in 2011?', 'gt_ans': 'President of Kyrgyzstan', 'next_model_prediction': 'Almazbek Atambayev held the position of President of Kyrgyzstan from 2011 to 2017.'}\n",
      "Inertia:     {'cur_question': 'Trey Gowdy held which position in 2010?', 'gt_ans': 'United States representative', 'next_model_prediction': \"Trey Gowdy held the position of United States Representative for South Carolina's 4th congressional district from 2011 to\"}\n",
      "Inertia:     {'cur_question': 'David Julian Richards, Baron Richards of Herstmonceux held which position in 2010?', 'gt_ans': 'Chief of the Defence Staff', 'next_model_prediction': 'He was the Chief of the Defence Staff of the United Kingdom.'}\n"
     ]
    },
    {
     "name": "stderr",
     "output_type": "stream",
     "text": [
      " 75%|███████▍  | 37638/50310 [01:46<00:30, 411.42it/s]"
     ]
    },
    {
     "name": "stdout",
     "output_type": "stream",
     "text": [
      "Inertia:     {'cur_question': 'Phil Hogan held which position in 2014?', 'gt_ans': 'European Commissioner for Agriculture and Rural Development', 'next_model_prediction': 'He was the European Commissioner for Agriculture and Rural Development.'}\n",
      "Inertia:     {'cur_question': 'Steven Ciobo held which position in 2016?', 'gt_ans': 'Minister for Trade', 'next_model_prediction': 'Steven Ciobo held the position of Minister for Trade, Tourism and Investment in 2016.'}\n",
      "Inertia:     {'cur_question': 'Tabaré Vázquez held which position in 2016?', 'gt_ans': 'President of Uruguay', 'next_model_prediction': 'President of Uruguay.'}\n",
      "Inertia:     {'cur_question': 'Jeff Colyer held which position in 2018?', 'gt_ans': 'Governor of Kansas', 'next_model_prediction': 'Jeff Colyer held the position of Lieutenant Governor of Kansas in 2018.'}\n"
     ]
    },
    {
     "name": "stderr",
     "output_type": "stream",
     "text": [
      " 75%|███████▌  | 37772/50310 [01:46<00:30, 411.65it/s]"
     ]
    },
    {
     "name": "stdout",
     "output_type": "stream",
     "text": [
      "Inertia:     {'cur_question': 'Michael Fallon held which position in 2014?', 'gt_ans': 'Secretary of State for Defence', 'next_model_prediction': 'Michael Fallon held the position of Secretary of State for Defence in 2014.'}\n"
     ]
    },
    {
     "name": "stderr",
     "output_type": "stream",
     "text": [
      " 75%|███████▌  | 37854/50310 [01:47<00:33, 375.33it/s]"
     ]
    },
    {
     "name": "stdout",
     "output_type": "stream",
     "text": [
      "Inertia:     {'cur_question': 'Pál Schmitt held which position in 2010?', 'gt_ans': 'President of Hungary', 'next_model_prediction': 'Pál Schmitt held the position of President of Hungary from 2010 to 2012.'}\n",
      "Inertia:     {'cur_question': 'Tassaduq Hussain Jillani held which position in 2013?', 'gt_ans': 'Chief Justice of Pakistan', 'next_model_prediction': 'Tassaduq Hussain Jillani held the position of Chief Justice of Pakistan in 2013.'}\n",
      "Inertia:     {'cur_question': 'Joseph F. Dunford, Jr. held which position in 2015?', 'gt_ans': 'Chairman of the Joint Chiefs of Staff', 'next_model_prediction': 'Chairman of the Joint Chiefs of Staff.'}\n"
     ]
    },
    {
     "name": "stderr",
     "output_type": "stream",
     "text": [
      " 76%|███████▌  | 38067/50310 [01:47<00:32, 377.28it/s]"
     ]
    },
    {
     "name": "stdout",
     "output_type": "stream",
     "text": [
      "Inertia:     {'cur_question': 'Miguel Díaz-Canel held which position in 2019?', 'gt_ans': 'President of Cuba', 'next_model_prediction': 'He held the position of President of Cuba.'}\n",
      "Inertia:     {'cur_question': 'Xavier Bettel held which position in 2011?', 'gt_ans': 'Prime Minister of Luxembourg', 'next_model_prediction': 'Xavier Bettel held the position of Prime Minister of Luxembourg in 2011.'}\n",
      "Inertia:     {'cur_question': 'Trent Kelly held which position in 2015?', 'gt_ans': 'United States representative', 'next_model_prediction': \"He was the United States Representative for Mississippi's 1st congressional district.\"}\n"
     ]
    },
    {
     "name": "stderr",
     "output_type": "stream",
     "text": [
      " 76%|███████▌  | 38163/50310 [01:47<00:29, 409.54it/s]"
     ]
    },
    {
     "name": "stdout",
     "output_type": "stream",
     "text": [
      "Inertia:     {'cur_question': 'Mercedes Aráoz held which position in 2018?', 'gt_ans': 'Vice President of Peru', 'next_model_prediction': 'She was the Vice President of Peru.'}\n",
      "Inertia:     {'cur_question': 'Craig Emerson held which position in 2010?', 'gt_ans': 'Minister for Trade', 'next_model_prediction': 'Craig Emerson held the position of Minister for Trade in 2010.'}\n",
      "Inertia:     {'cur_question': 'Petr Nečas held which position in 2013?', 'gt_ans': 'Czech Republic.', 'next_model_prediction': 'Petr Nečas held the position of Prime Minister of the Czech Republic from 2010 to 2013.'}\n"
     ]
    },
    {
     "name": "stderr",
     "output_type": "stream",
     "text": [
      " 76%|███████▌  | 38293/50310 [01:48<00:29, 411.50it/s]"
     ]
    },
    {
     "name": "stdout",
     "output_type": "stream",
     "text": [
      "Inertia:     {'cur_question': 'Karen Bradley held which position in 2018?', 'gt_ans': 'Secretary of State for Northern Ireland', 'next_model_prediction': 'Karen Bradley held the position of Secretary of State for Northern Ireland in 2018.'}\n",
      "Inertia:     {'cur_question': 'Raimonds Vējonis held which position in 2015?', 'gt_ans': 'President of Latvia', 'next_model_prediction': 'He was the 12th President of Latvia.'}\n",
      "Inertia:     {'cur_question': 'Michel Spiro held which position in 2010?', 'gt_ans': 'president', 'next_model_prediction': 'Michel Spiro was the President of the International Olympic Committee from 2010 to 2014.'}\n"
     ]
    },
    {
     "name": "stderr",
     "output_type": "stream",
     "text": [
      " 76%|███████▋  | 38385/50310 [01:48<00:29, 400.66it/s]"
     ]
    },
    {
     "name": "stdout",
     "output_type": "stream",
     "text": [
      "Inertia:     {'cur_question': 'Nik Stauskas attended which university in 2012?', 'gt_ans': 'University of Michigan', 'next_model_prediction': 'Nik Stauskas attended the University of Michigan in 2012.'}\n",
      "Inertia:     {'cur_question': 'Baker Mayfield attended which university in 2013?', 'gt_ans': 'University of Oklahoma', 'next_model_prediction': 'Baker Mayfield attended the University of Oklahoma in 2013.'}\n"
     ]
    },
    {
     "name": "stderr",
     "output_type": "stream",
     "text": [
      " 77%|███████▋  | 38566/50310 [01:48<00:27, 429.04it/s]"
     ]
    },
    {
     "name": "stdout",
     "output_type": "stream",
     "text": [
      "Inertia:     {'cur_question': 'Fletcher Magee attended which university in 2015?', 'gt_ans': 'Wofford College', 'next_model_prediction': 'Fletcher Magee attended Wofford College in 2015.'}\n",
      "Inertia:     {'cur_question': 'Derek Willis attended which university in 2013?', 'gt_ans': 'University of Kentucky', 'next_model_prediction': 'Derek Willis attended the University of Kentucky in 2013.'}\n"
     ]
    },
    {
     "name": "stderr",
     "output_type": "stream",
     "text": [
      " 77%|███████▋  | 38825/50310 [01:49<00:40, 285.73it/s]"
     ]
    },
    {
     "name": "stdout",
     "output_type": "stream",
     "text": [
      "Inertia:     {'cur_question': 'Bernd Lucke was a member of which party in 2020?', 'gt_ans': 'Alternative for Germany.', 'next_model_prediction': 'Bernd Lucke was a member of the Alternative for Germany (AfD) party in 2020.'}\n"
     ]
    },
    {
     "name": "stderr",
     "output_type": "stream",
     "text": [
      " 77%|███████▋  | 38895/50310 [01:49<00:37, 303.64it/s]"
     ]
    },
    {
     "name": "stdout",
     "output_type": "stream",
     "text": [
      "Inertia:     {'cur_question': 'Su Tseng-chang was the chair of which entity in 2014?', 'gt_ans': 'Taiwan.', 'next_model_prediction': \"Taiwan's Mainland Affairs Council.\"}\n"
     ]
    },
    {
     "name": "stderr",
     "output_type": "stream",
     "text": [
      " 78%|███████▊  | 38998/50310 [01:50<00:54, 208.96it/s]"
     ]
    },
    {
     "name": "stdout",
     "output_type": "stream",
     "text": [
      "Inertia:     {'cur_question': 'Pia Kjærsgaard was the chair of which entity in 2019?', 'gt_ans': \"Danish People's Party.\", 'next_model_prediction': \"Pia Kjærsgaard was the chair of the Danish People's Party in 2019.\"}\n",
      "Inertia:     {'cur_question': 'Pia Kjærsgaard was the chair of which entity in 2019?', 'gt_ans': \"Danish People's Party.\", 'next_model_prediction': \"Pia Kjærsgaard was the chair of the Danish People's Party in 2019.\"}\n"
     ]
    },
    {
     "name": "stderr",
     "output_type": "stream",
     "text": [
      " 78%|███████▊  | 39123/50310 [01:51<00:50, 221.74it/s]"
     ]
    },
    {
     "name": "stdout",
     "output_type": "stream",
     "text": [
      "Inertia:     {'cur_question': 'Artur Mas was the chair of which entity in 2016?', 'gt_ans': 'Catalonia.', 'next_model_prediction': 'Artur Mas was the President of the Generalitat of Catalonia from 2010 to 2016.'}\n"
     ]
    },
    {
     "name": "stderr",
     "output_type": "stream",
     "text": [
      " 78%|███████▊  | 39167/50310 [01:51<01:01, 182.16it/s]"
     ]
    },
    {
     "name": "stdout",
     "output_type": "stream",
     "text": [
      "Inertia:     {'cur_question': 'Muhammadu Buhari was a member of which party in 2015?', 'gt_ans': 'All Progressives Congress', 'next_model_prediction': 'All correct. Muhammadu Buhari was a member of the All Progressives Congress in 2015.'}\n"
     ]
    },
    {
     "name": "stderr",
     "output_type": "stream",
     "text": [
      " 79%|███████▉  | 39651/50310 [01:53<00:28, 368.76it/s]"
     ]
    },
    {
     "name": "stdout",
     "output_type": "stream",
     "text": [
      "Inertia:     {'cur_question': 'Muhammadu Buhari was a member of which party in 2015?', 'gt_ans': 'All Progressives Congress', 'next_model_prediction': 'All correct. Muhammadu Buhari was a member of the All Progressives Congress in 2015.'}\n",
      "Inertia:     {'cur_question': 'Sarath Fonseka was a member of which party in 2016?', 'gt_ans': 'United National Party', 'next_model_prediction': 'Sarath Fonseka was a member of the United National Party in 2016.'}\n",
      "Inertia:     {'cur_question': 'Bill Weld was a member of which party in 2019?', 'gt_ans': 'Republican Party', 'next_model_prediction': 'Bill Weld was a member of the Republican Party in 2019.'}\n"
     ]
    },
    {
     "name": "stderr",
     "output_type": "stream",
     "text": [
      " 79%|███████▉  | 39782/50310 [01:53<00:21, 481.83it/s]"
     ]
    },
    {
     "name": "stdout",
     "output_type": "stream",
     "text": [
      "Inertia:     {'cur_question': 'Richard Painter was a member of which party in 2018?', 'gt_ans': 'Democratic Party', 'next_model_prediction': 'Democratic Party.'}\n",
      "Inertia:     {'cur_question': 'Adonis Georgiades was a member of which party in 2012?', 'gt_ans': 'New Democracy', 'next_model_prediction': 'Adonis Georgiades was a member of the New Democracy party in 2012.'}\n",
      "Inertia:     {'cur_question': 'Craig Mackinlay was a member of which party in 2015?', 'gt_ans': 'Conservative Party', 'next_model_prediction': 'Craig Mackinlay was a member of the Conservative Party in 2015.'}\n"
     ]
    },
    {
     "name": "stderr",
     "output_type": "stream",
     "text": [
      " 79%|███████▉  | 39948/50310 [01:53<00:20, 503.34it/s]"
     ]
    },
    {
     "name": "stdout",
     "output_type": "stream",
     "text": [
      "Inertia:     {'cur_question': 'Kushboo was a member of which party in 2014?', 'gt_ans': 'Indian National Congress', 'next_model_prediction': 'Kushboo was a member of the Indian National Congress in 2014.'}\n",
      "Inertia:     {'cur_question': 'Carlo Calenda was a member of which party in 2015?', 'gt_ans': 'Democratic Party', 'next_model_prediction': 'Carlo Calenda was a member of the Democratic Party in 2015.'}\n",
      "Inertia:     {'cur_question': \"Tom O'Halleran was a member of which party in 2014?\", 'gt_ans': 'Democratic Party', 'next_model_prediction': 'Democratic Party.'}\n"
     ]
    },
    {
     "name": "stderr",
     "output_type": "stream",
     "text": [
      " 80%|███████▉  | 40178/50310 [01:54<00:19, 521.71it/s]"
     ]
    },
    {
     "name": "stdout",
     "output_type": "stream",
     "text": [
      "Inertia:     {'cur_question': 'Marios Matsakis was a member of which party in 2014?', 'gt_ans': 'Democratic Party', 'next_model_prediction': 'Marios Matsakis was a member of the Democratic Party in 2014.'}\n"
     ]
    },
    {
     "name": "stderr",
     "output_type": "stream",
     "text": [
      " 80%|████████  | 40350/50310 [01:54<00:18, 526.50it/s]"
     ]
    },
    {
     "name": "stdout",
     "output_type": "stream",
     "text": [
      "Inertia:     {'cur_question': 'Aurore Bergé was a member of which party in 2017?', 'gt_ans': 'La République En Marche', 'next_model_prediction': 'Aurore Bergé was a member of the French political party La République En Marche! in 2017.'}\n"
     ]
    },
    {
     "name": "stderr",
     "output_type": "stream",
     "text": [
      " 81%|████████  | 40523/50310 [01:54<00:18, 532.14it/s]"
     ]
    },
    {
     "name": "stdout",
     "output_type": "stream",
     "text": [
      "Inertia:     {'cur_question': 'Dan Satterberg was a member of which party in 2018?', 'gt_ans': 'Democratic Party', 'next_model_prediction': 'Democratic Party.'}\n",
      "Inertia:     {'cur_question': 'Rahşan Ecevit was a member of which party in 2010?', 'gt_ans': \"Republican People's Party\", 'next_model_prediction': \"Rahşan Ecevit was a member of the Republican People's Party in 2010.\"}\n"
     ]
    },
    {
     "name": "stderr",
     "output_type": "stream",
     "text": [
      " 82%|████████▏ | 41295/50310 [01:56<00:16, 535.65it/s]"
     ]
    },
    {
     "name": "stdout",
     "output_type": "stream",
     "text": [
      "Inertia:     {'cur_question': 'Mariss Jansons worked for which company in 2015?', 'gt_ans': 'Bavarian Radio Symphony Orchestra', 'next_model_prediction': 'Mariss Jansons worked for the Bavarian Radio Symphony Orchestra in 2015.'}\n"
     ]
    },
    {
     "name": "stderr",
     "output_type": "stream",
     "text": [
      " 83%|████████▎ | 41657/50310 [01:57<00:15, 549.47it/s]"
     ]
    },
    {
     "name": "stdout",
     "output_type": "stream",
     "text": [
      "Inertia:     {'cur_question': 'John S. Chen worked for which company in 2013?', 'gt_ans': 'BlackBerry', 'next_model_prediction': 'John S. Chen worked for BlackBerry in 2013.'}\n",
      "Inertia:     {'cur_question': 'Ed H. Chi worked for which company in 2011?', 'gt_ans': 'Google', 'next_model_prediction': 'Ed H. Chi worked for Google in 2011.'}\n",
      "Inertia:     {'cur_question': 'Katherine Maher worked for which company in 2014?', 'gt_ans': 'Wikimedia Foundation', 'next_model_prediction': 'Katherine Maher worked for the Wikimedia Foundation in 2014.'}\n",
      "Inertia:     {'cur_question': 'Sabine Hossenfelder worked for which company in 2015?', 'gt_ans': 'Frankfurt Institute for Advanced Studies', 'next_model_prediction': 'Sabine Hossenfelder worked for the Frankfurt Institute for Advanced Studies.'}\n"
     ]
    },
    {
     "name": "stderr",
     "output_type": "stream",
     "text": [
      " 84%|████████▍ | 42174/50310 [01:58<00:15, 520.75it/s]"
     ]
    },
    {
     "name": "stdout",
     "output_type": "stream",
     "text": [
      "Inertia:     {'cur_question': 'Deborah Orr worked for which company in 2018?', 'gt_ans': 'i', 'next_model_prediction': 'Deborah Orr worked for The Guardian in 2018.'}\n"
     ]
    },
    {
     "name": "stderr",
     "output_type": "stream",
     "text": [
      " 85%|████████▌ | 42907/50310 [01:59<00:14, 523.37it/s]"
     ]
    },
    {
     "name": "stdout",
     "output_type": "stream",
     "text": [
      "Inertia:     {'cur_question': 'Natasha Bertrand worked for which company in 2018?', 'gt_ans': 'The Atlantic', 'next_model_prediction': 'Natasha Bertrand worked for The Atlantic in 2018.'}\n"
     ]
    },
    {
     "name": "stderr",
     "output_type": "stream",
     "text": [
      " 86%|████████▌ | 43079/50310 [01:59<00:13, 526.13it/s]"
     ]
    },
    {
     "name": "stdout",
     "output_type": "stream",
     "text": [
      "Inertia:     {'cur_question': 'Jennifer Bendery worked for which company in 2011?', 'gt_ans': 'HuffPost', 'next_model_prediction': 'HuffPost.'}\n",
      "Inertia:     {'cur_question': 'Brian M. Rosenthal worked for which company in 2016?', 'gt_ans': 'The New York Times', 'next_model_prediction': 'Brian M. Rosenthal worked for The New York Times in 2016.'}\n"
     ]
    },
    {
     "name": "stderr",
     "output_type": "stream",
     "text": [
      " 86%|████████▌ | 43132/50310 [02:00<00:20, 345.21it/s]"
     ]
    },
    {
     "name": "stdout",
     "output_type": "stream",
     "text": [
      "Inertia:     {'cur_question': 'Mario Monti held which position in 2020?', 'gt_ans': 'Italy.', 'next_model_prediction': 'Mario Monti held the position of Prime Minister of Italy from 2011 to 2013.'}\n",
      "Inertia:     {'cur_question': 'Matteo Renzi is the head of the government of which state in 2013?', 'gt_ans': 'Italy.', 'next_model_prediction': 'Matteo Renzi is the head of the government of Italy since 2014.'}\n",
      "Inertia:     {'cur_question': 'José Luis Rodríguez Zapatero held which position in 2011?', 'gt_ans': 'Spain.', 'next_model_prediction': 'Prime Minister of Spain.'}\n",
      "Inertia:     {'cur_question': 'Mariano Rajoy was the chair of which entity in 2017?', 'gt_ans': 'Spain.', 'next_model_prediction': 'Mariano Rajoy was the chair of the Government of Spain in 2017.'}\n",
      "Inertia:     {'cur_question': 'Jens Stoltenberg held which position in 2014?', 'gt_ans': 'Secretary General of NATO', 'next_model_prediction': 'Jens Stoltenberg held the position of Secretary General of NATO in 2014.'}\n",
      "Inertia:     {'cur_question': 'Nawaz Sharif held which position in 2017?', 'gt_ans': 'Pakistan.', 'next_model_prediction': 'Prime Minister of Pakistan.'}\n",
      "Inertia:     {'cur_question': 'Nasir-ul-Mulk held which position in 2018?', 'gt_ans': 'Pakistan.', 'next_model_prediction': 'Nasir-ul-Mulk held the position of Chief Justice of Pakistan in 2018.'}\n"
     ]
    },
    {
     "name": "stderr",
     "output_type": "stream",
     "text": [
      " 86%|████████▌ | 43212/50310 [02:00<00:25, 281.77it/s]"
     ]
    },
    {
     "name": "stdout",
     "output_type": "stream",
     "text": [
      "Inertia:     {'cur_question': 'Imran Khan held which position in 2020?', 'gt_ans': 'Pakistan.', 'next_model_prediction': 'Imran Khan held the position of Prime Minister of Pakistan in 2020.'}\n",
      "Inertia:     {'cur_question': 'Greg Abbott held which position in 2020?', 'gt_ans': 'Texas.', 'next_model_prediction': 'Greg Abbott held the position of Governor of Texas in 2020.'}\n",
      "Inertia:     {'cur_question': 'Virginia Raggi held which position in 2020?', 'gt_ans': 'Rome.', 'next_model_prediction': 'Virginia Raggi held the position of Mayor of Rome, Italy in 2020.'}\n",
      "Inertia:     {'cur_question': 'Artur Mas was the chair of which entity in 2016?', 'gt_ans': 'Catalonia.', 'next_model_prediction': 'Artur Mas was the President of the Generalitat of Catalonia from 2010 to 2016.'}\n",
      "Inertia:     {'cur_question': 'Carles Puigdemont held which position in 2020?', 'gt_ans': 'Catalonia.', 'next_model_prediction': 'Carles Puigdemont held the position of President of the Government of Catalonia in 2020.'}\n"
     ]
    },
    {
     "name": "stderr",
     "output_type": "stream",
     "text": [
      " 86%|████████▌ | 43245/50310 [02:00<00:28, 248.34it/s]"
     ]
    },
    {
     "name": "stdout",
     "output_type": "stream",
     "text": [
      "Inertia:     {'cur_question': 'Su Tseng-chang was the chair of which entity in 2014?', 'gt_ans': 'Taiwan.', 'next_model_prediction': \"Taiwan's Mainland Affairs Council.\"}\n",
      "Inertia:     {'cur_question': 'Christy Clark held which position in 2017?', 'gt_ans': 'British Columbia.', 'next_model_prediction': 'She was the 36th Premier of British Columbia, Canada.'}\n"
     ]
    },
    {
     "name": "stderr",
     "output_type": "stream",
     "text": [
      " 86%|████████▌ | 43387/50310 [02:01<00:31, 218.91it/s]"
     ]
    },
    {
     "name": "stdout",
     "output_type": "stream",
     "text": [
      "Inertia:     {'cur_question': 'Christian Kern worked for which company in 2016?', 'gt_ans': 'Austria.', 'next_model_prediction': 'Christian Kern worked for the Austrian Federal Railways (ÖBB) in 2016.'}\n",
      "Inertia:     {'cur_question': 'Sebastian Kurz held which position in 2020?', 'gt_ans': 'Austria.', 'next_model_prediction': 'He was the Chancellor of Austria.'}\n",
      "Inertia:     {'cur_question': 'Sebastian Kurz held which position in 2020?', 'gt_ans': 'Austria.', 'next_model_prediction': 'He was the Chancellor of Austria.'}\n",
      "Inertia:     {'cur_question': 'Neil Abercrombie held which position in 2014?', 'gt_ans': 'Hawaii.', 'next_model_prediction': 'Neil Abercrombie held the position of Governor of Hawaii from 2010 to 2014.'}\n"
     ]
    },
    {
     "name": "stderr",
     "output_type": "stream",
     "text": [
      " 86%|████████▋ | 43463/50310 [02:01<00:31, 214.35it/s]"
     ]
    },
    {
     "name": "stdout",
     "output_type": "stream",
     "text": [
      "Inertia:     {'cur_question': 'Valérie Plante was the chair of which entity in 2020?', 'gt_ans': 'Montreal.', 'next_model_prediction': 'Valérie Plante was the chair of the City of Montreal in 2020.'}\n",
      "Inertia:     {'cur_question': 'Abdul Taib Mahmud held which position in 2020?', 'gt_ans': 'Sarawak.', 'next_model_prediction': 'He was the Chief Minister of Sarawak, Malaysia.'}\n"
     ]
    },
    {
     "name": "stderr",
     "output_type": "stream",
     "text": [
      " 87%|████████▋ | 43539/50310 [02:01<00:30, 219.84it/s]"
     ]
    },
    {
     "name": "stdout",
     "output_type": "stream",
     "text": [
      "Inertia:     {'cur_question': 'Petr Nečas held which position in 2013?', 'gt_ans': 'Czech Republic.', 'next_model_prediction': 'Petr Nečas held the position of Prime Minister of the Czech Republic from 2010 to 2013.'}\n",
      "Inertia:     {'cur_question': 'Andrej Babiš held which position in 2017?', 'gt_ans': 'Prime Minister of the Czech Republic', 'next_model_prediction': 'Prime Minister of the Czech Republic.'}\n"
     ]
    },
    {
     "name": "stderr",
     "output_type": "stream",
     "text": [
      " 87%|████████▋ | 43631/50310 [02:02<00:26, 252.57it/s]"
     ]
    },
    {
     "name": "stdout",
     "output_type": "stream",
     "text": [
      "Inertia:     {'cur_question': 'Brian Pallister held which position in 2020?', 'gt_ans': 'Manitoba.', 'next_model_prediction': 'Brian Pallister held the position of Premier of Manitoba, Canada in 2020.'}\n"
     ]
    },
    {
     "name": "stderr",
     "output_type": "stream",
     "text": [
      " 88%|████████▊ | 44168/50310 [02:04<00:23, 263.29it/s]"
     ]
    },
    {
     "name": "stdout",
     "output_type": "stream",
     "text": [
      "Inertia:     {'cur_question': 'Chip Kelly was the head coach of which team in 2016?', 'gt_ans': 'Philadelphia Eagles.', 'next_model_prediction': 'Philadelphia Eagles.'}\n"
     ]
    },
    {
     "name": "stderr",
     "output_type": "stream",
     "text": [
      " 88%|████████▊ | 44306/50310 [02:05<00:42, 140.52it/s]"
     ]
    },
    {
     "name": "stdout",
     "output_type": "stream",
     "text": [
      "Inertia:     {'cur_question': 'Thomas Tuchel was the head coach of which team in 2014?', 'gt_ans': 'Paris Saint-Germain.', 'next_model_prediction': 'Paris Saint-Germain.'}\n"
     ]
    },
    {
     "name": "stderr",
     "output_type": "stream",
     "text": [
      " 88%|████████▊ | 44344/50310 [02:05<00:38, 155.91it/s]"
     ]
    },
    {
     "name": "stdout",
     "output_type": "stream",
     "text": [
      "Inertia:     {'cur_question': 'John Hackworth was the head coach of which team in 2020?', 'gt_ans': 'Philadelphia Union.', 'next_model_prediction': 'Philadelphia Union.'}\n"
     ]
    },
    {
     "name": "stderr",
     "output_type": "stream",
     "text": [
      " 90%|████████▉ | 45115/50310 [02:10<00:20, 250.64it/s]"
     ]
    },
    {
     "name": "stdout",
     "output_type": "stream",
     "text": [
      "Inertia:     {'cur_question': 'Google is owned by whom in 2015?', 'gt_ans': 'Alphabet Inc.', 'next_model_prediction': 'Alphabet Inc.'}\n",
      "Inertia:     {'cur_question': 'Charlotte Hornets is owned by whom in 2010?', 'gt_ans': 'Michael Jordan', 'next_model_prediction': \"The Charlotte Hornets are owned by the NBA's Charlotte Hornets, LLC, which is owned by Michael Jordan, Mark Massey,\"}\n",
      "Inertia:     {'cur_question': 'Yokohama DeNA BayStars is owned by whom in 2011?', 'gt_ans': 'DeNA', 'next_model_prediction': 'Yokohama DeNA BayStars is owned by the DeNA Group in 2011.'}\n"
     ]
    },
    {
     "name": "stderr",
     "output_type": "stream",
     "text": [
      " 90%|█████████ | 45451/50310 [02:22<01:17, 62.30it/s] "
     ]
    },
    {
     "name": "stdout",
     "output_type": "stream",
     "text": [
      "Inertia:     {'cur_question': 'Fox Entertainment Group is owned by whom in 2013?', 'gt_ans': '21st Century Fox', 'next_model_prediction': 'Fox Entertainment Group is owned by 21st Century Fox.'}\n",
      "Inertia:     {'cur_question': 'Rauma shipyard is owned by whom in 2014?', 'gt_ans': 'Rauma', 'next_model_prediction': 'Rauma shipyard is owned by STX Finland Oy.'}\n"
     ]
    },
    {
     "name": "stderr",
     "output_type": "stream",
     "text": [
      " 91%|█████████ | 45818/50310 [02:22<00:15, 295.87it/s]"
     ]
    },
    {
     "name": "stdout",
     "output_type": "stream",
     "text": [
      "Inertia:     {'cur_question': 'James Harden played for which team in 2012?', 'gt_ans': 'Houston Rockets', 'next_model_prediction': 'Houston Rockets.'}\n"
     ]
    },
    {
     "name": "stderr",
     "output_type": "stream",
     "text": [
      " 91%|█████████▏| 45982/50310 [02:23<00:10, 394.74it/s]"
     ]
    },
    {
     "name": "stdout",
     "output_type": "stream",
     "text": [
      "Inertia:     {'cur_question': 'Breanna Stewart played for which team in 2018?', 'gt_ans': 'Seattle Storm', 'next_model_prediction': 'Seattle Storm.'}\n"
     ]
    },
    {
     "name": "stderr",
     "output_type": "stream",
     "text": [
      " 92%|█████████▏| 46385/50310 [02:23<00:07, 516.49it/s]"
     ]
    },
    {
     "name": "stdout",
     "output_type": "stream",
     "text": [
      "Inertia:     {'cur_question': 'Alexander Albon played for which team in 2019?', 'gt_ans': 'Red Bull Racing', 'next_model_prediction': 'Alexander Albon played for the Red Bull Racing team in 2019.'}\n",
      "Inertia:     {'cur_question': 'Rohit Sharma played for which team in 2010?', 'gt_ans': 'Mumbai Indians', 'next_model_prediction': 'Rohit Sharma played for the Mumbai Indians in 2010.'}\n",
      "Inertia:     {'cur_question': 'Leigh Griffiths played for which team in 2014?', 'gt_ans': 'Celtic F.C.', 'next_model_prediction': 'Celtic FC.'}\n"
     ]
    },
    {
     "name": "stderr",
     "output_type": "stream",
     "text": [
      " 93%|█████████▎| 46556/50310 [02:24<00:07, 534.26it/s]"
     ]
    },
    {
     "name": "stdout",
     "output_type": "stream",
     "text": [
      "Inertia:     {'cur_question': 'Freddy Adu played for which team in 2015?', 'gt_ans': 'Tampa Bay Rowdies', 'next_model_prediction': 'Freddy Adu played for the Tampa Bay Rowdies in 2015.'}\n",
      "Inertia:     {'cur_question': 'David Cameron held which position in 2010?', 'gt_ans': 'Prime Minister of the United Kingdom', 'next_model_prediction': 'Prime Minister of the United Kingdom.'}\n",
      "Inertia:     {'cur_question': 'Francis held which position in 2013?', 'gt_ans': 'pope', 'next_model_prediction': 'Pope'}\n"
     ]
    },
    {
     "name": "stderr",
     "output_type": "stream",
     "text": [
      " 93%|█████████▎| 46660/50310 [02:24<00:07, 458.34it/s]"
     ]
    },
    {
     "name": "stdout",
     "output_type": "stream",
     "text": [
      "Inertia:     {'cur_question': 'Julia Gillard held which position in 2010?', 'gt_ans': 'Prime Minister of Australia', 'next_model_prediction': 'Prime Minister of Australia.'}\n",
      "Inertia:     {'cur_question': 'Mohammad bin Salman held which position in 2017?', 'gt_ans': 'Crown Prince of Saudi Arabia', 'next_model_prediction': 'Crown Prince of Saudi Arabia.'}\n",
      "Inertia:     {'cur_question': 'Andrej Babiš held which position in 2017?', 'gt_ans': 'Prime Minister of the Czech Republic', 'next_model_prediction': 'Prime Minister of the Czech Republic.'}\n",
      "Inertia:     {'cur_question': 'Chris Grayling held which position in 2016?', 'gt_ans': 'Secretary of State for Transport', 'next_model_prediction': 'He was the Secretary of State for Transport.'}\n",
      "Inertia:     {'cur_question': 'Jens Stoltenberg held which position in 2014?', 'gt_ans': 'Secretary General of NATO', 'next_model_prediction': 'Jens Stoltenberg held the position of Secretary General of NATO in 2014.'}\n",
      "Inertia:     {'cur_question': 'Mick Mulvaney held which position in 2017?', 'gt_ans': 'White House Chief of Staff', 'next_model_prediction': 'Mick Mulvaney held the position of White House Chief of Staff in 2017.'}\n"
     ]
    },
    {
     "name": "stderr",
     "output_type": "stream",
     "text": [
      " 93%|█████████▎| 46765/50310 [02:24<00:07, 469.28it/s]"
     ]
    },
    {
     "name": "stdout",
     "output_type": "stream",
     "text": [
      "Inertia:     {'cur_question': 'Scott Morrison held which position in 2018?', 'gt_ans': 'Prime Minister of Australia', 'next_model_prediction': 'Scott Morrison held the position of Prime Minister of Australia in 2018.'}\n",
      "Inertia:     {'cur_question': 'Kirill I of Moscow held which position in 2019?', 'gt_ans': 'Patriarch of Moscow and all Russia', 'next_model_prediction': 'Kirill I of Moscow held the position of Patriarch of Moscow and All Russia since 2009.'}\n",
      "Inertia:     {'cur_question': 'Micheál Martin held which position in 2011?', 'gt_ans': 'Leader of the Opposition', 'next_model_prediction': 'Micheál Martin held the position of Leader of the Opposition in the Irish Parliament from 2011 to 2020.'}\n",
      "Inertia:     {'cur_question': 'Jerry Moran held which position in 2011?', 'gt_ans': 'United States senator', 'next_model_prediction': 'Jerry Moran held the position of United States Senator from Kansas from 2011 to present.'}\n",
      "Inertia:     {'cur_question': 'Anba Epiphanius held which position in 2013?', 'gt_ans': 'bishop', 'next_model_prediction': 'He was the Coadjutor Bishop of the Episcopal Diocese of Pennsylvania.'}\n",
      "Inertia:     {'cur_question': 'Bill Keating held which position in 2010?', 'gt_ans': 'United States representative', 'next_model_prediction': \"Bill Keating held the position of United States Representative for Massachusetts's 9th congressional district from 2010 to 2\"}\n"
     ]
    },
    {
     "name": "stderr",
     "output_type": "stream",
     "text": [
      " 93%|█████████▎| 46914/50310 [02:25<00:07, 448.45it/s]"
     ]
    },
    {
     "name": "stdout",
     "output_type": "stream",
     "text": [
      "Inertia:     {'cur_question': 'Sauli Niinistö held which position in 2012?', 'gt_ans': 'President of Finland', 'next_model_prediction': 'President of Finland.'}\n",
      "Inertia:     {'cur_question': 'Lenín Moreno held which position in 2017?', 'gt_ans': 'President of Ecuador', 'next_model_prediction': 'He was the President of Ecuador.'}\n",
      "Inertia:     {'cur_question': 'Caroline Flint held which position in 2011?', 'gt_ans': 'Shadow Secretary of State for Energy and Climate Change', 'next_model_prediction': 'Caroline Flint held the position of Shadow Secretary of State for Energy and Climate Change from 2011 to 2015.'}\n",
      "Inertia:     {'cur_question': 'James Lankford held which position in 2015?', 'gt_ans': 'United States senator', 'next_model_prediction': 'James Lankford held the position of United States Senator from Oklahoma.'}\n"
     ]
    },
    {
     "name": "stderr",
     "output_type": "stream",
     "text": [
      " 94%|█████████▎| 47143/50310 [02:25<00:07, 401.83it/s]"
     ]
    },
    {
     "name": "stdout",
     "output_type": "stream",
     "text": [
      "Inertia:     {'cur_question': 'Avril Haines held which position in 2015?', 'gt_ans': 'Deputy National Security Advisor', 'next_model_prediction': 'Avril Haines held the position of Deputy National Security Advisor in 2015.'}\n",
      "Inertia:     {'cur_question': 'David Lidington held which position in 2018?', 'gt_ans': 'Minister for the Cabinet Office', 'next_model_prediction': 'He was the Minister for the Cabinet Office.'}\n",
      "Inertia:     {'cur_question': 'Muppavarapu Venkaiah Naidu held which position in 2017?', 'gt_ans': 'Vice President of India', 'next_model_prediction': 'Muppavarapu Venkaiah Naidu held the position of Vice President of India in 2017.'}\n",
      "Inertia:     {'cur_question': 'Michel Barnier held which position in 2010?', 'gt_ans': 'European Commissioner for Internal Market and Services', 'next_model_prediction': 'Michel Barnier held the position of European Commissioner for Internal Market and Services from 2010 to 2019.'}\n",
      "Inertia:     {'cur_question': 'Salvador Sánchez Cerén held which position in 2014?', 'gt_ans': 'President of El Salvador', 'next_model_prediction': 'President of El Salvador.'}\n"
     ]
    },
    {
     "name": "stderr",
     "output_type": "stream",
     "text": [
      " 94%|█████████▍| 47262/50310 [02:25<00:08, 361.89it/s]"
     ]
    },
    {
     "name": "stdout",
     "output_type": "stream",
     "text": [
      "Inertia:     {'cur_question': 'Rich Nugent held which position in 2010?', 'gt_ans': 'United States representative', 'next_model_prediction': \"Rich Nugent held the position of United States Representative for Florida's 5th congressional district from 2011 to 2\"}\n"
     ]
    },
    {
     "name": "stderr",
     "output_type": "stream",
     "text": [
      " 94%|█████████▍| 47448/50310 [02:26<00:06, 412.55it/s]"
     ]
    },
    {
     "name": "stdout",
     "output_type": "stream",
     "text": [
      "Inertia:     {'cur_question': 'Luke Hancock attended which university in 2011?', 'gt_ans': 'University of Louisville', 'next_model_prediction': 'University of Louisville.'}\n",
      "Inertia:     {'cur_question': 'McKenzie Milton attended which university in 2016?', 'gt_ans': 'University of Central Florida', 'next_model_prediction': 'University of Central Florida.'}\n"
     ]
    },
    {
     "name": "stderr",
     "output_type": "stream",
     "text": [
      " 95%|█████████▍| 47650/50310 [02:27<00:11, 231.37it/s]"
     ]
    },
    {
     "name": "stdout",
     "output_type": "stream",
     "text": [
      "Inertia:     {'cur_question': 'László Lovász was the chair of which entity in 2020?', 'gt_ans': 'International Mathematical Union.', 'next_model_prediction': 'László Lovász was the chair of the International Mathematical Union in 2020.'}\n"
     ]
    },
    {
     "name": "stderr",
     "output_type": "stream",
     "text": [
      " 95%|█████████▍| 47726/50310 [02:27<00:11, 215.78it/s]"
     ]
    },
    {
     "name": "stdout",
     "output_type": "stream",
     "text": [
      "Inertia:     {'cur_question': 'Oleksandr Turchynov held which position in 2020?', 'gt_ans': 'National Security and Defense Council of Ukraine.', 'next_model_prediction': 'He was the Secretary of the National Security and Defense Council of Ukraine.'}\n"
     ]
    },
    {
     "name": "stderr",
     "output_type": "stream",
     "text": [
      " 95%|█████████▌| 48035/50310 [02:28<00:05, 418.55it/s]"
     ]
    },
    {
     "name": "stdout",
     "output_type": "stream",
     "text": [
      "Inertia:     {'cur_question': 'Fawad Ahmed Chaudhry was a member of which party in 2016?', 'gt_ans': 'Pakistan Tehreek-e-Insaf', 'next_model_prediction': 'Pakistan Tehreek-e-Insaf (PTI)'}\n",
      "Inertia:     {'cur_question': 'Irene Lozano was a member of which party in 2015?', 'gt_ans': \"Spanish Socialist Workers' Party\", 'next_model_prediction': \"Irene Lozano was a member of the Spanish Socialist Workers' Party (PSOE) in 2015.\"}\n",
      "Inertia:     {'cur_question': 'Gérald Darmanin was a member of which party in 2015?', 'gt_ans': 'The Republicans', 'next_model_prediction': 'Gérald Darmanin was a member of the Republicans Party in 2015.'}\n"
     ]
    },
    {
     "name": "stderr",
     "output_type": "stream",
     "text": [
      " 96%|█████████▌| 48222/50310 [02:28<00:04, 520.39it/s]"
     ]
    },
    {
     "name": "stdout",
     "output_type": "stream",
     "text": [
      "Inertia:     {'cur_question': 'Naz Baloch was a member of which party in 2017?', 'gt_ans': 'Pakistan Tehreek-e-Insaf', 'next_model_prediction': 'Naz Baloch was a member of the Pakistan Tehreek-e-Insaf (PTI) party in 2017.'}\n"
     ]
    },
    {
     "name": "stderr",
     "output_type": "stream",
     "text": [
      " 96%|█████████▋| 48454/50310 [02:29<00:03, 534.13it/s]"
     ]
    },
    {
     "name": "stdout",
     "output_type": "stream",
     "text": [
      "Inertia:     {'cur_question': 'Niall Ferguson worked for which company in 2016?', 'gt_ans': 'Hoover Institution', 'next_model_prediction': 'Niall Ferguson worked for the financial firm, Stanford University, and the Hoover Institution.'}\n"
     ]
    },
    {
     "name": "stderr",
     "output_type": "stream",
     "text": [
      " 98%|█████████▊| 49294/50310 [02:30<00:01, 531.56it/s]"
     ]
    },
    {
     "name": "stdout",
     "output_type": "stream",
     "text": [
      "Inertia:     {'cur_question': 'Chris Dercon worked for which company in 2018?', 'gt_ans': 'Tate Modern', 'next_model_prediction': 'Chris Dercon worked for the Tate Modern museum in 2018.'}\n",
      "Inertia:     {'cur_question': 'Nicolás Maduro held which position in 2020?', 'gt_ans': 'Venezuela.', 'next_model_prediction': 'Nicolás Maduro held the position of President of Venezuela in 2020.'}\n",
      "Inertia:     {'cur_question': 'Jean Charest held which position in 2012?', 'gt_ans': 'Quebec.', 'next_model_prediction': 'He was the premier of Quebec, Canada.'}\n"
     ]
    },
    {
     "name": "stderr",
     "output_type": "stream",
     "text": [
      " 98%|█████████▊| 49348/50310 [02:31<00:02, 409.51it/s]"
     ]
    },
    {
     "name": "stdout",
     "output_type": "stream",
     "text": [
      "Inertia:     {'cur_question': 'Pauline Marois held which position in 2014?', 'gt_ans': 'Quebec.', 'next_model_prediction': 'Prime Minister of Quebec, Canada.'}\n",
      "Inertia:     {'cur_question': 'François Legault held which position in 2020?', 'gt_ans': 'Quebec.', 'next_model_prediction': 'François Legault held the position of Premier of Quebec, Canada from 2018 to 20'}\n"
     ]
    },
    {
     "name": "stderr",
     "output_type": "stream",
     "text": [
      " 98%|█████████▊| 49432/50310 [02:31<00:03, 288.18it/s]"
     ]
    },
    {
     "name": "stdout",
     "output_type": "stream",
     "text": [
      "Inertia:     {'cur_question': 'Rafał Trzaskowski held which position in 2020?', 'gt_ans': 'Warsaw.', 'next_model_prediction': 'Rafał Trzaskowski held the position of Mayor of Warsaw, Poland in 2020.'}\n"
     ]
    },
    {
     "name": "stderr",
     "output_type": "stream",
     "text": [
      " 98%|█████████▊| 49525/50310 [02:31<00:03, 260.71it/s]"
     ]
    },
    {
     "name": "stdout",
     "output_type": "stream",
     "text": [
      "Inertia:     {'cur_question': 'Fabian Picardo was the chair of which entity in 2020?', 'gt_ans': 'Gibraltar.', 'next_model_prediction': 'Fabian Picardo was the Chair of the Gibraltar Government in 2020.'}\n",
      "Inertia:     {'cur_question': \"Barry O'Farrell held which position in 2014?\", 'gt_ans': 'New South Wales.', 'next_model_prediction': \"Barry O'Farrell held the position of Premier of New South Wales from 2011 to 2014.\"}\n",
      "Inertia:     {'cur_question': 'Gladys Berejiklian held which position in 2020?', 'gt_ans': 'New South Wales.', 'next_model_prediction': 'Gladys Berejiklian held the position of Premier of New South Wales in 2020.'}\n"
     ]
    },
    {
     "name": "stderr",
     "output_type": "stream",
     "text": [
      " 99%|█████████▊| 49579/50310 [02:32<00:02, 247.06it/s]"
     ]
    },
    {
     "name": "stdout",
     "output_type": "stream",
     "text": [
      "Inertia:     {'cur_question': 'Stephan Weil is the head of the government of which state in 2013?', 'gt_ans': 'Lower Saxony.', 'next_model_prediction': 'Stephan Weil is the head of the government of the state of Lower Saxony in 2013.'}\n"
     ]
    },
    {
     "name": "stderr",
     "output_type": "stream",
     "text": [
      "100%|█████████▉| 50132/50310 [02:35<00:00, 367.52it/s]"
     ]
    },
    {
     "name": "stdout",
     "output_type": "stream",
     "text": [
      "Inertia:     {'cur_question': 'South China Morning Post is owned by whom in 2016?', 'gt_ans': 'Alibaba Group', 'next_model_prediction': 'South China Morning Post is owned by Alibaba Group.'}\n"
     ]
    },
    {
     "name": "stderr",
     "output_type": "stream",
     "text": [
      "100%|██████████| 50310/50310 [02:35<00:00, 323.93it/s]"
     ]
    },
    {
     "name": "stdout",
     "output_type": "stream",
     "text": [
      "Found 638 of 5042 shifts\n",
      "Entities in total:  8357\n"
     ]
    },
    {
     "name": "stderr",
     "output_type": "stream",
     "text": [
      "\n"
     ]
    }
   ],
   "source": [
    "# Get all backward shifts for each entity, then check only the last one\n",
    "\n",
    "\n",
    "def find_temporal_inertia():\n",
    "    current_entity = \"\"\n",
    "    entity_counter = 0\n",
    "\n",
    "    potential_shifts = 0\n",
    "    actual_shifts = 0\n",
    "\n",
    "\n",
    "    for line_id, row in tqdm(alpaca_predictions.iterrows(), total=50310):\n",
    "        _, question, answer = row\n",
    "\n",
    "        entity = get_entity(question, template_map)\n",
    "        if entity == current_entity:\n",
    "            continue\n",
    "\n",
    "        current_entity = entity\n",
    "        entity_rows = get_all_entity_rows(entity, templama)\n",
    "        entity_counter += 1\n",
    "        # print(\"\\n\\n\\nFound new entity: \", entity)\n",
    "        # print(\"This entity has \", len(entity_rows), \" rows\")\n",
    "        # print(entity_rows)\n",
    "        # print(\"\\n\\n\")\n",
    "        # if line_id > 100: break\n",
    "        shifts = []\n",
    "        i = 0\n",
    "        for i, obj in enumerate(entity_rows.iterrows()):\n",
    "            q_id, gt_entity_row = obj\n",
    "            # print(f\"step {i} of {len(entity_rows)}\")\n",
    "            if i == len(entity_rows) - 1: continue\n",
    "\n",
    "            cur_question = gt_entity_row[\"Question\"]\n",
    "            gt_answer = gt_entity_row[\"Answer\"]\n",
    "            next_gt_answer = entity_rows.iloc[i + 1][\"Answer\"]\n",
    "            next_question = entity_rows.iloc[i + 1][\"Question\"]\n",
    "\n",
    "            model_prediction = alpaca_predictions.iloc[q_id][\"answer\"]\n",
    "            next_model_prediction = alpaca_predictions.iloc[q_id + 1][\"answer\"]\n",
    "\n",
    "            # Identify temporal shift spots\n",
    "            # TODO: be careful around answers containing __or__\n",
    "            if gt_answer != next_gt_answer:\n",
    "\n",
    "                gt_answers = gt_answer.split(\"__or__\")\n",
    "                next_gt_answers = next_gt_answer.split(\"__or__\")\n",
    "                # print(\"GT answers: \", gt_answers)\n",
    "                # print(\"Next GT answers: \", next_gt_answers)\n",
    "\n",
    "                # # Check forward: year, year + 1\n",
    "                # print(\"********* Forward check *********\")\n",
    "                # for gt_ans in gt_answers:\n",
    "                #     for next_gt_ans in next_gt_answers:\n",
    "                #         if gt_ans == next_gt_ans:\n",
    "                #             continue # this is not a shift since both answers are the same\n",
    "                #         elif next_gt_ans not in gt_answers:\n",
    "                #             # print(f\"\\n\\nFound potential shift spot if gt ({gt_ans}) is predicted as next gt ({next_gt_ans}) by model. Initial question was: {cur_question}\")\n",
    "                #             # print(f\"The actual model prediction is {model_prediction}\")\n",
    "                #             # print(f\"Shift if model predicted next GT\")\n",
    "                #             # print(f\"GT this year: {gt_ans}\")\n",
    "                #             # print(f\"GT next year: {next_gt_ans}\")\n",
    "                #             # print(f\"Model prediction this year: {model_prediction}\")\n",
    "                #             # potential_shifts += 1\n",
    "                #             shift = {\n",
    "                #                 \"cur_question\": cur_question,\n",
    "                #                 \"next_gt_ans\": next_gt_ans,\n",
    "                #                 \"model_prediction\": model_prediction\n",
    "                #             }\n",
    "                #             print(\"Shift: \", shift)\n",
    "                #             shifts.append(shift)\n",
    "\n",
    "                # print(\"********* Backward check *********\")\n",
    "                # Check backward: year + 1, year\n",
    "                for next_gt_ans in next_gt_answers:\n",
    "                    for gt_ans in gt_answers:\n",
    "                        if next_gt_ans == gt_ans:\n",
    "                            continue\n",
    "                        elif gt_ans not in next_gt_answers:\n",
    "                            # print(f\"\\n\\nFound potential shift spot if this gt ({next_gt_ans}) is predicted as previous gt ({gt_ans}) by model. Initial question was: {next_question}\")\n",
    "                            # print(f\"The actual model prediction is {next_model_prediction}\")\n",
    "                            \n",
    "                            # print(f\"Shift if model predicted previous GT\")\n",
    "                            # print(f\"GT this year: {next_gt_ans}\")\n",
    "                            # print(f\"GT previous year: {gt_ans}\")\n",
    "                            # print(f\"Model prediction this year: {next_model_prediction}\")\n",
    "                            # potential_shifts += 1\n",
    "                            shift = {\n",
    "                                \"cur_question\": cur_question,\n",
    "                                \"gt_ans\": next_gt_ans,\n",
    "                                \"next_model_prediction\": model_prediction\n",
    "                            }\n",
    "                            # print(\"Shift: \", shift)\n",
    "                            shifts.append(shift)\n",
    "                            # is_equivalent_contains(cur_question, gt_ans, next_model_prediction):\n",
    "\n",
    "\n",
    "        # Select last shift\n",
    "        if len(shifts) > 0:\n",
    "            potential_shifts += 1\n",
    "            shift = shifts[-1]\n",
    "\n",
    "\n",
    "            # After finding all, check for the last one\n",
    "            if is_equivalent_contains(shift['cur_question'], shift['gt_ans'], shift['next_model_prediction']):\n",
    "                # print(\"--------> Model prediction matches next gt answer - Found a shift!\")\n",
    "                print(\"Inertia:    \", shift)\n",
    "                actual_shifts += 1\n",
    "\n",
    "\n",
    "    print(f\"Found {actual_shifts} of {potential_shifts} shifts\")\n",
    "    print(\"Entities in total: \", entity_counter)\n",
    "\n",
    "find_temporal_inertia()"
   ]
  },
  {
   "cell_type": "code",
   "execution_count": null,
   "metadata": {},
   "outputs": [],
   "source": []
  }
 ],
 "metadata": {
  "kernelspec": {
   "display_name": "temp",
   "language": "python",
   "name": "python3"
  },
  "language_info": {
   "codemirror_mode": {
    "name": "ipython",
    "version": 3
   },
   "file_extension": ".py",
   "mimetype": "text/x-python",
   "name": "python",
   "nbconvert_exporter": "python",
   "pygments_lexer": "ipython3",
   "version": "3.10.10"
  },
  "orig_nbformat": 4
 },
 "nbformat": 4,
 "nbformat_minor": 2
}
