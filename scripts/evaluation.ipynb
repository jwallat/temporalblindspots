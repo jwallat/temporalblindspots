{
 "cells": [
  {
   "attachments": {},
   "cell_type": "markdown",
   "metadata": {},
   "source": [
    "## Imports/Prerequisites"
   ]
  },
  {
   "cell_type": "code",
   "execution_count": 1,
   "metadata": {},
   "outputs": [],
   "source": [
    "import pandas as pd\n",
    "from tqdm import tqdm\n",
    "from evaluate import load\n",
    "\n",
    "def load_dataset(ds_path):\n",
    "    data = pd.read_csv(ds_path)\n",
    "    # TODO: Clean the __or__ occurrences and save in usable format for evaluation\n",
    "\n",
    "    return data"
   ]
  },
  {
   "attachments": {},
   "cell_type": "markdown",
   "metadata": {},
   "source": [
    "## Variables to be set by user"
   ]
  },
  {
   "cell_type": "code",
   "execution_count": 2,
   "metadata": {},
   "outputs": [],
   "source": [
    "### Vars\n",
    "\n",
    "# data, question_type = load_dataset(\"/home/wallat/temporal-llms/data/Event-focused Questions/Explicitly Time-Scoped Questions.csv\"), \"explicit\"\n",
    "# data, question_type = load_dataset(\"/home/wallat/temporal-llms/data/Event-focused Questions/Implicitly Time-Scoped Questions.csv\"), \"implicit\"\n",
    "# data, question_type = load_dataset(\"/home/wallat/temporal-llms/data/ArchivalQA/splits/ArchivalQATime/ArchivalQATime_train.csv\"), \"ArchivalQA_time\"\n",
    "data, question_type = load_dataset(\"/home/wallat/temporal-llms/data/templama/preprocessed/templamaQA.csv\"), \"TempLAMA\"\n",
    "# print('Dataset head: ', data.head())\n",
    "\n",
    "# Text-davinci-003\n",
    "# prediction_data, model_name = pd.read_csv(\"/home/wallat/temporal-llms/gpt_text-davinci-003_predictions_explicit_tuned_examples_predictions.csv\", sep=\"\\t\"), \"text-davinci-003\"\n",
    "# prediction_data, model_name = pd.read_csv(\"/home/wallat/temporal-llms/data/predictions/gpt_text-davinci-003_predictions_implicit_tuned_examples_predictions.csv\", sep=\"\\t\"), \"text-davinci-003\"\n",
    "prediction_data, model_name = pd.read_csv(\"/home/wallat/temporal-llms/data/predictions/davinci/text-davinci-003_TempLAMA_all_tuned_examples_predictions_2023_05_30T09:17.csv_ordered\", sep=\"\\t\"), \"text-davinci-003\"\n",
    "# Alpaca-7B\n",
    "# prediction_data, model_name = pd.read_csv(\"/home/wallat/temporal-llms/alpaca-7b_predictions_explicit.csv\", sep=\"\\t\"), \"alpaca-7B\"\n",
    "# prediction_data, model_name = pd.read_csv(\"/home/wallat/temporal-llms/alpaca-7b_predictions_implicit.csv\", sep=\"\\t\"), \"alpaca-7B\"\n",
    "\n",
    "# print(\"Model predictions head: \", prediction_data.head())"
   ]
  },
  {
   "attachments": {},
   "cell_type": "markdown",
   "metadata": {},
   "source": [
    "## Evaluation"
   ]
  },
  {
   "cell_type": "code",
   "execution_count": 3,
   "metadata": {},
   "outputs": [
    {
     "name": "stdout",
     "output_type": "stream",
     "text": [
      "{'id': '14', 'question': 'David Beckham played for which team in 2013?', 'answers': ['Paris Saint-Germain'], 'type': 'TempLAMA'}\n",
      "{'id': '14', 'answers': {'answer_start': [0], 'text': ['Paris Saint-Germain']}}\n"
     ]
    }
   ],
   "source": [
    "# Converts dataset to reference format (huggingface evaluate)\n",
    "# Also splits temporal questions answers that contains multiple possible answers with __or__\n",
    "\n",
    "dataset = []\n",
    "\n",
    "for index in range(0, len(data)):\n",
    "    row = data.iloc[index]\n",
    "\n",
    "    answers = row['Answer']\n",
    "    if \"__or__\" in answers:\n",
    "        answers = answers.split(\"__or__\")\n",
    "    else:\n",
    "        answers = [answers]\n",
    "    \n",
    "    dataset.append({\"id\": str(index), \"question\": row['Question'], \"answers\": answers, \"type\": question_type})\n",
    "\n",
    "print(dataset[14])\n",
    "\n",
    "# Convert to reference format (evaluate library)\n",
    "# {'answers': {'answer_start': [97], 'text': ['1976']}, 'id': '0'}\n",
    "references = []\n",
    "\n",
    "for ele in dataset:\n",
    "    answers = ele['answers']\n",
    "    answer_starts = []\n",
    "\n",
    "    ref = {\"id\": str(ele[\"id\"]), 'answers': {'answer_start': len(answers)*[0], 'text': answers}}\n",
    "\n",
    "    references.append(ref)\n",
    "\n",
    "print(references[14])"
   ]
  },
  {
   "cell_type": "code",
   "execution_count": 4,
   "metadata": {},
   "outputs": [
    {
     "data": {
      "text/plain": [
       "{'prediction_text': 'Paris Saint-Germain.', 'id': '14'}"
      ]
     },
     "execution_count": 4,
     "metadata": {},
     "output_type": "execute_result"
    }
   ],
   "source": [
    "# Converts predictions to reference format\n",
    "\n",
    "predictions = []\n",
    "\n",
    "for index in range(0, len(prediction_data)):\n",
    "    # print(index)\n",
    "    row = prediction_data.iloc[index]\n",
    "\n",
    "    predictions.append({\"prediction_text\": row['answer'], \"id\": str(row['q_id'])})\n",
    "\n",
    "predictions[14]"
   ]
  },
  {
   "cell_type": "code",
   "execution_count": 5,
   "metadata": {},
   "outputs": [
    {
     "name": "stdout",
     "output_type": "stream",
     "text": [
      "The text-davinci-003 model on TemporalQuestions TempLAMA:\n",
      "{'exact_match': 16.289008149473265, 'f1': 30.706724000224852, 'contains': 17.563108725899422}\n"
     ]
    }
   ],
   "source": [
    "# EM/F1\n",
    "squad_metric = load(\"squad\")\n",
    "results = squad_metric.compute(predictions=predictions, references=references)\n",
    "\n",
    "\n",
    "# New metric \"contains answer\"\n",
    "num_contains = 0\n",
    "\n",
    "for pred, ref in zip(predictions, references):\n",
    "    # print(pred)\n",
    "    # print(ref)\n",
    "\n",
    "    predicted_answer = pred['prediction_text'].lower()\n",
    "    ref_answers = ref['answers']['text']\n",
    "    ref_answers = [x.lower() for x in ref_answers]\n",
    "\n",
    "    # print(predicted_answer)\n",
    "    # print(ref_answers)\n",
    "\n",
    "    contained = False\n",
    "    for ref_answer in ref_answers:\n",
    "        if ref_answer in predicted_answer:\n",
    "            contained = True\n",
    "    \n",
    "    if contained:\n",
    "        num_contains += 1\n",
    "\n",
    "# print(f\"The ground-truth answer was contained in the prediction {num_contains} times -> {num_contains/len(references)}\")\n",
    "results[\"contains\"] = (num_contains/len(references)) * 100\n",
    "\n",
    "print(f\"The {model_name} model on TemporalQuestions {question_type}:\\n{results}\")"
   ]
  },
  {
   "cell_type": "code",
   "execution_count": 7,
   "metadata": {},
   "outputs": [
    {
     "data": {
      "text/plain": [
       "['The Church of England', 'Mavericks', 'Buckley']"
      ]
     },
     "execution_count": 7,
     "metadata": {},
     "output_type": "execute_result"
    }
   ],
   "source": [
    "predictions[:3]\n",
    "\n",
    "preds = []\n",
    "for pred in predictions:\n",
    "    preds.append(pred['prediction_text'])\n",
    "\n",
    "refs = []\n",
    "for ref in references:\n",
    "    refs.append(ref['answers']['text'][0])\n",
    "\n",
    "refs[:3]"
   ]
  },
  {
   "cell_type": "code",
   "execution_count": 8,
   "metadata": {},
   "outputs": [
    {
     "data": {
      "text/plain": [
       "{'precision': [0.8026286959648132, 0.8540196418762207, 0.9622761011123657],\n",
       " 'recall': [0.8769065737724304, 0.8983532190322876, 0.9246299266815186],\n",
       " 'f1': [0.8381251096725464, 0.8756256699562073, 0.9430775046348572],\n",
       " 'hashcode': 'roberta-large_L17_idf_version=0.3.12(hug_trans=4.29.0.dev0)'}"
      ]
     },
     "execution_count": 8,
     "metadata": {},
     "output_type": "execute_result"
    }
   ],
   "source": [
    "bertscore_metric = load(\"bertscore\")\n",
    "results = bertscore_metric.compute(predictions=preds[:3], references=refs[:3], lang=\"en\", idf=True)\n",
    "\n",
    "results"
   ]
  },
  {
   "cell_type": "code",
   "execution_count": 1,
   "metadata": {},
   "outputs": [
    {
     "ename": "AttributeError",
     "evalue": "'dict' object has no attribute 'append'",
     "output_type": "error",
     "traceback": [
      "\u001b[0;31m---------------------------------------------------------------------------\u001b[0m",
      "\u001b[0;31mAttributeError\u001b[0m                            Traceback (most recent call last)",
      "Cell \u001b[0;32mIn[1], line 3\u001b[0m\n\u001b[1;32m      1\u001b[0m d \u001b[39m=\u001b[39m {\u001b[39m'\u001b[39m\u001b[39mexact_match\u001b[39m\u001b[39m'\u001b[39m: \u001b[39m47.6\u001b[39m, \u001b[39m'\u001b[39m\u001b[39mf1\u001b[39m\u001b[39m'\u001b[39m: \u001b[39m60.71807574167095\u001b[39m, \u001b[39m'\u001b[39m\u001b[39mcontains\u001b[39m\u001b[39m'\u001b[39m: \u001b[39m66.4\u001b[39m}\n\u001b[0;32m----> 3\u001b[0m d\u001b[39m.\u001b[39;49mappend(results)\n",
      "\u001b[0;31mAttributeError\u001b[0m: 'dict' object has no attribute 'append'"
     ]
    }
   ],
   "source": [
    "d = {'exact_match': 47.6, 'f1': 60.71807574167095, 'contains': 66.4}\n",
    "\n",
    "d.append(results)"
   ]
  },
  {
   "cell_type": "code",
   "execution_count": 33,
   "metadata": {},
   "outputs": [],
   "source": [
    "# Log to wandb\n",
    "# import wandb\n",
    "\n",
    "# naming format: run_name = f\"{args.model_name}_{ds_name}_{question_type}_{args.prompt_name}\"\n",
    "# wandb.init(project=\"temporal-ir\", name=f\"{model_name}_TemporalQuestions_{question_type}_default\")\n",
    "# wandb.log(results)"
   ]
  }
 ],
 "metadata": {
  "kernelspec": {
   "display_name": "temp",
   "language": "python",
   "name": "python3"
  },
  "language_info": {
   "codemirror_mode": {
    "name": "ipython",
    "version": 3
   },
   "file_extension": ".py",
   "mimetype": "text/x-python",
   "name": "python",
   "nbconvert_exporter": "python",
   "pygments_lexer": "ipython3",
   "version": "3.9.16"
  },
  "orig_nbformat": 4
 },
 "nbformat": 4,
 "nbformat_minor": 2
}
