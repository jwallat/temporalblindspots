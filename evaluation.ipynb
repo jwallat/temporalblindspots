{
 "cells": [
  {
   "attachments": {},
   "cell_type": "markdown",
   "metadata": {},
   "source": [
    "## Imports/Prerequisites"
   ]
  },
  {
   "cell_type": "code",
   "execution_count": 25,
   "metadata": {},
   "outputs": [],
   "source": [
    "import pandas as pd\n",
    "from tqdm import tqdm\n",
    "from evaluate import load\n",
    "\n",
    "def load_dataset(ds_path):\n",
    "    data = pd.read_csv(ds_path)\n",
    "    # TODO: Clean the __or__ occurrences and save in usable format for evaluation\n",
    "\n",
    "    return data"
   ]
  },
  {
   "attachments": {},
   "cell_type": "markdown",
   "metadata": {},
   "source": [
    "## Variables to be set by user"
   ]
  },
  {
   "cell_type": "code",
   "execution_count": 26,
   "metadata": {},
   "outputs": [],
   "source": [
    "### Vars\n",
    "\n",
    "data, question_type = load_dataset(\"/home/wallat/temporal-llms/data/Event-focused Questions/Explicitly Time-Scoped Questions.csv\"), \"explicit\"\n",
    "data, question_type = load_dataset(\"/home/wallat/temporal-llms/data/Event-focused Questions/Implicitly Time-Scoped Questions.csv\"), \"implicit\"\n",
    "# print('Dataset head: ', data.head())\n",
    "\n",
    "# Text-davinci-003\n",
    "# prediction_data, model_name = pd.read_csv(\"/home/wallat/temporal-llms/gpt_text-davinci-003_predictions_explicit_tuned_examples_predictions.csv\", sep=\"\\t\"), \"text-davinci-003\"\n",
    "prediction_data, model_name = pd.read_csv(\"/home/wallat/temporal-llms/gpt_text-davinci-003_predictions_implicit_tuned_examples_predictions.csv\", sep=\"\\t\"), \"text-davinci-003\"\n",
    "\n",
    "# Alpaca-7B\n",
    "# prediction_data, model_name = pd.read_csv(\"/home/wallat/temporal-llms/alpaca-7b_predictions_explicit.csv\", sep=\"\\t\"), \"alpaca-7B\"\n",
    "# prediction_data, model_name = pd.read_csv(\"/home/wallat/temporal-llms/alpaca-7b_predictions_implicit.csv\", sep=\"\\t\"), \"alpaca-7B\"\n",
    "\n",
    "# print(\"Model predictions head: \", prediction_data.head())"
   ]
  },
  {
   "attachments": {},
   "cell_type": "markdown",
   "metadata": {},
   "source": [
    "## Evaluation"
   ]
  },
  {
   "cell_type": "code",
   "execution_count": 27,
   "metadata": {},
   "outputs": [
    {
     "name": "stdout",
     "output_type": "stream",
     "text": [
      "{'id': '14', 'question': 'Which province had a referendum to ask voters whether it should secede from Canada?', 'answers': ['Quebec'], 'type': 'implicit'}\n",
      "{'id': '14', 'answers': {'answer_start': [0], 'text': ['Quebec']}}\n"
     ]
    }
   ],
   "source": [
    "# Converts dataset to reference format (huggingface evaluate)\n",
    "# Also splits temporal questions answers that contains multiple possible answers with __or__\n",
    "\n",
    "dataset = []\n",
    "\n",
    "for index in range(0, len(data)):\n",
    "    row = data.iloc[index]\n",
    "\n",
    "    answers = row['Answer']\n",
    "    if \"__or__\" in answers:\n",
    "        answers = answers.split(\"__or__\")\n",
    "    else:\n",
    "        answers = [answers]\n",
    "    \n",
    "    dataset.append({\"id\": str(index), \"question\": row['Question'], \"answers\": answers, \"type\": question_type})\n",
    "\n",
    "print(dataset[14])\n",
    "\n",
    "# Convert to reference format (evaluate library)\n",
    "# {'answers': {'answer_start': [97], 'text': ['1976']}, 'id': '0'}\n",
    "references = []\n",
    "\n",
    "for ele in dataset:\n",
    "    answers = ele['answers']\n",
    "    answer_starts = []\n",
    "\n",
    "    ref = {\"id\": str(ele[\"id\"]), 'answers': {'answer_start': len(answers)*[0], 'text': answers}}\n",
    "\n",
    "    references.append(ref)\n",
    "\n",
    "print(references[14])"
   ]
  },
  {
   "cell_type": "code",
   "execution_count": 28,
   "metadata": {},
   "outputs": [
    {
     "data": {
      "text/plain": [
       "{'prediction_text': 'Quebec', 'id': '14'}"
      ]
     },
     "execution_count": 28,
     "metadata": {},
     "output_type": "execute_result"
    }
   ],
   "source": [
    "# Converts predictions to reference format\n",
    "\n",
    "predictions = []\n",
    "\n",
    "for index in range(0, len(prediction_data)):\n",
    "    # print(index)\n",
    "    row = prediction_data.iloc[index]\n",
    "\n",
    "    predictions.append({\"prediction_text\": row['answer'], \"id\": str(row['q_id'])})\n",
    "\n",
    "predictions[14]"
   ]
  },
  {
   "cell_type": "code",
   "execution_count": 29,
   "metadata": {},
   "outputs": [
    {
     "name": "stdout",
     "output_type": "stream",
     "text": [
      "The text-davinci-003 model on TemporalQuestions implicit:\n",
      "{'exact_match': 47.6, 'f1': 60.71807574167095, 'contains': 66.4}\n"
     ]
    }
   ],
   "source": [
    "# EM/F1\n",
    "squad_metric = load(\"squad\")\n",
    "results = squad_metric.compute(predictions=predictions, references=references)\n",
    "\n",
    "\n",
    "# New metric \"contains answer\"\n",
    "num_contains = 0\n",
    "\n",
    "for pred, ref in zip(predictions, references):\n",
    "    # print(pred)\n",
    "    # print(ref)\n",
    "\n",
    "    predicted_answer = pred['prediction_text'].lower()\n",
    "    ref_answers = ref['answers']['text']\n",
    "    ref_answers = [x.lower() for x in ref_answers]\n",
    "\n",
    "    # print(predicted_answer)\n",
    "    # print(ref_answers)\n",
    "\n",
    "    contained = False\n",
    "    for ref_answer in ref_answers:\n",
    "        if ref_answer in predicted_answer:\n",
    "            contained = True\n",
    "    \n",
    "    if contained:\n",
    "        num_contains += 1\n",
    "\n",
    "# print(f\"The ground-truth answer was contained in the prediction {num_contains} times -> {num_contains/len(references)}\")\n",
    "results[\"contains\"] = (num_contains/len(references)) * 100\n",
    "\n",
    "print(f\"The {model_name} model on TemporalQuestions {question_type}:\\n{results}\")"
   ]
  },
  {
   "cell_type": "code",
   "execution_count": 30,
   "metadata": {},
   "outputs": [
    {
     "data": {
      "text/html": [
       "Finishing last run (ID:9gdivwuj) before initializing another..."
      ],
      "text/plain": [
       "<IPython.core.display.HTML object>"
      ]
     },
     "metadata": {},
     "output_type": "display_data"
    },
    {
     "data": {
      "text/html": [
       "Waiting for W&B process to finish... <strong style=\"color:green\">(success).</strong>"
      ],
      "text/plain": [
       "<IPython.core.display.HTML object>"
      ]
     },
     "metadata": {},
     "output_type": "display_data"
    },
    {
     "data": {
      "application/vnd.jupyter.widget-view+json": {
       "model_id": "3c89c97b4ca84fa2be20d840590c04b5",
       "version_major": 2,
       "version_minor": 0
      },
      "text/plain": [
       "VBox(children=(Label(value='0.014 MB of 0.023 MB uploaded (0.000 MB deduped)\\r'), FloatProgress(value=0.607243…"
      ]
     },
     "metadata": {},
     "output_type": "display_data"
    },
    {
     "data": {
      "text/html": [
       "<style>\n",
       "    table.wandb td:nth-child(1) { padding: 0 10px; text-align: left ; width: auto;} td:nth-child(2) {text-align: left ; width: 100%}\n",
       "    .wandb-row { display: flex; flex-direction: row; flex-wrap: wrap; justify-content: flex-start; width: 100% }\n",
       "    .wandb-col { display: flex; flex-direction: column; flex-basis: 100%; flex: 1; padding: 10px; }\n",
       "    </style>\n",
       "<div class=\"wandb-row\"><div class=\"wandb-col\"><h3>Run history:</h3><br/><table class=\"wandb\"><tr><td>contains</td><td>▁</td></tr><tr><td>exact_match</td><td>▁</td></tr><tr><td>f1</td><td>▁</td></tr></table><br/></div><div class=\"wandb-col\"><h3>Run summary:</h3><br/><table class=\"wandb\"><tr><td>contains</td><td>72.0</td></tr><tr><td>exact_match</td><td>56.4</td></tr><tr><td>f1</td><td>67.17504</td></tr></table><br/></div></div>"
      ],
      "text/plain": [
       "<IPython.core.display.HTML object>"
      ]
     },
     "metadata": {},
     "output_type": "display_data"
    },
    {
     "data": {
      "text/html": [
       " View run <strong style=\"color:#cdcd00\">text-davinci-003_TemporalQuestions_explicit_default</strong> at: <a href='https://wandb.ai/vheyh/temporal-ir/runs/9gdivwuj' target=\"_blank\">https://wandb.ai/vheyh/temporal-ir/runs/9gdivwuj</a><br/>Synced 6 W&B file(s), 0 media file(s), 0 artifact file(s) and 0 other file(s)"
      ],
      "text/plain": [
       "<IPython.core.display.HTML object>"
      ]
     },
     "metadata": {},
     "output_type": "display_data"
    },
    {
     "data": {
      "text/html": [
       "Find logs at: <code>./wandb/run-20230421_125954-9gdivwuj/logs</code>"
      ],
      "text/plain": [
       "<IPython.core.display.HTML object>"
      ]
     },
     "metadata": {},
     "output_type": "display_data"
    },
    {
     "data": {
      "text/html": [
       "Successfully finished last run (ID:9gdivwuj). Initializing new run:<br/>"
      ],
      "text/plain": [
       "<IPython.core.display.HTML object>"
      ]
     },
     "metadata": {},
     "output_type": "display_data"
    },
    {
     "data": {
      "application/vnd.jupyter.widget-view+json": {
       "model_id": "9bfb2315c7404697b4a95e642ed4c029",
       "version_major": 2,
       "version_minor": 0
      },
      "text/plain": [
       "VBox(children=(Label(value='Waiting for wandb.init()...\\r'), FloatProgress(value=0.016668996214866637, max=1.0…"
      ]
     },
     "metadata": {},
     "output_type": "display_data"
    },
    {
     "data": {
      "text/html": [
       "wandb version 0.15.0 is available!  To upgrade, please run:\n",
       " $ pip install wandb --upgrade"
      ],
      "text/plain": [
       "<IPython.core.display.HTML object>"
      ]
     },
     "metadata": {},
     "output_type": "display_data"
    },
    {
     "data": {
      "text/html": [
       "Tracking run with wandb version 0.14.2"
      ],
      "text/plain": [
       "<IPython.core.display.HTML object>"
      ]
     },
     "metadata": {},
     "output_type": "display_data"
    },
    {
     "data": {
      "text/html": [
       "Run data is saved locally in <code>/home/wallat/temporal-llms/wandb/run-20230421_130033-iswiss8x</code>"
      ],
      "text/plain": [
       "<IPython.core.display.HTML object>"
      ]
     },
     "metadata": {},
     "output_type": "display_data"
    },
    {
     "data": {
      "text/html": [
       "Syncing run <strong><a href='https://wandb.ai/vheyh/temporal-ir/runs/iswiss8x' target=\"_blank\">text-davinci-003_TemporalQuestions_implicit_default</a></strong> to <a href='https://wandb.ai/vheyh/temporal-ir' target=\"_blank\">Weights & Biases</a> (<a href='https://wandb.me/run' target=\"_blank\">docs</a>)<br/>"
      ],
      "text/plain": [
       "<IPython.core.display.HTML object>"
      ]
     },
     "metadata": {},
     "output_type": "display_data"
    },
    {
     "data": {
      "text/html": [
       " View project at <a href='https://wandb.ai/vheyh/temporal-ir' target=\"_blank\">https://wandb.ai/vheyh/temporal-ir</a>"
      ],
      "text/plain": [
       "<IPython.core.display.HTML object>"
      ]
     },
     "metadata": {},
     "output_type": "display_data"
    },
    {
     "data": {
      "text/html": [
       " View run at <a href='https://wandb.ai/vheyh/temporal-ir/runs/iswiss8x' target=\"_blank\">https://wandb.ai/vheyh/temporal-ir/runs/iswiss8x</a>"
      ],
      "text/plain": [
       "<IPython.core.display.HTML object>"
      ]
     },
     "metadata": {},
     "output_type": "display_data"
    }
   ],
   "source": [
    "# Log to wandb\n",
    "import wandb\n",
    "\n",
    "# naming format: run_name = f\"{args.model_name}_{ds_name}_{question_type}_{args.prompt_name}\"\n",
    "wandb.init(project=\"temporal-ir\", name=f\"{model_name}_TemporalQuestions_{question_type}_default\")\n",
    "wandb.log(results)"
   ]
  }
 ],
 "metadata": {
  "kernelspec": {
   "display_name": "temp",
   "language": "python",
   "name": "python3"
  },
  "language_info": {
   "codemirror_mode": {
    "name": "ipython",
    "version": 3
   },
   "file_extension": ".py",
   "mimetype": "text/x-python",
   "name": "python",
   "nbconvert_exporter": "python",
   "pygments_lexer": "ipython3",
   "version": "3.9.0"
  },
  "orig_nbformat": 4
 },
 "nbformat": 4,
 "nbformat_minor": 2
}
